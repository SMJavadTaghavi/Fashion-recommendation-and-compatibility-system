{
 "cells": [
  {
   "cell_type": "markdown",
   "metadata": {
    "id": "kPpkeLljTAbU"
   },
   "source": [
    "# Downloading and Initializing Data"
   ]
  },
  {
   "cell_type": "code",
   "execution_count": 6,
   "metadata": {
    "colab": {
     "base_uri": "https://localhost:8080/"
    },
    "id": "JSychGgqhOtY",
    "outputId": "1f37190c-b5e0-4d23-a4af-c92bc10626bb"
   },
   "outputs": [
    {
     "name": "stdout",
     "output_type": "stream",
     "text": [
      "Dataset URL: https://www.kaggle.com/datasets/dnepozitek/maryland-polyvore-images\n",
      "License(s): unknown\n",
      "Downloading maryland-polyvore-images.zip to /content\n",
      "100% 12.8G/12.8G [01:14<00:00, 214MB/s]\n",
      "100% 12.8G/12.8G [01:14<00:00, 184MB/s]\n"
     ]
    }
   ],
   "source": [
    "#!/bin/bash\n",
    "!kaggle datasets download dnepozitek/maryland-polyvore-images"
   ]
  },
  {
   "cell_type": "code",
   "execution_count": 1,
   "metadata": {
    "id": "7t2mJmU2EzEz"
   },
   "outputs": [],
   "source": [
    "import os\n",
    "import zipfile"
   ]
  },
  {
   "cell_type": "code",
   "execution_count": 2,
   "metadata": {
    "id": "EsJocPYfCX8r"
   },
   "outputs": [],
   "source": [
    "# Specify the path to the zip file\n",
    "zip_file_path = '/content/maryland-polyvore-images.zip'\n",
    "extract_to = '/content/maryland_polyvore'"
   ]
  },
  {
   "cell_type": "code",
   "execution_count": 3,
   "metadata": {
    "id": "b__M5ZqBCY_r"
   },
   "outputs": [],
   "source": [
    "# Create a folder to extract the zip file\n",
    "os.makedirs(extract_to, exist_ok=True)"
   ]
  },
  {
   "cell_type": "code",
   "execution_count": 7,
   "metadata": {
    "colab": {
     "base_uri": "https://localhost:8080/"
    },
    "id": "pTWIDxg7CaJm",
    "outputId": "fbc46282-8b95-41f5-a389-93d198ab7586"
   },
   "outputs": [
    {
     "name": "stdout",
     "output_type": "stream",
     "text": [
      "File extracted successfully!\n"
     ]
    }
   ],
   "source": [
    "# Extract the zip file\n",
    "with zipfile.ZipFile(zip_file_path, 'r') as zip_ref:\n",
    "    zip_ref.extractall(extract_to)\n",
    "\n",
    "print(\"File extracted successfully!\")"
   ]
  },
  {
   "cell_type": "markdown",
   "metadata": {
    "id": "cgEwsV1tFN9_"
   },
   "source": [
    "# Handling Dependencies"
   ]
  },
  {
   "cell_type": "code",
   "execution_count": 8,
   "metadata": {
    "colab": {
     "base_uri": "https://localhost:8080/"
    },
    "id": "7B9TyAX6M231",
    "outputId": "a36ec006-6ec1-432c-f414-2e49bc8971a4"
   },
   "outputs": [
    {
     "name": "stdout",
     "output_type": "stream",
     "text": [
      "PyTorch version: 2.5.0+cu121\n",
      "CUDA version: 12.1\n"
     ]
    }
   ],
   "source": [
    "import torch\n",
    "print('PyTorch version:', torch.__version__)\n",
    "print('CUDA version:', torch.version.cuda)"
   ]
  },
  {
   "cell_type": "code",
   "execution_count": 21,
   "metadata": {
    "colab": {
     "base_uri": "https://localhost:8080/"
    },
    "collapsed": true,
    "id": "ahj8MsiqNAKa",
    "outputId": "2c8b6e34-ad67-48b9-ffcf-aba97007e092"
   },
   "outputs": [
    {
     "name": "stdout",
     "output_type": "stream",
     "text": [
      "Using pip 24.1.2 from /usr/local/lib/python3.10/dist-packages/pip (python 3.10)\n",
      "Looking in links: https://data.pyg.org/whl/torch-2.0.0+cu118.html\n",
      "Requirement already satisfied: torch-scatter in /usr/local/lib/python3.10/dist-packages (2.1.2+pt20cu118)\n",
      "Requirement already satisfied: torch-sparse in /usr/local/lib/python3.10/dist-packages (0.6.18+pt20cu118)\n",
      "Requirement already satisfied: torch-cluster in /usr/local/lib/python3.10/dist-packages (1.6.3+pt20cu118)\n",
      "Requirement already satisfied: torch-spline-conv in /usr/local/lib/python3.10/dist-packages (1.2.2+pt20cu118)\n",
      "Requirement already satisfied: torch-geometric in /usr/local/lib/python3.10/dist-packages (2.6.1)\n",
      "Requirement already satisfied: scipy in /usr/local/lib/python3.10/dist-packages (from torch-sparse) (1.13.1)\n",
      "Requirement already satisfied: aiohttp in /usr/local/lib/python3.10/dist-packages (from torch-geometric) (3.10.10)\n",
      "Requirement already satisfied: fsspec in /usr/local/lib/python3.10/dist-packages (from torch-geometric) (2024.6.1)\n",
      "Requirement already satisfied: jinja2 in /usr/local/lib/python3.10/dist-packages (from torch-geometric) (3.1.4)\n",
      "Requirement already satisfied: numpy in /usr/local/lib/python3.10/dist-packages (from torch-geometric) (1.26.4)\n",
      "Requirement already satisfied: psutil>=5.8.0 in /usr/local/lib/python3.10/dist-packages (from torch-geometric) (5.9.5)\n",
      "Requirement already satisfied: pyparsing in /usr/local/lib/python3.10/dist-packages (from torch-geometric) (3.2.0)\n",
      "Requirement already satisfied: requests in /usr/local/lib/python3.10/dist-packages (from torch-geometric) (2.32.3)\n",
      "Requirement already satisfied: tqdm in /usr/local/lib/python3.10/dist-packages (from torch-geometric) (4.66.5)\n",
      "Requirement already satisfied: aiohappyeyeballs>=2.3.0 in /usr/local/lib/python3.10/dist-packages (from aiohttp->torch-geometric) (2.4.3)\n",
      "Requirement already satisfied: aiosignal>=1.1.2 in /usr/local/lib/python3.10/dist-packages (from aiohttp->torch-geometric) (1.3.1)\n",
      "Requirement already satisfied: attrs>=17.3.0 in /usr/local/lib/python3.10/dist-packages (from aiohttp->torch-geometric) (24.2.0)\n",
      "Requirement already satisfied: frozenlist>=1.1.1 in /usr/local/lib/python3.10/dist-packages (from aiohttp->torch-geometric) (1.4.1)\n",
      "Requirement already satisfied: multidict<7.0,>=4.5 in /usr/local/lib/python3.10/dist-packages (from aiohttp->torch-geometric) (6.1.0)\n",
      "Requirement already satisfied: yarl<2.0,>=1.12.0 in /usr/local/lib/python3.10/dist-packages (from aiohttp->torch-geometric) (1.16.0)\n",
      "Requirement already satisfied: async-timeout<5.0,>=4.0 in /usr/local/lib/python3.10/dist-packages (from aiohttp->torch-geometric) (4.0.3)\n",
      "Requirement already satisfied: MarkupSafe>=2.0 in /usr/local/lib/python3.10/dist-packages (from jinja2->torch-geometric) (3.0.2)\n",
      "Requirement already satisfied: charset-normalizer<4,>=2 in /usr/local/lib/python3.10/dist-packages (from requests->torch-geometric) (3.4.0)\n",
      "Requirement already satisfied: idna<4,>=2.5 in /usr/local/lib/python3.10/dist-packages (from requests->torch-geometric) (3.10)\n",
      "Requirement already satisfied: urllib3<3,>=1.21.1 in /usr/local/lib/python3.10/dist-packages (from requests->torch-geometric) (2.2.3)\n",
      "Requirement already satisfied: certifi>=2017.4.17 in /usr/local/lib/python3.10/dist-packages (from requests->torch-geometric) (2024.8.30)\n",
      "Requirement already satisfied: typing-extensions>=4.1.0 in /usr/local/lib/python3.10/dist-packages (from multidict<7.0,>=4.5->aiohttp->torch-geometric) (4.12.2)\n",
      "Requirement already satisfied: propcache>=0.2.0 in /usr/local/lib/python3.10/dist-packages (from yarl<2.0,>=1.12.0->aiohttp->torch-geometric) (0.2.0)\n"
     ]
    }
   ],
   "source": [
    "# Install PyTorch Geometric dependencies\n",
    "!pip install --verbose --no-cache-dir torch-scatter torch-sparse torch-cluster torch-spline-conv torch-geometric -f https://data.pyg.org/whl/torch-2.0.0+cu118.html"
   ]
  },
  {
   "cell_type": "code",
   "execution_count": 10,
   "metadata": {
    "colab": {
     "base_uri": "https://localhost:8080/"
    },
    "id": "4csVS2IUNMco",
    "outputId": "eaed419b-a818-4f5a-9ea4-f35465e005c5"
   },
   "outputs": [
    {
     "name": "stdout",
     "output_type": "stream",
     "text": [
      "Using device: cuda\n"
     ]
    }
   ],
   "source": [
    "# Set device to GPU if available\n",
    "device = torch.device('cuda' if torch.cuda.is_available() else 'cpu')\n",
    "print(f'Using device: {device}')"
   ]
  },
  {
   "cell_type": "code",
   "execution_count": 11,
   "metadata": {
    "colab": {
     "base_uri": "https://localhost:8080/"
    },
    "id": "2GerQMa5NQsS",
    "outputId": "592dcb74-5e96-46f4-849e-aea2032f13ae"
   },
   "outputs": [
    {
     "name": "stdout",
     "output_type": "stream",
     "text": [
      "GPU type: NVIDIA A100-SXM4-40GB\n"
     ]
    }
   ],
   "source": [
    "# Check GPU type\n",
    "gpu_info = !nvidia-smi --query-gpu=name --format=csv,noheader\n",
    "print(f\"GPU type: {gpu_info[0]}\")"
   ]
  },
  {
   "cell_type": "markdown",
   "metadata": {
    "id": "PtL6H1OmGE4I"
   },
   "source": [
    "# Data HandlingLibraries"
   ]
  },
  {
   "cell_type": "code",
   "execution_count": 12,
   "metadata": {
    "id": "oYCx7_gUNEog"
   },
   "outputs": [],
   "source": [
    "import os\n",
    "import torch\n",
    "from torch.utils.data import DataLoader, Dataset\n",
    "from torchvision import transforms, models\n",
    "from PIL import Image, UnidentifiedImageError  # To handle corrupted images\n",
    "import numpy as np\n",
    "import pandas as pd"
   ]
  },
  {
   "cell_type": "markdown",
   "metadata": {
    "id": "lOY441OHFVrv"
   },
   "source": [
    "# Data Handling"
   ]
  },
  {
   "cell_type": "code",
   "execution_count": 13,
   "metadata": {
    "collapsed": true,
    "id": "4QhCAdNc1qhK"
   },
   "outputs": [],
   "source": [
    "# Directory where all user folders are located\n",
    "base_dir = '/content/maryland_polyvore/images/'\n",
    "\n",
    "# Create lists to store user IDs and item paths\n",
    "user_ids = []\n",
    "item_paths = []\n",
    "\n",
    "# Loop through each user directory\n",
    "for user_dir in os.listdir(base_dir):\n",
    "    user_path = os.path.join(base_dir, user_dir)\n",
    "\n",
    "    # Ensure we are processing directories\n",
    "    if os.path.isdir(user_path):\n",
    "        # Loop through each image (item) in the user's directory\n",
    "        for item in os.listdir(user_path):\n",
    "            item_path = os.path.join(user_path, item)\n",
    "\n",
    "            # Store user ID (directory name) and item path\n",
    "            user_ids.append(user_dir)\n",
    "            item_paths.append(item_path)\n",
    "\n",
    "# Create a DataFrame with two columns: User_ID and Item_Path\n",
    "df = pd.DataFrame({'User_ID': user_ids, 'Item_Path': item_paths})\n",
    "\n",
    "# Display the DataFrame\n",
    "df.head()\n",
    "\n",
    "# If you want to save this DataFrame for later use:\n",
    "df.to_csv('/content/maryland_polyvore/user_item_data.csv', index=False)"
   ]
  },
  {
   "cell_type": "code",
   "execution_count": 14,
   "metadata": {
    "colab": {
     "base_uri": "https://localhost:8080/",
     "height": 423
    },
    "id": "3DNFqnaVGBgu",
    "outputId": "423eab45-fed3-4d00-d1d6-85156433737e"
   },
   "outputs": [
    {
     "data": {
      "application/vnd.google.colaboratory.intrinsic+json": {
       "type": "dataframe",
       "variable_name": "df"
      },
      "text/html": [
       "\n",
       "  <div id=\"df-92b2d0bd-68fb-4e5f-a421-0299fe3184a8\" class=\"colab-df-container\">\n",
       "    <div>\n",
       "<style scoped>\n",
       "    .dataframe tbody tr th:only-of-type {\n",
       "        vertical-align: middle;\n",
       "    }\n",
       "\n",
       "    .dataframe tbody tr th {\n",
       "        vertical-align: top;\n",
       "    }\n",
       "\n",
       "    .dataframe thead th {\n",
       "        text-align: right;\n",
       "    }\n",
       "</style>\n",
       "<table border=\"1\" class=\"dataframe\">\n",
       "  <thead>\n",
       "    <tr style=\"text-align: right;\">\n",
       "      <th></th>\n",
       "      <th>User_ID</th>\n",
       "      <th>Item_Path</th>\n",
       "    </tr>\n",
       "  </thead>\n",
       "  <tbody>\n",
       "    <tr>\n",
       "      <th>0</th>\n",
       "      <td>194700985</td>\n",
       "      <td>/content/maryland_polyvore/images/194700985/10...</td>\n",
       "    </tr>\n",
       "    <tr>\n",
       "      <th>1</th>\n",
       "      <td>194700985</td>\n",
       "      <td>/content/maryland_polyvore/images/194700985/4.jpg</td>\n",
       "    </tr>\n",
       "    <tr>\n",
       "      <th>2</th>\n",
       "      <td>194700985</td>\n",
       "      <td>/content/maryland_polyvore/images/194700985/5.jpg</td>\n",
       "    </tr>\n",
       "    <tr>\n",
       "      <th>3</th>\n",
       "      <td>194700985</td>\n",
       "      <td>/content/maryland_polyvore/images/194700985/1.jpg</td>\n",
       "    </tr>\n",
       "    <tr>\n",
       "      <th>4</th>\n",
       "      <td>194700985</td>\n",
       "      <td>/content/maryland_polyvore/images/194700985/6.jpg</td>\n",
       "    </tr>\n",
       "    <tr>\n",
       "      <th>...</th>\n",
       "      <td>...</td>\n",
       "      <td>...</td>\n",
       "    </tr>\n",
       "    <tr>\n",
       "      <th>444366</th>\n",
       "      <td>198611407</td>\n",
       "      <td>/content/maryland_polyvore/images/198611407/6.jpg</td>\n",
       "    </tr>\n",
       "    <tr>\n",
       "      <th>444367</th>\n",
       "      <td>198611407</td>\n",
       "      <td>/content/maryland_polyvore/images/198611407/2.jpg</td>\n",
       "    </tr>\n",
       "    <tr>\n",
       "      <th>444368</th>\n",
       "      <td>198611407</td>\n",
       "      <td>/content/maryland_polyvore/images/198611407/0.jpg</td>\n",
       "    </tr>\n",
       "    <tr>\n",
       "      <th>444369</th>\n",
       "      <td>198611407</td>\n",
       "      <td>/content/maryland_polyvore/images/198611407/7.jpg</td>\n",
       "    </tr>\n",
       "    <tr>\n",
       "      <th>444370</th>\n",
       "      <td>198611407</td>\n",
       "      <td>/content/maryland_polyvore/images/198611407/3.jpg</td>\n",
       "    </tr>\n",
       "  </tbody>\n",
       "</table>\n",
       "<p>444371 rows × 2 columns</p>\n",
       "</div>\n",
       "    <div class=\"colab-df-buttons\">\n",
       "\n",
       "  <div class=\"colab-df-container\">\n",
       "    <button class=\"colab-df-convert\" onclick=\"convertToInteractive('df-92b2d0bd-68fb-4e5f-a421-0299fe3184a8')\"\n",
       "            title=\"Convert this dataframe to an interactive table.\"\n",
       "            style=\"display:none;\">\n",
       "\n",
       "  <svg xmlns=\"http://www.w3.org/2000/svg\" height=\"24px\" viewBox=\"0 -960 960 960\">\n",
       "    <path d=\"M120-120v-720h720v720H120Zm60-500h600v-160H180v160Zm220 220h160v-160H400v160Zm0 220h160v-160H400v160ZM180-400h160v-160H180v160Zm440 0h160v-160H620v160ZM180-180h160v-160H180v160Zm440 0h160v-160H620v160Z\"/>\n",
       "  </svg>\n",
       "    </button>\n",
       "\n",
       "  <style>\n",
       "    .colab-df-container {\n",
       "      display:flex;\n",
       "      gap: 12px;\n",
       "    }\n",
       "\n",
       "    .colab-df-convert {\n",
       "      background-color: #E8F0FE;\n",
       "      border: none;\n",
       "      border-radius: 50%;\n",
       "      cursor: pointer;\n",
       "      display: none;\n",
       "      fill: #1967D2;\n",
       "      height: 32px;\n",
       "      padding: 0 0 0 0;\n",
       "      width: 32px;\n",
       "    }\n",
       "\n",
       "    .colab-df-convert:hover {\n",
       "      background-color: #E2EBFA;\n",
       "      box-shadow: 0px 1px 2px rgba(60, 64, 67, 0.3), 0px 1px 3px 1px rgba(60, 64, 67, 0.15);\n",
       "      fill: #174EA6;\n",
       "    }\n",
       "\n",
       "    .colab-df-buttons div {\n",
       "      margin-bottom: 4px;\n",
       "    }\n",
       "\n",
       "    [theme=dark] .colab-df-convert {\n",
       "      background-color: #3B4455;\n",
       "      fill: #D2E3FC;\n",
       "    }\n",
       "\n",
       "    [theme=dark] .colab-df-convert:hover {\n",
       "      background-color: #434B5C;\n",
       "      box-shadow: 0px 1px 3px 1px rgba(0, 0, 0, 0.15);\n",
       "      filter: drop-shadow(0px 1px 2px rgba(0, 0, 0, 0.3));\n",
       "      fill: #FFFFFF;\n",
       "    }\n",
       "  </style>\n",
       "\n",
       "    <script>\n",
       "      const buttonEl =\n",
       "        document.querySelector('#df-92b2d0bd-68fb-4e5f-a421-0299fe3184a8 button.colab-df-convert');\n",
       "      buttonEl.style.display =\n",
       "        google.colab.kernel.accessAllowed ? 'block' : 'none';\n",
       "\n",
       "      async function convertToInteractive(key) {\n",
       "        const element = document.querySelector('#df-92b2d0bd-68fb-4e5f-a421-0299fe3184a8');\n",
       "        const dataTable =\n",
       "          await google.colab.kernel.invokeFunction('convertToInteractive',\n",
       "                                                    [key], {});\n",
       "        if (!dataTable) return;\n",
       "\n",
       "        const docLinkHtml = 'Like what you see? Visit the ' +\n",
       "          '<a target=\"_blank\" href=https://colab.research.google.com/notebooks/data_table.ipynb>data table notebook</a>'\n",
       "          + ' to learn more about interactive tables.';\n",
       "        element.innerHTML = '';\n",
       "        dataTable['output_type'] = 'display_data';\n",
       "        await google.colab.output.renderOutput(dataTable, element);\n",
       "        const docLink = document.createElement('div');\n",
       "        docLink.innerHTML = docLinkHtml;\n",
       "        element.appendChild(docLink);\n",
       "      }\n",
       "    </script>\n",
       "  </div>\n",
       "\n",
       "\n",
       "<div id=\"df-d00a69a5-146d-4e18-8db3-31589251dcf2\">\n",
       "  <button class=\"colab-df-quickchart\" onclick=\"quickchart('df-d00a69a5-146d-4e18-8db3-31589251dcf2')\"\n",
       "            title=\"Suggest charts\"\n",
       "            style=\"display:none;\">\n",
       "\n",
       "<svg xmlns=\"http://www.w3.org/2000/svg\" height=\"24px\"viewBox=\"0 0 24 24\"\n",
       "     width=\"24px\">\n",
       "    <g>\n",
       "        <path d=\"M19 3H5c-1.1 0-2 .9-2 2v14c0 1.1.9 2 2 2h14c1.1 0 2-.9 2-2V5c0-1.1-.9-2-2-2zM9 17H7v-7h2v7zm4 0h-2V7h2v10zm4 0h-2v-4h2v4z\"/>\n",
       "    </g>\n",
       "</svg>\n",
       "  </button>\n",
       "\n",
       "<style>\n",
       "  .colab-df-quickchart {\n",
       "      --bg-color: #E8F0FE;\n",
       "      --fill-color: #1967D2;\n",
       "      --hover-bg-color: #E2EBFA;\n",
       "      --hover-fill-color: #174EA6;\n",
       "      --disabled-fill-color: #AAA;\n",
       "      --disabled-bg-color: #DDD;\n",
       "  }\n",
       "\n",
       "  [theme=dark] .colab-df-quickchart {\n",
       "      --bg-color: #3B4455;\n",
       "      --fill-color: #D2E3FC;\n",
       "      --hover-bg-color: #434B5C;\n",
       "      --hover-fill-color: #FFFFFF;\n",
       "      --disabled-bg-color: #3B4455;\n",
       "      --disabled-fill-color: #666;\n",
       "  }\n",
       "\n",
       "  .colab-df-quickchart {\n",
       "    background-color: var(--bg-color);\n",
       "    border: none;\n",
       "    border-radius: 50%;\n",
       "    cursor: pointer;\n",
       "    display: none;\n",
       "    fill: var(--fill-color);\n",
       "    height: 32px;\n",
       "    padding: 0;\n",
       "    width: 32px;\n",
       "  }\n",
       "\n",
       "  .colab-df-quickchart:hover {\n",
       "    background-color: var(--hover-bg-color);\n",
       "    box-shadow: 0 1px 2px rgba(60, 64, 67, 0.3), 0 1px 3px 1px rgba(60, 64, 67, 0.15);\n",
       "    fill: var(--button-hover-fill-color);\n",
       "  }\n",
       "\n",
       "  .colab-df-quickchart-complete:disabled,\n",
       "  .colab-df-quickchart-complete:disabled:hover {\n",
       "    background-color: var(--disabled-bg-color);\n",
       "    fill: var(--disabled-fill-color);\n",
       "    box-shadow: none;\n",
       "  }\n",
       "\n",
       "  .colab-df-spinner {\n",
       "    border: 2px solid var(--fill-color);\n",
       "    border-color: transparent;\n",
       "    border-bottom-color: var(--fill-color);\n",
       "    animation:\n",
       "      spin 1s steps(1) infinite;\n",
       "  }\n",
       "\n",
       "  @keyframes spin {\n",
       "    0% {\n",
       "      border-color: transparent;\n",
       "      border-bottom-color: var(--fill-color);\n",
       "      border-left-color: var(--fill-color);\n",
       "    }\n",
       "    20% {\n",
       "      border-color: transparent;\n",
       "      border-left-color: var(--fill-color);\n",
       "      border-top-color: var(--fill-color);\n",
       "    }\n",
       "    30% {\n",
       "      border-color: transparent;\n",
       "      border-left-color: var(--fill-color);\n",
       "      border-top-color: var(--fill-color);\n",
       "      border-right-color: var(--fill-color);\n",
       "    }\n",
       "    40% {\n",
       "      border-color: transparent;\n",
       "      border-right-color: var(--fill-color);\n",
       "      border-top-color: var(--fill-color);\n",
       "    }\n",
       "    60% {\n",
       "      border-color: transparent;\n",
       "      border-right-color: var(--fill-color);\n",
       "    }\n",
       "    80% {\n",
       "      border-color: transparent;\n",
       "      border-right-color: var(--fill-color);\n",
       "      border-bottom-color: var(--fill-color);\n",
       "    }\n",
       "    90% {\n",
       "      border-color: transparent;\n",
       "      border-bottom-color: var(--fill-color);\n",
       "    }\n",
       "  }\n",
       "</style>\n",
       "\n",
       "  <script>\n",
       "    async function quickchart(key) {\n",
       "      const quickchartButtonEl =\n",
       "        document.querySelector('#' + key + ' button');\n",
       "      quickchartButtonEl.disabled = true;  // To prevent multiple clicks.\n",
       "      quickchartButtonEl.classList.add('colab-df-spinner');\n",
       "      try {\n",
       "        const charts = await google.colab.kernel.invokeFunction(\n",
       "            'suggestCharts', [key], {});\n",
       "      } catch (error) {\n",
       "        console.error('Error during call to suggestCharts:', error);\n",
       "      }\n",
       "      quickchartButtonEl.classList.remove('colab-df-spinner');\n",
       "      quickchartButtonEl.classList.add('colab-df-quickchart-complete');\n",
       "    }\n",
       "    (() => {\n",
       "      let quickchartButtonEl =\n",
       "        document.querySelector('#df-d00a69a5-146d-4e18-8db3-31589251dcf2 button');\n",
       "      quickchartButtonEl.style.display =\n",
       "        google.colab.kernel.accessAllowed ? 'block' : 'none';\n",
       "    })();\n",
       "  </script>\n",
       "</div>\n",
       "    </div>\n",
       "  </div>\n"
      ],
      "text/plain": [
       "          User_ID                                          Item_Path\n",
       "0       194700985  /content/maryland_polyvore/images/194700985/10...\n",
       "1       194700985  /content/maryland_polyvore/images/194700985/4.jpg\n",
       "2       194700985  /content/maryland_polyvore/images/194700985/5.jpg\n",
       "3       194700985  /content/maryland_polyvore/images/194700985/1.jpg\n",
       "4       194700985  /content/maryland_polyvore/images/194700985/6.jpg\n",
       "...           ...                                                ...\n",
       "444366  198611407  /content/maryland_polyvore/images/198611407/6.jpg\n",
       "444367  198611407  /content/maryland_polyvore/images/198611407/2.jpg\n",
       "444368  198611407  /content/maryland_polyvore/images/198611407/0.jpg\n",
       "444369  198611407  /content/maryland_polyvore/images/198611407/7.jpg\n",
       "444370  198611407  /content/maryland_polyvore/images/198611407/3.jpg\n",
       "\n",
       "[444371 rows x 2 columns]"
      ]
     },
     "execution_count": 14,
     "metadata": {},
     "output_type": "execute_result"
    }
   ],
   "source": [
    "df"
   ]
  },
  {
   "cell_type": "markdown",
   "metadata": {
    "id": "wGgRGxQQG6mR"
   },
   "source": [
    "# Feature Extraction"
   ]
  },
  {
   "cell_type": "code",
   "execution_count": 15,
   "metadata": {
    "id": "XRhCkSyDGYt3"
   },
   "outputs": [],
   "source": [
    "# GPU setup\n",
    "device = torch.device(\"cuda\" if torch.cuda.is_available() else \"cpu\")"
   ]
  },
  {
   "cell_type": "code",
   "execution_count": 16,
   "metadata": {
    "id": "kJEN2Lsu1Gmu"
   },
   "outputs": [],
   "source": [
    "# Define custom Dataset to handle loading images and their paths\n",
    "class PolyvoreDataset(Dataset):\n",
    "    def __init__(self, dataframe, transform=None):\n",
    "        self.dataframe = dataframe\n",
    "        self.transform = transform\n",
    "\n",
    "    def __len__(self):\n",
    "        return len(self.dataframe)\n",
    "\n",
    "    def __getitem__(self, idx):\n",
    "        img_path = self.dataframe.iloc[idx]['Item_Path']\n",
    "        try:\n",
    "            image = Image.open(img_path).convert('RGB')  # Ensure the image is in RGB format\n",
    "        except (OSError, UnidentifiedImageError) as e:\n",
    "            print(f\"Error loading image {img_path}: {e}\")\n",
    "            return None, None, None  # Return None for corrupted images\n",
    "\n",
    "        if self.transform:\n",
    "            image = self.transform(image)\n",
    "        user_id = self.dataframe.iloc[idx]['User_ID']\n",
    "        return image, user_id, img_path"
   ]
  },
  {
   "cell_type": "code",
   "execution_count": 17,
   "metadata": {
    "id": "g8Dpb--1GcXA"
   },
   "outputs": [],
   "source": [
    "# Define image transformations: Resizing and normalizing based on ImageNet dataset\n",
    "image_transform = transforms.Compose([\n",
    "    transforms.Resize((224, 224)),  # ResNet50 input size\n",
    "    transforms.ToTensor(),\n",
    "    transforms.Normalize(mean=[0.485, 0.456, 0.406], std=[0.229, 0.224, 0.225])  # ImageNet normalization\n",
    "])"
   ]
  },
  {
   "cell_type": "code",
   "execution_count": 18,
   "metadata": {
    "colab": {
     "base_uri": "https://localhost:8080/"
    },
    "id": "CXPTvICUGd0O",
    "outputId": "aee47057-4f21-48f5-bb9b-e59c2cdd8d29"
   },
   "outputs": [
    {
     "name": "stderr",
     "output_type": "stream",
     "text": [
      "/usr/local/lib/python3.10/dist-packages/torchvision/models/_utils.py:208: UserWarning: The parameter 'pretrained' is deprecated since 0.13 and may be removed in the future, please use 'weights' instead.\n",
      "  warnings.warn(\n",
      "/usr/local/lib/python3.10/dist-packages/torchvision/models/_utils.py:223: UserWarning: Arguments other than a weight enum or `None` for 'weights' are deprecated since 0.13 and may be removed in the future. The current behavior is equivalent to passing `weights=ResNet50_Weights.IMAGENET1K_V1`. You can also use `weights=ResNet50_Weights.DEFAULT` to get the most up-to-date weights.\n",
      "  warnings.warn(msg)\n",
      "Downloading: \"https://download.pytorch.org/models/resnet50-0676ba61.pth\" to /root/.cache/torch/hub/checkpoints/resnet50-0676ba61.pth\n",
      "100%|██████████| 97.8M/97.8M [00:00<00:00, 203MB/s]\n"
     ]
    },
    {
     "data": {
      "text/plain": [
       "Sequential(\n",
       "  (0): Conv2d(3, 64, kernel_size=(7, 7), stride=(2, 2), padding=(3, 3), bias=False)\n",
       "  (1): BatchNorm2d(64, eps=1e-05, momentum=0.1, affine=True, track_running_stats=True)\n",
       "  (2): ReLU(inplace=True)\n",
       "  (3): MaxPool2d(kernel_size=3, stride=2, padding=1, dilation=1, ceil_mode=False)\n",
       "  (4): Sequential(\n",
       "    (0): Bottleneck(\n",
       "      (conv1): Conv2d(64, 64, kernel_size=(1, 1), stride=(1, 1), bias=False)\n",
       "      (bn1): BatchNorm2d(64, eps=1e-05, momentum=0.1, affine=True, track_running_stats=True)\n",
       "      (conv2): Conv2d(64, 64, kernel_size=(3, 3), stride=(1, 1), padding=(1, 1), bias=False)\n",
       "      (bn2): BatchNorm2d(64, eps=1e-05, momentum=0.1, affine=True, track_running_stats=True)\n",
       "      (conv3): Conv2d(64, 256, kernel_size=(1, 1), stride=(1, 1), bias=False)\n",
       "      (bn3): BatchNorm2d(256, eps=1e-05, momentum=0.1, affine=True, track_running_stats=True)\n",
       "      (relu): ReLU(inplace=True)\n",
       "      (downsample): Sequential(\n",
       "        (0): Conv2d(64, 256, kernel_size=(1, 1), stride=(1, 1), bias=False)\n",
       "        (1): BatchNorm2d(256, eps=1e-05, momentum=0.1, affine=True, track_running_stats=True)\n",
       "      )\n",
       "    )\n",
       "    (1): Bottleneck(\n",
       "      (conv1): Conv2d(256, 64, kernel_size=(1, 1), stride=(1, 1), bias=False)\n",
       "      (bn1): BatchNorm2d(64, eps=1e-05, momentum=0.1, affine=True, track_running_stats=True)\n",
       "      (conv2): Conv2d(64, 64, kernel_size=(3, 3), stride=(1, 1), padding=(1, 1), bias=False)\n",
       "      (bn2): BatchNorm2d(64, eps=1e-05, momentum=0.1, affine=True, track_running_stats=True)\n",
       "      (conv3): Conv2d(64, 256, kernel_size=(1, 1), stride=(1, 1), bias=False)\n",
       "      (bn3): BatchNorm2d(256, eps=1e-05, momentum=0.1, affine=True, track_running_stats=True)\n",
       "      (relu): ReLU(inplace=True)\n",
       "    )\n",
       "    (2): Bottleneck(\n",
       "      (conv1): Conv2d(256, 64, kernel_size=(1, 1), stride=(1, 1), bias=False)\n",
       "      (bn1): BatchNorm2d(64, eps=1e-05, momentum=0.1, affine=True, track_running_stats=True)\n",
       "      (conv2): Conv2d(64, 64, kernel_size=(3, 3), stride=(1, 1), padding=(1, 1), bias=False)\n",
       "      (bn2): BatchNorm2d(64, eps=1e-05, momentum=0.1, affine=True, track_running_stats=True)\n",
       "      (conv3): Conv2d(64, 256, kernel_size=(1, 1), stride=(1, 1), bias=False)\n",
       "      (bn3): BatchNorm2d(256, eps=1e-05, momentum=0.1, affine=True, track_running_stats=True)\n",
       "      (relu): ReLU(inplace=True)\n",
       "    )\n",
       "  )\n",
       "  (5): Sequential(\n",
       "    (0): Bottleneck(\n",
       "      (conv1): Conv2d(256, 128, kernel_size=(1, 1), stride=(1, 1), bias=False)\n",
       "      (bn1): BatchNorm2d(128, eps=1e-05, momentum=0.1, affine=True, track_running_stats=True)\n",
       "      (conv2): Conv2d(128, 128, kernel_size=(3, 3), stride=(2, 2), padding=(1, 1), bias=False)\n",
       "      (bn2): BatchNorm2d(128, eps=1e-05, momentum=0.1, affine=True, track_running_stats=True)\n",
       "      (conv3): Conv2d(128, 512, kernel_size=(1, 1), stride=(1, 1), bias=False)\n",
       "      (bn3): BatchNorm2d(512, eps=1e-05, momentum=0.1, affine=True, track_running_stats=True)\n",
       "      (relu): ReLU(inplace=True)\n",
       "      (downsample): Sequential(\n",
       "        (0): Conv2d(256, 512, kernel_size=(1, 1), stride=(2, 2), bias=False)\n",
       "        (1): BatchNorm2d(512, eps=1e-05, momentum=0.1, affine=True, track_running_stats=True)\n",
       "      )\n",
       "    )\n",
       "    (1): Bottleneck(\n",
       "      (conv1): Conv2d(512, 128, kernel_size=(1, 1), stride=(1, 1), bias=False)\n",
       "      (bn1): BatchNorm2d(128, eps=1e-05, momentum=0.1, affine=True, track_running_stats=True)\n",
       "      (conv2): Conv2d(128, 128, kernel_size=(3, 3), stride=(1, 1), padding=(1, 1), bias=False)\n",
       "      (bn2): BatchNorm2d(128, eps=1e-05, momentum=0.1, affine=True, track_running_stats=True)\n",
       "      (conv3): Conv2d(128, 512, kernel_size=(1, 1), stride=(1, 1), bias=False)\n",
       "      (bn3): BatchNorm2d(512, eps=1e-05, momentum=0.1, affine=True, track_running_stats=True)\n",
       "      (relu): ReLU(inplace=True)\n",
       "    )\n",
       "    (2): Bottleneck(\n",
       "      (conv1): Conv2d(512, 128, kernel_size=(1, 1), stride=(1, 1), bias=False)\n",
       "      (bn1): BatchNorm2d(128, eps=1e-05, momentum=0.1, affine=True, track_running_stats=True)\n",
       "      (conv2): Conv2d(128, 128, kernel_size=(3, 3), stride=(1, 1), padding=(1, 1), bias=False)\n",
       "      (bn2): BatchNorm2d(128, eps=1e-05, momentum=0.1, affine=True, track_running_stats=True)\n",
       "      (conv3): Conv2d(128, 512, kernel_size=(1, 1), stride=(1, 1), bias=False)\n",
       "      (bn3): BatchNorm2d(512, eps=1e-05, momentum=0.1, affine=True, track_running_stats=True)\n",
       "      (relu): ReLU(inplace=True)\n",
       "    )\n",
       "    (3): Bottleneck(\n",
       "      (conv1): Conv2d(512, 128, kernel_size=(1, 1), stride=(1, 1), bias=False)\n",
       "      (bn1): BatchNorm2d(128, eps=1e-05, momentum=0.1, affine=True, track_running_stats=True)\n",
       "      (conv2): Conv2d(128, 128, kernel_size=(3, 3), stride=(1, 1), padding=(1, 1), bias=False)\n",
       "      (bn2): BatchNorm2d(128, eps=1e-05, momentum=0.1, affine=True, track_running_stats=True)\n",
       "      (conv3): Conv2d(128, 512, kernel_size=(1, 1), stride=(1, 1), bias=False)\n",
       "      (bn3): BatchNorm2d(512, eps=1e-05, momentum=0.1, affine=True, track_running_stats=True)\n",
       "      (relu): ReLU(inplace=True)\n",
       "    )\n",
       "  )\n",
       "  (6): Sequential(\n",
       "    (0): Bottleneck(\n",
       "      (conv1): Conv2d(512, 256, kernel_size=(1, 1), stride=(1, 1), bias=False)\n",
       "      (bn1): BatchNorm2d(256, eps=1e-05, momentum=0.1, affine=True, track_running_stats=True)\n",
       "      (conv2): Conv2d(256, 256, kernel_size=(3, 3), stride=(2, 2), padding=(1, 1), bias=False)\n",
       "      (bn2): BatchNorm2d(256, eps=1e-05, momentum=0.1, affine=True, track_running_stats=True)\n",
       "      (conv3): Conv2d(256, 1024, kernel_size=(1, 1), stride=(1, 1), bias=False)\n",
       "      (bn3): BatchNorm2d(1024, eps=1e-05, momentum=0.1, affine=True, track_running_stats=True)\n",
       "      (relu): ReLU(inplace=True)\n",
       "      (downsample): Sequential(\n",
       "        (0): Conv2d(512, 1024, kernel_size=(1, 1), stride=(2, 2), bias=False)\n",
       "        (1): BatchNorm2d(1024, eps=1e-05, momentum=0.1, affine=True, track_running_stats=True)\n",
       "      )\n",
       "    )\n",
       "    (1): Bottleneck(\n",
       "      (conv1): Conv2d(1024, 256, kernel_size=(1, 1), stride=(1, 1), bias=False)\n",
       "      (bn1): BatchNorm2d(256, eps=1e-05, momentum=0.1, affine=True, track_running_stats=True)\n",
       "      (conv2): Conv2d(256, 256, kernel_size=(3, 3), stride=(1, 1), padding=(1, 1), bias=False)\n",
       "      (bn2): BatchNorm2d(256, eps=1e-05, momentum=0.1, affine=True, track_running_stats=True)\n",
       "      (conv3): Conv2d(256, 1024, kernel_size=(1, 1), stride=(1, 1), bias=False)\n",
       "      (bn3): BatchNorm2d(1024, eps=1e-05, momentum=0.1, affine=True, track_running_stats=True)\n",
       "      (relu): ReLU(inplace=True)\n",
       "    )\n",
       "    (2): Bottleneck(\n",
       "      (conv1): Conv2d(1024, 256, kernel_size=(1, 1), stride=(1, 1), bias=False)\n",
       "      (bn1): BatchNorm2d(256, eps=1e-05, momentum=0.1, affine=True, track_running_stats=True)\n",
       "      (conv2): Conv2d(256, 256, kernel_size=(3, 3), stride=(1, 1), padding=(1, 1), bias=False)\n",
       "      (bn2): BatchNorm2d(256, eps=1e-05, momentum=0.1, affine=True, track_running_stats=True)\n",
       "      (conv3): Conv2d(256, 1024, kernel_size=(1, 1), stride=(1, 1), bias=False)\n",
       "      (bn3): BatchNorm2d(1024, eps=1e-05, momentum=0.1, affine=True, track_running_stats=True)\n",
       "      (relu): ReLU(inplace=True)\n",
       "    )\n",
       "    (3): Bottleneck(\n",
       "      (conv1): Conv2d(1024, 256, kernel_size=(1, 1), stride=(1, 1), bias=False)\n",
       "      (bn1): BatchNorm2d(256, eps=1e-05, momentum=0.1, affine=True, track_running_stats=True)\n",
       "      (conv2): Conv2d(256, 256, kernel_size=(3, 3), stride=(1, 1), padding=(1, 1), bias=False)\n",
       "      (bn2): BatchNorm2d(256, eps=1e-05, momentum=0.1, affine=True, track_running_stats=True)\n",
       "      (conv3): Conv2d(256, 1024, kernel_size=(1, 1), stride=(1, 1), bias=False)\n",
       "      (bn3): BatchNorm2d(1024, eps=1e-05, momentum=0.1, affine=True, track_running_stats=True)\n",
       "      (relu): ReLU(inplace=True)\n",
       "    )\n",
       "    (4): Bottleneck(\n",
       "      (conv1): Conv2d(1024, 256, kernel_size=(1, 1), stride=(1, 1), bias=False)\n",
       "      (bn1): BatchNorm2d(256, eps=1e-05, momentum=0.1, affine=True, track_running_stats=True)\n",
       "      (conv2): Conv2d(256, 256, kernel_size=(3, 3), stride=(1, 1), padding=(1, 1), bias=False)\n",
       "      (bn2): BatchNorm2d(256, eps=1e-05, momentum=0.1, affine=True, track_running_stats=True)\n",
       "      (conv3): Conv2d(256, 1024, kernel_size=(1, 1), stride=(1, 1), bias=False)\n",
       "      (bn3): BatchNorm2d(1024, eps=1e-05, momentum=0.1, affine=True, track_running_stats=True)\n",
       "      (relu): ReLU(inplace=True)\n",
       "    )\n",
       "    (5): Bottleneck(\n",
       "      (conv1): Conv2d(1024, 256, kernel_size=(1, 1), stride=(1, 1), bias=False)\n",
       "      (bn1): BatchNorm2d(256, eps=1e-05, momentum=0.1, affine=True, track_running_stats=True)\n",
       "      (conv2): Conv2d(256, 256, kernel_size=(3, 3), stride=(1, 1), padding=(1, 1), bias=False)\n",
       "      (bn2): BatchNorm2d(256, eps=1e-05, momentum=0.1, affine=True, track_running_stats=True)\n",
       "      (conv3): Conv2d(256, 1024, kernel_size=(1, 1), stride=(1, 1), bias=False)\n",
       "      (bn3): BatchNorm2d(1024, eps=1e-05, momentum=0.1, affine=True, track_running_stats=True)\n",
       "      (relu): ReLU(inplace=True)\n",
       "    )\n",
       "  )\n",
       "  (7): Sequential(\n",
       "    (0): Bottleneck(\n",
       "      (conv1): Conv2d(1024, 512, kernel_size=(1, 1), stride=(1, 1), bias=False)\n",
       "      (bn1): BatchNorm2d(512, eps=1e-05, momentum=0.1, affine=True, track_running_stats=True)\n",
       "      (conv2): Conv2d(512, 512, kernel_size=(3, 3), stride=(2, 2), padding=(1, 1), bias=False)\n",
       "      (bn2): BatchNorm2d(512, eps=1e-05, momentum=0.1, affine=True, track_running_stats=True)\n",
       "      (conv3): Conv2d(512, 2048, kernel_size=(1, 1), stride=(1, 1), bias=False)\n",
       "      (bn3): BatchNorm2d(2048, eps=1e-05, momentum=0.1, affine=True, track_running_stats=True)\n",
       "      (relu): ReLU(inplace=True)\n",
       "      (downsample): Sequential(\n",
       "        (0): Conv2d(1024, 2048, kernel_size=(1, 1), stride=(2, 2), bias=False)\n",
       "        (1): BatchNorm2d(2048, eps=1e-05, momentum=0.1, affine=True, track_running_stats=True)\n",
       "      )\n",
       "    )\n",
       "    (1): Bottleneck(\n",
       "      (conv1): Conv2d(2048, 512, kernel_size=(1, 1), stride=(1, 1), bias=False)\n",
       "      (bn1): BatchNorm2d(512, eps=1e-05, momentum=0.1, affine=True, track_running_stats=True)\n",
       "      (conv2): Conv2d(512, 512, kernel_size=(3, 3), stride=(1, 1), padding=(1, 1), bias=False)\n",
       "      (bn2): BatchNorm2d(512, eps=1e-05, momentum=0.1, affine=True, track_running_stats=True)\n",
       "      (conv3): Conv2d(512, 2048, kernel_size=(1, 1), stride=(1, 1), bias=False)\n",
       "      (bn3): BatchNorm2d(2048, eps=1e-05, momentum=0.1, affine=True, track_running_stats=True)\n",
       "      (relu): ReLU(inplace=True)\n",
       "    )\n",
       "    (2): Bottleneck(\n",
       "      (conv1): Conv2d(2048, 512, kernel_size=(1, 1), stride=(1, 1), bias=False)\n",
       "      (bn1): BatchNorm2d(512, eps=1e-05, momentum=0.1, affine=True, track_running_stats=True)\n",
       "      (conv2): Conv2d(512, 512, kernel_size=(3, 3), stride=(1, 1), padding=(1, 1), bias=False)\n",
       "      (bn2): BatchNorm2d(512, eps=1e-05, momentum=0.1, affine=True, track_running_stats=True)\n",
       "      (conv3): Conv2d(512, 2048, kernel_size=(1, 1), stride=(1, 1), bias=False)\n",
       "      (bn3): BatchNorm2d(2048, eps=1e-05, momentum=0.1, affine=True, track_running_stats=True)\n",
       "      (relu): ReLU(inplace=True)\n",
       "    )\n",
       "  )\n",
       "  (8): AdaptiveAvgPool2d(output_size=(1, 1))\n",
       ")"
      ]
     },
     "execution_count": 18,
     "metadata": {},
     "output_type": "execute_result"
    }
   ],
   "source": [
    "# Load the ResNet50 model without the fully connected layer (feature extraction)\n",
    "model = models.resnet50(pretrained=True)\n",
    "model = torch.nn.Sequential(*list(model.children())[:-1])  # Remove the last classification layer\n",
    "model.eval()  # Set model to evaluation mode\n",
    "model.to(device)  # Move model to GPU"
   ]
  },
  {
   "cell_type": "code",
   "execution_count": 19,
   "metadata": {
    "id": "VJM2HpKwGfcj"
   },
   "outputs": [],
   "source": [
    "# Set the batch size and chunk size for processing\n",
    "batch_size = 32  # You can adjust this based on your GPU memory capacity\n",
    "chunk_size = 1000  # Number of images to process in each chunk\n",
    "\n",
    "# Directory to save the extracted features\n",
    "features_dir = '/content/maryland_polyvore/features/'\n",
    "os.makedirs(features_dir, exist_ok=True)\n",
    "\n",
    "# Load the original user-item dataframe\n",
    "df = pd.read_csv('/content/maryland_polyvore/user_item_data.csv')"
   ]
  },
  {
   "cell_type": "code",
   "execution_count": 20,
   "metadata": {
    "id": "nyuRP1v3Gh0l"
   },
   "outputs": [],
   "source": [
    "# DataLoader for batch processing\n",
    "def get_data_loader(df_chunk, batch_size):\n",
    "    dataset = PolyvoreDataset(df_chunk, transform=image_transform)\n",
    "\n",
    "    # Filter out the NoneType before sending to the DataLoader\n",
    "    def collate_fn(batch):\n",
    "        batch = list(filter(lambda x: x[0] is not None, batch))  # Keep only valid images\n",
    "        if len(batch) == 0:\n",
    "            return None, None, None\n",
    "        images, user_ids, img_paths = zip(*batch)\n",
    "        return torch.stack(images), user_ids, img_paths\n",
    "\n",
    "    return DataLoader(dataset, batch_size=batch_size, shuffle=False, pin_memory=True, collate_fn=collate_fn)"
   ]
  },
  {
   "cell_type": "code",
   "execution_count": 21,
   "metadata": {
    "id": "aiwT3_Q6Gjez"
   },
   "outputs": [],
   "source": [
    "# Function to extract and save features in chunks\n",
    "def extract_features_in_chunks(df, model, chunk_size, batch_size, save_dir):\n",
    "    num_chunks = len(df) // chunk_size + 1\n",
    "\n",
    "    for i in range(num_chunks):\n",
    "        start_idx = i * chunk_size\n",
    "        end_idx = min((i + 1) * chunk_size, len(df))\n",
    "        df_chunk = df.iloc[start_idx:end_idx]\n",
    "\n",
    "        print(f\"Processing chunk {i + 1}/{num_chunks}, images {start_idx} to {end_idx}\")\n",
    "\n",
    "        # DataLoader for the current chunk\n",
    "        data_loader = get_data_loader(df_chunk, batch_size)\n",
    "\n",
    "        all_features = []  # To store extracted features\n",
    "        all_paths = []     # To store image paths\n",
    "\n",
    "        # Extract features for each batch\n",
    "        for images, user_ids, img_paths in data_loader:\n",
    "            if images is None:\n",
    "                continue  # Skip empty batches (due to all images being invalid)\n",
    "\n",
    "            images = images.to(device)  # Move images to GPU\n",
    "\n",
    "            with torch.no_grad():\n",
    "                features = model(images).squeeze().cpu().numpy()  # Extract features, move to CPU\n",
    "\n",
    "            all_features.append(features)\n",
    "            all_paths.extend(img_paths)\n",
    "\n",
    "        # Concatenate all features in this chunk\n",
    "        if len(all_features) > 0:  # Ensure we have data to save\n",
    "            all_features = np.vstack(all_features)\n",
    "\n",
    "            # Save the features to a .npy file\n",
    "            features_file = os.path.join(save_dir, f'features_chunk_{i + 1}.npy')\n",
    "            np.save(features_file, all_features)\n",
    "            print(f\"Saved features to {features_file}\")\n",
    "\n",
    "            # Save the image paths for reference\n",
    "            paths_file = os.path.join(save_dir, f'paths_chunk_{i + 1}.csv')\n",
    "            pd.DataFrame({'Image_Path': all_paths}).to_csv(paths_file, index=False)\n",
    "            print(f\"Saved paths to {paths_file}\")\n",
    "\n",
    "        # Clear memory after processing each chunk\n",
    "        torch.cuda.empty_cache()"
   ]
  },
  {
   "cell_type": "code",
   "execution_count": 22,
   "metadata": {
    "colab": {
     "base_uri": "https://localhost:8080/"
    },
    "id": "yfpcPpKNGpy_",
    "outputId": "2d18ae56-ddad-4242-ddbe-217e4cc02f32"
   },
   "outputs": [
    {
     "name": "stdout",
     "output_type": "stream",
     "text": [
      "Processing chunk 1/445, images 0 to 1000\n",
      "Saved features to /content/maryland_polyvore/features/features_chunk_1.npy\n",
      "Saved paths to /content/maryland_polyvore/features/paths_chunk_1.csv\n",
      "Processing chunk 2/445, images 1000 to 2000\n",
      "Saved features to /content/maryland_polyvore/features/features_chunk_2.npy\n",
      "Saved paths to /content/maryland_polyvore/features/paths_chunk_2.csv\n",
      "Processing chunk 3/445, images 2000 to 3000\n",
      "Saved features to /content/maryland_polyvore/features/features_chunk_3.npy\n",
      "Saved paths to /content/maryland_polyvore/features/paths_chunk_3.csv\n",
      "Processing chunk 4/445, images 3000 to 4000\n",
      "Saved features to /content/maryland_polyvore/features/features_chunk_4.npy\n",
      "Saved paths to /content/maryland_polyvore/features/paths_chunk_4.csv\n",
      "Processing chunk 5/445, images 4000 to 5000\n",
      "Saved features to /content/maryland_polyvore/features/features_chunk_5.npy\n",
      "Saved paths to /content/maryland_polyvore/features/paths_chunk_5.csv\n",
      "Processing chunk 6/445, images 5000 to 6000\n",
      "Saved features to /content/maryland_polyvore/features/features_chunk_6.npy\n",
      "Saved paths to /content/maryland_polyvore/features/paths_chunk_6.csv\n",
      "Processing chunk 7/445, images 6000 to 7000\n",
      "Saved features to /content/maryland_polyvore/features/features_chunk_7.npy\n",
      "Saved paths to /content/maryland_polyvore/features/paths_chunk_7.csv\n",
      "Processing chunk 8/445, images 7000 to 8000\n",
      "Saved features to /content/maryland_polyvore/features/features_chunk_8.npy\n",
      "Saved paths to /content/maryland_polyvore/features/paths_chunk_8.csv\n",
      "Processing chunk 9/445, images 8000 to 9000\n",
      "Saved features to /content/maryland_polyvore/features/features_chunk_9.npy\n",
      "Saved paths to /content/maryland_polyvore/features/paths_chunk_9.csv\n",
      "Processing chunk 10/445, images 9000 to 10000\n",
      "Saved features to /content/maryland_polyvore/features/features_chunk_10.npy\n",
      "Saved paths to /content/maryland_polyvore/features/paths_chunk_10.csv\n",
      "Processing chunk 11/445, images 10000 to 11000\n",
      "Saved features to /content/maryland_polyvore/features/features_chunk_11.npy\n",
      "Saved paths to /content/maryland_polyvore/features/paths_chunk_11.csv\n",
      "Processing chunk 12/445, images 11000 to 12000\n",
      "Saved features to /content/maryland_polyvore/features/features_chunk_12.npy\n",
      "Saved paths to /content/maryland_polyvore/features/paths_chunk_12.csv\n",
      "Processing chunk 13/445, images 12000 to 13000\n",
      "Saved features to /content/maryland_polyvore/features/features_chunk_13.npy\n",
      "Saved paths to /content/maryland_polyvore/features/paths_chunk_13.csv\n",
      "Processing chunk 14/445, images 13000 to 14000\n",
      "Saved features to /content/maryland_polyvore/features/features_chunk_14.npy\n",
      "Saved paths to /content/maryland_polyvore/features/paths_chunk_14.csv\n",
      "Processing chunk 15/445, images 14000 to 15000\n",
      "Saved features to /content/maryland_polyvore/features/features_chunk_15.npy\n",
      "Saved paths to /content/maryland_polyvore/features/paths_chunk_15.csv\n",
      "Processing chunk 16/445, images 15000 to 16000\n",
      "Saved features to /content/maryland_polyvore/features/features_chunk_16.npy\n",
      "Saved paths to /content/maryland_polyvore/features/paths_chunk_16.csv\n",
      "Processing chunk 17/445, images 16000 to 17000\n",
      "Saved features to /content/maryland_polyvore/features/features_chunk_17.npy\n",
      "Saved paths to /content/maryland_polyvore/features/paths_chunk_17.csv\n",
      "Processing chunk 18/445, images 17000 to 18000\n",
      "Saved features to /content/maryland_polyvore/features/features_chunk_18.npy\n",
      "Saved paths to /content/maryland_polyvore/features/paths_chunk_18.csv\n",
      "Processing chunk 19/445, images 18000 to 19000\n",
      "Saved features to /content/maryland_polyvore/features/features_chunk_19.npy\n",
      "Saved paths to /content/maryland_polyvore/features/paths_chunk_19.csv\n",
      "Processing chunk 20/445, images 19000 to 20000\n",
      "Saved features to /content/maryland_polyvore/features/features_chunk_20.npy\n",
      "Saved paths to /content/maryland_polyvore/features/paths_chunk_20.csv\n",
      "Processing chunk 21/445, images 20000 to 21000\n",
      "Saved features to /content/maryland_polyvore/features/features_chunk_21.npy\n",
      "Saved paths to /content/maryland_polyvore/features/paths_chunk_21.csv\n",
      "Processing chunk 22/445, images 21000 to 22000\n",
      "Saved features to /content/maryland_polyvore/features/features_chunk_22.npy\n",
      "Saved paths to /content/maryland_polyvore/features/paths_chunk_22.csv\n",
      "Processing chunk 23/445, images 22000 to 23000\n",
      "Saved features to /content/maryland_polyvore/features/features_chunk_23.npy\n",
      "Saved paths to /content/maryland_polyvore/features/paths_chunk_23.csv\n",
      "Processing chunk 24/445, images 23000 to 24000\n",
      "Saved features to /content/maryland_polyvore/features/features_chunk_24.npy\n",
      "Saved paths to /content/maryland_polyvore/features/paths_chunk_24.csv\n",
      "Processing chunk 25/445, images 24000 to 25000\n",
      "Saved features to /content/maryland_polyvore/features/features_chunk_25.npy\n",
      "Saved paths to /content/maryland_polyvore/features/paths_chunk_25.csv\n",
      "Processing chunk 26/445, images 25000 to 26000\n",
      "Saved features to /content/maryland_polyvore/features/features_chunk_26.npy\n",
      "Saved paths to /content/maryland_polyvore/features/paths_chunk_26.csv\n",
      "Processing chunk 27/445, images 26000 to 27000\n",
      "Saved features to /content/maryland_polyvore/features/features_chunk_27.npy\n",
      "Saved paths to /content/maryland_polyvore/features/paths_chunk_27.csv\n",
      "Processing chunk 28/445, images 27000 to 28000\n",
      "Saved features to /content/maryland_polyvore/features/features_chunk_28.npy\n",
      "Saved paths to /content/maryland_polyvore/features/paths_chunk_28.csv\n",
      "Processing chunk 29/445, images 28000 to 29000\n",
      "Saved features to /content/maryland_polyvore/features/features_chunk_29.npy\n",
      "Saved paths to /content/maryland_polyvore/features/paths_chunk_29.csv\n",
      "Processing chunk 30/445, images 29000 to 30000\n",
      "Saved features to /content/maryland_polyvore/features/features_chunk_30.npy\n",
      "Saved paths to /content/maryland_polyvore/features/paths_chunk_30.csv\n",
      "Processing chunk 31/445, images 30000 to 31000\n",
      "Saved features to /content/maryland_polyvore/features/features_chunk_31.npy\n",
      "Saved paths to /content/maryland_polyvore/features/paths_chunk_31.csv\n",
      "Processing chunk 32/445, images 31000 to 32000\n",
      "Saved features to /content/maryland_polyvore/features/features_chunk_32.npy\n",
      "Saved paths to /content/maryland_polyvore/features/paths_chunk_32.csv\n",
      "Processing chunk 33/445, images 32000 to 33000\n",
      "Saved features to /content/maryland_polyvore/features/features_chunk_33.npy\n",
      "Saved paths to /content/maryland_polyvore/features/paths_chunk_33.csv\n",
      "Processing chunk 34/445, images 33000 to 34000\n",
      "Saved features to /content/maryland_polyvore/features/features_chunk_34.npy\n",
      "Saved paths to /content/maryland_polyvore/features/paths_chunk_34.csv\n",
      "Processing chunk 35/445, images 34000 to 35000\n",
      "Saved features to /content/maryland_polyvore/features/features_chunk_35.npy\n",
      "Saved paths to /content/maryland_polyvore/features/paths_chunk_35.csv\n",
      "Processing chunk 36/445, images 35000 to 36000\n",
      "Saved features to /content/maryland_polyvore/features/features_chunk_36.npy\n",
      "Saved paths to /content/maryland_polyvore/features/paths_chunk_36.csv\n",
      "Processing chunk 37/445, images 36000 to 37000\n",
      "Saved features to /content/maryland_polyvore/features/features_chunk_37.npy\n",
      "Saved paths to /content/maryland_polyvore/features/paths_chunk_37.csv\n",
      "Processing chunk 38/445, images 37000 to 38000\n",
      "Saved features to /content/maryland_polyvore/features/features_chunk_38.npy\n",
      "Saved paths to /content/maryland_polyvore/features/paths_chunk_38.csv\n",
      "Processing chunk 39/445, images 38000 to 39000\n",
      "Saved features to /content/maryland_polyvore/features/features_chunk_39.npy\n",
      "Saved paths to /content/maryland_polyvore/features/paths_chunk_39.csv\n",
      "Processing chunk 40/445, images 39000 to 40000\n",
      "Saved features to /content/maryland_polyvore/features/features_chunk_40.npy\n",
      "Saved paths to /content/maryland_polyvore/features/paths_chunk_40.csv\n",
      "Processing chunk 41/445, images 40000 to 41000\n",
      "Saved features to /content/maryland_polyvore/features/features_chunk_41.npy\n",
      "Saved paths to /content/maryland_polyvore/features/paths_chunk_41.csv\n",
      "Processing chunk 42/445, images 41000 to 42000\n",
      "Saved features to /content/maryland_polyvore/features/features_chunk_42.npy\n",
      "Saved paths to /content/maryland_polyvore/features/paths_chunk_42.csv\n",
      "Processing chunk 43/445, images 42000 to 43000\n",
      "Saved features to /content/maryland_polyvore/features/features_chunk_43.npy\n",
      "Saved paths to /content/maryland_polyvore/features/paths_chunk_43.csv\n",
      "Processing chunk 44/445, images 43000 to 44000\n",
      "Saved features to /content/maryland_polyvore/features/features_chunk_44.npy\n",
      "Saved paths to /content/maryland_polyvore/features/paths_chunk_44.csv\n",
      "Processing chunk 45/445, images 44000 to 45000\n",
      "Saved features to /content/maryland_polyvore/features/features_chunk_45.npy\n",
      "Saved paths to /content/maryland_polyvore/features/paths_chunk_45.csv\n",
      "Processing chunk 46/445, images 45000 to 46000\n",
      "Saved features to /content/maryland_polyvore/features/features_chunk_46.npy\n",
      "Saved paths to /content/maryland_polyvore/features/paths_chunk_46.csv\n",
      "Processing chunk 47/445, images 46000 to 47000\n",
      "Saved features to /content/maryland_polyvore/features/features_chunk_47.npy\n",
      "Saved paths to /content/maryland_polyvore/features/paths_chunk_47.csv\n",
      "Processing chunk 48/445, images 47000 to 48000\n",
      "Saved features to /content/maryland_polyvore/features/features_chunk_48.npy\n",
      "Saved paths to /content/maryland_polyvore/features/paths_chunk_48.csv\n",
      "Processing chunk 49/445, images 48000 to 49000\n",
      "Saved features to /content/maryland_polyvore/features/features_chunk_49.npy\n",
      "Saved paths to /content/maryland_polyvore/features/paths_chunk_49.csv\n",
      "Processing chunk 50/445, images 49000 to 50000\n",
      "Saved features to /content/maryland_polyvore/features/features_chunk_50.npy\n",
      "Saved paths to /content/maryland_polyvore/features/paths_chunk_50.csv\n",
      "Processing chunk 51/445, images 50000 to 51000\n",
      "Saved features to /content/maryland_polyvore/features/features_chunk_51.npy\n",
      "Saved paths to /content/maryland_polyvore/features/paths_chunk_51.csv\n",
      "Processing chunk 52/445, images 51000 to 52000\n",
      "Saved features to /content/maryland_polyvore/features/features_chunk_52.npy\n",
      "Saved paths to /content/maryland_polyvore/features/paths_chunk_52.csv\n",
      "Processing chunk 53/445, images 52000 to 53000\n",
      "Saved features to /content/maryland_polyvore/features/features_chunk_53.npy\n",
      "Saved paths to /content/maryland_polyvore/features/paths_chunk_53.csv\n",
      "Processing chunk 54/445, images 53000 to 54000\n",
      "Saved features to /content/maryland_polyvore/features/features_chunk_54.npy\n",
      "Saved paths to /content/maryland_polyvore/features/paths_chunk_54.csv\n",
      "Processing chunk 55/445, images 54000 to 55000\n",
      "Saved features to /content/maryland_polyvore/features/features_chunk_55.npy\n",
      "Saved paths to /content/maryland_polyvore/features/paths_chunk_55.csv\n",
      "Processing chunk 56/445, images 55000 to 56000\n",
      "Saved features to /content/maryland_polyvore/features/features_chunk_56.npy\n",
      "Saved paths to /content/maryland_polyvore/features/paths_chunk_56.csv\n",
      "Processing chunk 57/445, images 56000 to 57000\n",
      "Saved features to /content/maryland_polyvore/features/features_chunk_57.npy\n",
      "Saved paths to /content/maryland_polyvore/features/paths_chunk_57.csv\n",
      "Processing chunk 58/445, images 57000 to 58000\n",
      "Saved features to /content/maryland_polyvore/features/features_chunk_58.npy\n",
      "Saved paths to /content/maryland_polyvore/features/paths_chunk_58.csv\n",
      "Processing chunk 59/445, images 58000 to 59000\n",
      "Saved features to /content/maryland_polyvore/features/features_chunk_59.npy\n",
      "Saved paths to /content/maryland_polyvore/features/paths_chunk_59.csv\n",
      "Processing chunk 60/445, images 59000 to 60000\n",
      "Saved features to /content/maryland_polyvore/features/features_chunk_60.npy\n",
      "Saved paths to /content/maryland_polyvore/features/paths_chunk_60.csv\n",
      "Processing chunk 61/445, images 60000 to 61000\n",
      "Saved features to /content/maryland_polyvore/features/features_chunk_61.npy\n",
      "Saved paths to /content/maryland_polyvore/features/paths_chunk_61.csv\n",
      "Processing chunk 62/445, images 61000 to 62000\n",
      "Saved features to /content/maryland_polyvore/features/features_chunk_62.npy\n",
      "Saved paths to /content/maryland_polyvore/features/paths_chunk_62.csv\n",
      "Processing chunk 63/445, images 62000 to 63000\n",
      "Saved features to /content/maryland_polyvore/features/features_chunk_63.npy\n",
      "Saved paths to /content/maryland_polyvore/features/paths_chunk_63.csv\n",
      "Processing chunk 64/445, images 63000 to 64000\n",
      "Saved features to /content/maryland_polyvore/features/features_chunk_64.npy\n",
      "Saved paths to /content/maryland_polyvore/features/paths_chunk_64.csv\n",
      "Processing chunk 65/445, images 64000 to 65000\n",
      "Saved features to /content/maryland_polyvore/features/features_chunk_65.npy\n",
      "Saved paths to /content/maryland_polyvore/features/paths_chunk_65.csv\n",
      "Processing chunk 66/445, images 65000 to 66000\n",
      "Saved features to /content/maryland_polyvore/features/features_chunk_66.npy\n",
      "Saved paths to /content/maryland_polyvore/features/paths_chunk_66.csv\n",
      "Processing chunk 67/445, images 66000 to 67000\n",
      "Saved features to /content/maryland_polyvore/features/features_chunk_67.npy\n",
      "Saved paths to /content/maryland_polyvore/features/paths_chunk_67.csv\n",
      "Processing chunk 68/445, images 67000 to 68000\n",
      "Saved features to /content/maryland_polyvore/features/features_chunk_68.npy\n",
      "Saved paths to /content/maryland_polyvore/features/paths_chunk_68.csv\n",
      "Processing chunk 69/445, images 68000 to 69000\n",
      "Saved features to /content/maryland_polyvore/features/features_chunk_69.npy\n",
      "Saved paths to /content/maryland_polyvore/features/paths_chunk_69.csv\n",
      "Processing chunk 70/445, images 69000 to 70000\n",
      "Saved features to /content/maryland_polyvore/features/features_chunk_70.npy\n",
      "Saved paths to /content/maryland_polyvore/features/paths_chunk_70.csv\n",
      "Processing chunk 71/445, images 70000 to 71000\n",
      "Saved features to /content/maryland_polyvore/features/features_chunk_71.npy\n",
      "Saved paths to /content/maryland_polyvore/features/paths_chunk_71.csv\n",
      "Processing chunk 72/445, images 71000 to 72000\n",
      "Saved features to /content/maryland_polyvore/features/features_chunk_72.npy\n",
      "Saved paths to /content/maryland_polyvore/features/paths_chunk_72.csv\n",
      "Processing chunk 73/445, images 72000 to 73000\n",
      "Saved features to /content/maryland_polyvore/features/features_chunk_73.npy\n",
      "Saved paths to /content/maryland_polyvore/features/paths_chunk_73.csv\n",
      "Processing chunk 74/445, images 73000 to 74000\n",
      "Saved features to /content/maryland_polyvore/features/features_chunk_74.npy\n",
      "Saved paths to /content/maryland_polyvore/features/paths_chunk_74.csv\n",
      "Processing chunk 75/445, images 74000 to 75000\n",
      "Saved features to /content/maryland_polyvore/features/features_chunk_75.npy\n",
      "Saved paths to /content/maryland_polyvore/features/paths_chunk_75.csv\n",
      "Processing chunk 76/445, images 75000 to 76000\n",
      "Saved features to /content/maryland_polyvore/features/features_chunk_76.npy\n",
      "Saved paths to /content/maryland_polyvore/features/paths_chunk_76.csv\n",
      "Processing chunk 77/445, images 76000 to 77000\n",
      "Saved features to /content/maryland_polyvore/features/features_chunk_77.npy\n",
      "Saved paths to /content/maryland_polyvore/features/paths_chunk_77.csv\n",
      "Processing chunk 78/445, images 77000 to 78000\n",
      "Saved features to /content/maryland_polyvore/features/features_chunk_78.npy\n",
      "Saved paths to /content/maryland_polyvore/features/paths_chunk_78.csv\n",
      "Processing chunk 79/445, images 78000 to 79000\n",
      "Saved features to /content/maryland_polyvore/features/features_chunk_79.npy\n",
      "Saved paths to /content/maryland_polyvore/features/paths_chunk_79.csv\n",
      "Processing chunk 80/445, images 79000 to 80000\n",
      "Saved features to /content/maryland_polyvore/features/features_chunk_80.npy\n",
      "Saved paths to /content/maryland_polyvore/features/paths_chunk_80.csv\n",
      "Processing chunk 81/445, images 80000 to 81000\n",
      "Saved features to /content/maryland_polyvore/features/features_chunk_81.npy\n",
      "Saved paths to /content/maryland_polyvore/features/paths_chunk_81.csv\n",
      "Processing chunk 82/445, images 81000 to 82000\n",
      "Saved features to /content/maryland_polyvore/features/features_chunk_82.npy\n",
      "Saved paths to /content/maryland_polyvore/features/paths_chunk_82.csv\n",
      "Processing chunk 83/445, images 82000 to 83000\n",
      "Saved features to /content/maryland_polyvore/features/features_chunk_83.npy\n",
      "Saved paths to /content/maryland_polyvore/features/paths_chunk_83.csv\n",
      "Processing chunk 84/445, images 83000 to 84000\n",
      "Saved features to /content/maryland_polyvore/features/features_chunk_84.npy\n",
      "Saved paths to /content/maryland_polyvore/features/paths_chunk_84.csv\n",
      "Processing chunk 85/445, images 84000 to 85000\n",
      "Saved features to /content/maryland_polyvore/features/features_chunk_85.npy\n",
      "Saved paths to /content/maryland_polyvore/features/paths_chunk_85.csv\n",
      "Processing chunk 86/445, images 85000 to 86000\n",
      "Saved features to /content/maryland_polyvore/features/features_chunk_86.npy\n",
      "Saved paths to /content/maryland_polyvore/features/paths_chunk_86.csv\n",
      "Processing chunk 87/445, images 86000 to 87000\n",
      "Saved features to /content/maryland_polyvore/features/features_chunk_87.npy\n",
      "Saved paths to /content/maryland_polyvore/features/paths_chunk_87.csv\n",
      "Processing chunk 88/445, images 87000 to 88000\n",
      "Saved features to /content/maryland_polyvore/features/features_chunk_88.npy\n",
      "Saved paths to /content/maryland_polyvore/features/paths_chunk_88.csv\n",
      "Processing chunk 89/445, images 88000 to 89000\n",
      "Saved features to /content/maryland_polyvore/features/features_chunk_89.npy\n",
      "Saved paths to /content/maryland_polyvore/features/paths_chunk_89.csv\n",
      "Processing chunk 90/445, images 89000 to 90000\n",
      "Saved features to /content/maryland_polyvore/features/features_chunk_90.npy\n",
      "Saved paths to /content/maryland_polyvore/features/paths_chunk_90.csv\n",
      "Processing chunk 91/445, images 90000 to 91000\n",
      "Saved features to /content/maryland_polyvore/features/features_chunk_91.npy\n",
      "Saved paths to /content/maryland_polyvore/features/paths_chunk_91.csv\n",
      "Processing chunk 92/445, images 91000 to 92000\n",
      "Saved features to /content/maryland_polyvore/features/features_chunk_92.npy\n",
      "Saved paths to /content/maryland_polyvore/features/paths_chunk_92.csv\n",
      "Processing chunk 93/445, images 92000 to 93000\n",
      "Saved features to /content/maryland_polyvore/features/features_chunk_93.npy\n",
      "Saved paths to /content/maryland_polyvore/features/paths_chunk_93.csv\n",
      "Processing chunk 94/445, images 93000 to 94000\n",
      "Saved features to /content/maryland_polyvore/features/features_chunk_94.npy\n",
      "Saved paths to /content/maryland_polyvore/features/paths_chunk_94.csv\n",
      "Processing chunk 95/445, images 94000 to 95000\n",
      "Saved features to /content/maryland_polyvore/features/features_chunk_95.npy\n",
      "Saved paths to /content/maryland_polyvore/features/paths_chunk_95.csv\n",
      "Processing chunk 96/445, images 95000 to 96000\n",
      "Saved features to /content/maryland_polyvore/features/features_chunk_96.npy\n",
      "Saved paths to /content/maryland_polyvore/features/paths_chunk_96.csv\n",
      "Processing chunk 97/445, images 96000 to 97000\n",
      "Saved features to /content/maryland_polyvore/features/features_chunk_97.npy\n",
      "Saved paths to /content/maryland_polyvore/features/paths_chunk_97.csv\n",
      "Processing chunk 98/445, images 97000 to 98000\n",
      "Saved features to /content/maryland_polyvore/features/features_chunk_98.npy\n",
      "Saved paths to /content/maryland_polyvore/features/paths_chunk_98.csv\n",
      "Processing chunk 99/445, images 98000 to 99000\n",
      "Saved features to /content/maryland_polyvore/features/features_chunk_99.npy\n",
      "Saved paths to /content/maryland_polyvore/features/paths_chunk_99.csv\n",
      "Processing chunk 100/445, images 99000 to 100000\n",
      "Saved features to /content/maryland_polyvore/features/features_chunk_100.npy\n",
      "Saved paths to /content/maryland_polyvore/features/paths_chunk_100.csv\n",
      "Processing chunk 101/445, images 100000 to 101000\n",
      "Saved features to /content/maryland_polyvore/features/features_chunk_101.npy\n",
      "Saved paths to /content/maryland_polyvore/features/paths_chunk_101.csv\n",
      "Processing chunk 102/445, images 101000 to 102000\n",
      "Saved features to /content/maryland_polyvore/features/features_chunk_102.npy\n",
      "Saved paths to /content/maryland_polyvore/features/paths_chunk_102.csv\n",
      "Processing chunk 103/445, images 102000 to 103000\n",
      "Saved features to /content/maryland_polyvore/features/features_chunk_103.npy\n",
      "Saved paths to /content/maryland_polyvore/features/paths_chunk_103.csv\n",
      "Processing chunk 104/445, images 103000 to 104000\n",
      "Saved features to /content/maryland_polyvore/features/features_chunk_104.npy\n",
      "Saved paths to /content/maryland_polyvore/features/paths_chunk_104.csv\n",
      "Processing chunk 105/445, images 104000 to 105000\n",
      "Saved features to /content/maryland_polyvore/features/features_chunk_105.npy\n",
      "Saved paths to /content/maryland_polyvore/features/paths_chunk_105.csv\n",
      "Processing chunk 106/445, images 105000 to 106000\n",
      "Saved features to /content/maryland_polyvore/features/features_chunk_106.npy\n",
      "Saved paths to /content/maryland_polyvore/features/paths_chunk_106.csv\n",
      "Processing chunk 107/445, images 106000 to 107000\n",
      "Saved features to /content/maryland_polyvore/features/features_chunk_107.npy\n",
      "Saved paths to /content/maryland_polyvore/features/paths_chunk_107.csv\n",
      "Processing chunk 108/445, images 107000 to 108000\n",
      "Saved features to /content/maryland_polyvore/features/features_chunk_108.npy\n",
      "Saved paths to /content/maryland_polyvore/features/paths_chunk_108.csv\n",
      "Processing chunk 109/445, images 108000 to 109000\n",
      "Saved features to /content/maryland_polyvore/features/features_chunk_109.npy\n",
      "Saved paths to /content/maryland_polyvore/features/paths_chunk_109.csv\n",
      "Processing chunk 110/445, images 109000 to 110000\n",
      "Saved features to /content/maryland_polyvore/features/features_chunk_110.npy\n",
      "Saved paths to /content/maryland_polyvore/features/paths_chunk_110.csv\n",
      "Processing chunk 111/445, images 110000 to 111000\n",
      "Saved features to /content/maryland_polyvore/features/features_chunk_111.npy\n",
      "Saved paths to /content/maryland_polyvore/features/paths_chunk_111.csv\n",
      "Processing chunk 112/445, images 111000 to 112000\n",
      "Saved features to /content/maryland_polyvore/features/features_chunk_112.npy\n",
      "Saved paths to /content/maryland_polyvore/features/paths_chunk_112.csv\n",
      "Processing chunk 113/445, images 112000 to 113000\n",
      "Saved features to /content/maryland_polyvore/features/features_chunk_113.npy\n",
      "Saved paths to /content/maryland_polyvore/features/paths_chunk_113.csv\n",
      "Processing chunk 114/445, images 113000 to 114000\n",
      "Saved features to /content/maryland_polyvore/features/features_chunk_114.npy\n",
      "Saved paths to /content/maryland_polyvore/features/paths_chunk_114.csv\n",
      "Processing chunk 115/445, images 114000 to 115000\n",
      "Saved features to /content/maryland_polyvore/features/features_chunk_115.npy\n",
      "Saved paths to /content/maryland_polyvore/features/paths_chunk_115.csv\n",
      "Processing chunk 116/445, images 115000 to 116000\n",
      "Saved features to /content/maryland_polyvore/features/features_chunk_116.npy\n",
      "Saved paths to /content/maryland_polyvore/features/paths_chunk_116.csv\n",
      "Processing chunk 117/445, images 116000 to 117000\n",
      "Saved features to /content/maryland_polyvore/features/features_chunk_117.npy\n",
      "Saved paths to /content/maryland_polyvore/features/paths_chunk_117.csv\n",
      "Processing chunk 118/445, images 117000 to 118000\n",
      "Saved features to /content/maryland_polyvore/features/features_chunk_118.npy\n",
      "Saved paths to /content/maryland_polyvore/features/paths_chunk_118.csv\n",
      "Processing chunk 119/445, images 118000 to 119000\n",
      "Saved features to /content/maryland_polyvore/features/features_chunk_119.npy\n",
      "Saved paths to /content/maryland_polyvore/features/paths_chunk_119.csv\n",
      "Processing chunk 120/445, images 119000 to 120000\n",
      "Saved features to /content/maryland_polyvore/features/features_chunk_120.npy\n",
      "Saved paths to /content/maryland_polyvore/features/paths_chunk_120.csv\n",
      "Processing chunk 121/445, images 120000 to 121000\n",
      "Saved features to /content/maryland_polyvore/features/features_chunk_121.npy\n",
      "Saved paths to /content/maryland_polyvore/features/paths_chunk_121.csv\n",
      "Processing chunk 122/445, images 121000 to 122000\n",
      "Saved features to /content/maryland_polyvore/features/features_chunk_122.npy\n",
      "Saved paths to /content/maryland_polyvore/features/paths_chunk_122.csv\n",
      "Processing chunk 123/445, images 122000 to 123000\n",
      "Saved features to /content/maryland_polyvore/features/features_chunk_123.npy\n",
      "Saved paths to /content/maryland_polyvore/features/paths_chunk_123.csv\n",
      "Processing chunk 124/445, images 123000 to 124000\n",
      "Saved features to /content/maryland_polyvore/features/features_chunk_124.npy\n",
      "Saved paths to /content/maryland_polyvore/features/paths_chunk_124.csv\n",
      "Processing chunk 125/445, images 124000 to 125000\n",
      "Saved features to /content/maryland_polyvore/features/features_chunk_125.npy\n",
      "Saved paths to /content/maryland_polyvore/features/paths_chunk_125.csv\n",
      "Processing chunk 126/445, images 125000 to 126000\n",
      "Saved features to /content/maryland_polyvore/features/features_chunk_126.npy\n",
      "Saved paths to /content/maryland_polyvore/features/paths_chunk_126.csv\n",
      "Processing chunk 127/445, images 126000 to 127000\n",
      "Saved features to /content/maryland_polyvore/features/features_chunk_127.npy\n",
      "Saved paths to /content/maryland_polyvore/features/paths_chunk_127.csv\n",
      "Processing chunk 128/445, images 127000 to 128000\n",
      "Saved features to /content/maryland_polyvore/features/features_chunk_128.npy\n",
      "Saved paths to /content/maryland_polyvore/features/paths_chunk_128.csv\n",
      "Processing chunk 129/445, images 128000 to 129000\n",
      "Saved features to /content/maryland_polyvore/features/features_chunk_129.npy\n",
      "Saved paths to /content/maryland_polyvore/features/paths_chunk_129.csv\n",
      "Processing chunk 130/445, images 129000 to 130000\n",
      "Saved features to /content/maryland_polyvore/features/features_chunk_130.npy\n",
      "Saved paths to /content/maryland_polyvore/features/paths_chunk_130.csv\n",
      "Processing chunk 131/445, images 130000 to 131000\n",
      "Saved features to /content/maryland_polyvore/features/features_chunk_131.npy\n",
      "Saved paths to /content/maryland_polyvore/features/paths_chunk_131.csv\n",
      "Processing chunk 132/445, images 131000 to 132000\n",
      "Saved features to /content/maryland_polyvore/features/features_chunk_132.npy\n",
      "Saved paths to /content/maryland_polyvore/features/paths_chunk_132.csv\n",
      "Processing chunk 133/445, images 132000 to 133000\n",
      "Saved features to /content/maryland_polyvore/features/features_chunk_133.npy\n",
      "Saved paths to /content/maryland_polyvore/features/paths_chunk_133.csv\n",
      "Processing chunk 134/445, images 133000 to 134000\n",
      "Saved features to /content/maryland_polyvore/features/features_chunk_134.npy\n",
      "Saved paths to /content/maryland_polyvore/features/paths_chunk_134.csv\n",
      "Processing chunk 135/445, images 134000 to 135000\n",
      "Saved features to /content/maryland_polyvore/features/features_chunk_135.npy\n",
      "Saved paths to /content/maryland_polyvore/features/paths_chunk_135.csv\n",
      "Processing chunk 136/445, images 135000 to 136000\n",
      "Saved features to /content/maryland_polyvore/features/features_chunk_136.npy\n",
      "Saved paths to /content/maryland_polyvore/features/paths_chunk_136.csv\n",
      "Processing chunk 137/445, images 136000 to 137000\n",
      "Saved features to /content/maryland_polyvore/features/features_chunk_137.npy\n",
      "Saved paths to /content/maryland_polyvore/features/paths_chunk_137.csv\n",
      "Processing chunk 138/445, images 137000 to 138000\n",
      "Saved features to /content/maryland_polyvore/features/features_chunk_138.npy\n",
      "Saved paths to /content/maryland_polyvore/features/paths_chunk_138.csv\n",
      "Processing chunk 139/445, images 138000 to 139000\n",
      "Saved features to /content/maryland_polyvore/features/features_chunk_139.npy\n",
      "Saved paths to /content/maryland_polyvore/features/paths_chunk_139.csv\n",
      "Processing chunk 140/445, images 139000 to 140000\n",
      "Saved features to /content/maryland_polyvore/features/features_chunk_140.npy\n",
      "Saved paths to /content/maryland_polyvore/features/paths_chunk_140.csv\n",
      "Processing chunk 141/445, images 140000 to 141000\n",
      "Saved features to /content/maryland_polyvore/features/features_chunk_141.npy\n",
      "Saved paths to /content/maryland_polyvore/features/paths_chunk_141.csv\n",
      "Processing chunk 142/445, images 141000 to 142000\n",
      "Saved features to /content/maryland_polyvore/features/features_chunk_142.npy\n",
      "Saved paths to /content/maryland_polyvore/features/paths_chunk_142.csv\n",
      "Processing chunk 143/445, images 142000 to 143000\n",
      "Saved features to /content/maryland_polyvore/features/features_chunk_143.npy\n",
      "Saved paths to /content/maryland_polyvore/features/paths_chunk_143.csv\n",
      "Processing chunk 144/445, images 143000 to 144000\n",
      "Saved features to /content/maryland_polyvore/features/features_chunk_144.npy\n",
      "Saved paths to /content/maryland_polyvore/features/paths_chunk_144.csv\n",
      "Processing chunk 145/445, images 144000 to 145000\n",
      "Saved features to /content/maryland_polyvore/features/features_chunk_145.npy\n",
      "Saved paths to /content/maryland_polyvore/features/paths_chunk_145.csv\n",
      "Processing chunk 146/445, images 145000 to 146000\n",
      "Saved features to /content/maryland_polyvore/features/features_chunk_146.npy\n",
      "Saved paths to /content/maryland_polyvore/features/paths_chunk_146.csv\n",
      "Processing chunk 147/445, images 146000 to 147000\n",
      "Saved features to /content/maryland_polyvore/features/features_chunk_147.npy\n",
      "Saved paths to /content/maryland_polyvore/features/paths_chunk_147.csv\n",
      "Processing chunk 148/445, images 147000 to 148000\n",
      "Saved features to /content/maryland_polyvore/features/features_chunk_148.npy\n",
      "Saved paths to /content/maryland_polyvore/features/paths_chunk_148.csv\n",
      "Processing chunk 149/445, images 148000 to 149000\n",
      "Saved features to /content/maryland_polyvore/features/features_chunk_149.npy\n",
      "Saved paths to /content/maryland_polyvore/features/paths_chunk_149.csv\n",
      "Processing chunk 150/445, images 149000 to 150000\n",
      "Saved features to /content/maryland_polyvore/features/features_chunk_150.npy\n",
      "Saved paths to /content/maryland_polyvore/features/paths_chunk_150.csv\n",
      "Processing chunk 151/445, images 150000 to 151000\n",
      "Saved features to /content/maryland_polyvore/features/features_chunk_151.npy\n",
      "Saved paths to /content/maryland_polyvore/features/paths_chunk_151.csv\n",
      "Processing chunk 152/445, images 151000 to 152000\n",
      "Saved features to /content/maryland_polyvore/features/features_chunk_152.npy\n",
      "Saved paths to /content/maryland_polyvore/features/paths_chunk_152.csv\n",
      "Processing chunk 153/445, images 152000 to 153000\n",
      "Saved features to /content/maryland_polyvore/features/features_chunk_153.npy\n",
      "Saved paths to /content/maryland_polyvore/features/paths_chunk_153.csv\n",
      "Processing chunk 154/445, images 153000 to 154000\n",
      "Saved features to /content/maryland_polyvore/features/features_chunk_154.npy\n",
      "Saved paths to /content/maryland_polyvore/features/paths_chunk_154.csv\n",
      "Processing chunk 155/445, images 154000 to 155000\n",
      "Saved features to /content/maryland_polyvore/features/features_chunk_155.npy\n",
      "Saved paths to /content/maryland_polyvore/features/paths_chunk_155.csv\n",
      "Processing chunk 156/445, images 155000 to 156000\n",
      "Saved features to /content/maryland_polyvore/features/features_chunk_156.npy\n",
      "Saved paths to /content/maryland_polyvore/features/paths_chunk_156.csv\n",
      "Processing chunk 157/445, images 156000 to 157000\n",
      "Saved features to /content/maryland_polyvore/features/features_chunk_157.npy\n",
      "Saved paths to /content/maryland_polyvore/features/paths_chunk_157.csv\n",
      "Processing chunk 158/445, images 157000 to 158000\n",
      "Saved features to /content/maryland_polyvore/features/features_chunk_158.npy\n",
      "Saved paths to /content/maryland_polyvore/features/paths_chunk_158.csv\n",
      "Processing chunk 159/445, images 158000 to 159000\n",
      "Saved features to /content/maryland_polyvore/features/features_chunk_159.npy\n",
      "Saved paths to /content/maryland_polyvore/features/paths_chunk_159.csv\n",
      "Processing chunk 160/445, images 159000 to 160000\n",
      "Saved features to /content/maryland_polyvore/features/features_chunk_160.npy\n",
      "Saved paths to /content/maryland_polyvore/features/paths_chunk_160.csv\n",
      "Processing chunk 161/445, images 160000 to 161000\n",
      "Saved features to /content/maryland_polyvore/features/features_chunk_161.npy\n",
      "Saved paths to /content/maryland_polyvore/features/paths_chunk_161.csv\n",
      "Processing chunk 162/445, images 161000 to 162000\n",
      "Saved features to /content/maryland_polyvore/features/features_chunk_162.npy\n",
      "Saved paths to /content/maryland_polyvore/features/paths_chunk_162.csv\n",
      "Processing chunk 163/445, images 162000 to 163000\n",
      "Saved features to /content/maryland_polyvore/features/features_chunk_163.npy\n",
      "Saved paths to /content/maryland_polyvore/features/paths_chunk_163.csv\n",
      "Processing chunk 164/445, images 163000 to 164000\n",
      "Saved features to /content/maryland_polyvore/features/features_chunk_164.npy\n",
      "Saved paths to /content/maryland_polyvore/features/paths_chunk_164.csv\n",
      "Processing chunk 165/445, images 164000 to 165000\n",
      "Saved features to /content/maryland_polyvore/features/features_chunk_165.npy\n",
      "Saved paths to /content/maryland_polyvore/features/paths_chunk_165.csv\n",
      "Processing chunk 166/445, images 165000 to 166000\n",
      "Saved features to /content/maryland_polyvore/features/features_chunk_166.npy\n",
      "Saved paths to /content/maryland_polyvore/features/paths_chunk_166.csv\n",
      "Processing chunk 167/445, images 166000 to 167000\n",
      "Saved features to /content/maryland_polyvore/features/features_chunk_167.npy\n",
      "Saved paths to /content/maryland_polyvore/features/paths_chunk_167.csv\n",
      "Processing chunk 168/445, images 167000 to 168000\n",
      "Saved features to /content/maryland_polyvore/features/features_chunk_168.npy\n",
      "Saved paths to /content/maryland_polyvore/features/paths_chunk_168.csv\n",
      "Processing chunk 169/445, images 168000 to 169000\n",
      "Saved features to /content/maryland_polyvore/features/features_chunk_169.npy\n",
      "Saved paths to /content/maryland_polyvore/features/paths_chunk_169.csv\n",
      "Processing chunk 170/445, images 169000 to 170000\n",
      "Saved features to /content/maryland_polyvore/features/features_chunk_170.npy\n",
      "Saved paths to /content/maryland_polyvore/features/paths_chunk_170.csv\n",
      "Processing chunk 171/445, images 170000 to 171000\n",
      "Saved features to /content/maryland_polyvore/features/features_chunk_171.npy\n",
      "Saved paths to /content/maryland_polyvore/features/paths_chunk_171.csv\n",
      "Processing chunk 172/445, images 171000 to 172000\n",
      "Saved features to /content/maryland_polyvore/features/features_chunk_172.npy\n",
      "Saved paths to /content/maryland_polyvore/features/paths_chunk_172.csv\n",
      "Processing chunk 173/445, images 172000 to 173000\n",
      "Saved features to /content/maryland_polyvore/features/features_chunk_173.npy\n",
      "Saved paths to /content/maryland_polyvore/features/paths_chunk_173.csv\n",
      "Processing chunk 174/445, images 173000 to 174000\n",
      "Saved features to /content/maryland_polyvore/features/features_chunk_174.npy\n",
      "Saved paths to /content/maryland_polyvore/features/paths_chunk_174.csv\n",
      "Processing chunk 175/445, images 174000 to 175000\n",
      "Saved features to /content/maryland_polyvore/features/features_chunk_175.npy\n",
      "Saved paths to /content/maryland_polyvore/features/paths_chunk_175.csv\n",
      "Processing chunk 176/445, images 175000 to 176000\n",
      "Saved features to /content/maryland_polyvore/features/features_chunk_176.npy\n",
      "Saved paths to /content/maryland_polyvore/features/paths_chunk_176.csv\n",
      "Processing chunk 177/445, images 176000 to 177000\n",
      "Saved features to /content/maryland_polyvore/features/features_chunk_177.npy\n",
      "Saved paths to /content/maryland_polyvore/features/paths_chunk_177.csv\n",
      "Processing chunk 178/445, images 177000 to 178000\n",
      "Saved features to /content/maryland_polyvore/features/features_chunk_178.npy\n",
      "Saved paths to /content/maryland_polyvore/features/paths_chunk_178.csv\n",
      "Processing chunk 179/445, images 178000 to 179000\n",
      "Saved features to /content/maryland_polyvore/features/features_chunk_179.npy\n",
      "Saved paths to /content/maryland_polyvore/features/paths_chunk_179.csv\n",
      "Processing chunk 180/445, images 179000 to 180000\n",
      "Saved features to /content/maryland_polyvore/features/features_chunk_180.npy\n",
      "Saved paths to /content/maryland_polyvore/features/paths_chunk_180.csv\n",
      "Processing chunk 181/445, images 180000 to 181000\n",
      "Saved features to /content/maryland_polyvore/features/features_chunk_181.npy\n",
      "Saved paths to /content/maryland_polyvore/features/paths_chunk_181.csv\n",
      "Processing chunk 182/445, images 181000 to 182000\n",
      "Saved features to /content/maryland_polyvore/features/features_chunk_182.npy\n",
      "Saved paths to /content/maryland_polyvore/features/paths_chunk_182.csv\n",
      "Processing chunk 183/445, images 182000 to 183000\n",
      "Saved features to /content/maryland_polyvore/features/features_chunk_183.npy\n",
      "Saved paths to /content/maryland_polyvore/features/paths_chunk_183.csv\n",
      "Processing chunk 184/445, images 183000 to 184000\n",
      "Saved features to /content/maryland_polyvore/features/features_chunk_184.npy\n",
      "Saved paths to /content/maryland_polyvore/features/paths_chunk_184.csv\n",
      "Processing chunk 185/445, images 184000 to 185000\n",
      "Saved features to /content/maryland_polyvore/features/features_chunk_185.npy\n",
      "Saved paths to /content/maryland_polyvore/features/paths_chunk_185.csv\n",
      "Processing chunk 186/445, images 185000 to 186000\n",
      "Saved features to /content/maryland_polyvore/features/features_chunk_186.npy\n",
      "Saved paths to /content/maryland_polyvore/features/paths_chunk_186.csv\n",
      "Processing chunk 187/445, images 186000 to 187000\n",
      "Saved features to /content/maryland_polyvore/features/features_chunk_187.npy\n",
      "Saved paths to /content/maryland_polyvore/features/paths_chunk_187.csv\n",
      "Processing chunk 188/445, images 187000 to 188000\n",
      "Saved features to /content/maryland_polyvore/features/features_chunk_188.npy\n",
      "Saved paths to /content/maryland_polyvore/features/paths_chunk_188.csv\n",
      "Processing chunk 189/445, images 188000 to 189000\n",
      "Saved features to /content/maryland_polyvore/features/features_chunk_189.npy\n",
      "Saved paths to /content/maryland_polyvore/features/paths_chunk_189.csv\n",
      "Processing chunk 190/445, images 189000 to 190000\n",
      "Saved features to /content/maryland_polyvore/features/features_chunk_190.npy\n",
      "Saved paths to /content/maryland_polyvore/features/paths_chunk_190.csv\n",
      "Processing chunk 191/445, images 190000 to 191000\n",
      "Saved features to /content/maryland_polyvore/features/features_chunk_191.npy\n",
      "Saved paths to /content/maryland_polyvore/features/paths_chunk_191.csv\n",
      "Processing chunk 192/445, images 191000 to 192000\n",
      "Saved features to /content/maryland_polyvore/features/features_chunk_192.npy\n",
      "Saved paths to /content/maryland_polyvore/features/paths_chunk_192.csv\n",
      "Processing chunk 193/445, images 192000 to 193000\n",
      "Saved features to /content/maryland_polyvore/features/features_chunk_193.npy\n",
      "Saved paths to /content/maryland_polyvore/features/paths_chunk_193.csv\n",
      "Processing chunk 194/445, images 193000 to 194000\n",
      "Saved features to /content/maryland_polyvore/features/features_chunk_194.npy\n",
      "Saved paths to /content/maryland_polyvore/features/paths_chunk_194.csv\n",
      "Processing chunk 195/445, images 194000 to 195000\n",
      "Saved features to /content/maryland_polyvore/features/features_chunk_195.npy\n",
      "Saved paths to /content/maryland_polyvore/features/paths_chunk_195.csv\n",
      "Processing chunk 196/445, images 195000 to 196000\n",
      "Saved features to /content/maryland_polyvore/features/features_chunk_196.npy\n",
      "Saved paths to /content/maryland_polyvore/features/paths_chunk_196.csv\n",
      "Processing chunk 197/445, images 196000 to 197000\n",
      "Saved features to /content/maryland_polyvore/features/features_chunk_197.npy\n",
      "Saved paths to /content/maryland_polyvore/features/paths_chunk_197.csv\n",
      "Processing chunk 198/445, images 197000 to 198000\n",
      "Saved features to /content/maryland_polyvore/features/features_chunk_198.npy\n",
      "Saved paths to /content/maryland_polyvore/features/paths_chunk_198.csv\n",
      "Processing chunk 199/445, images 198000 to 199000\n",
      "Saved features to /content/maryland_polyvore/features/features_chunk_199.npy\n",
      "Saved paths to /content/maryland_polyvore/features/paths_chunk_199.csv\n",
      "Processing chunk 200/445, images 199000 to 200000\n",
      "Saved features to /content/maryland_polyvore/features/features_chunk_200.npy\n",
      "Saved paths to /content/maryland_polyvore/features/paths_chunk_200.csv\n",
      "Processing chunk 201/445, images 200000 to 201000\n",
      "Saved features to /content/maryland_polyvore/features/features_chunk_201.npy\n",
      "Saved paths to /content/maryland_polyvore/features/paths_chunk_201.csv\n",
      "Processing chunk 202/445, images 201000 to 202000\n",
      "Saved features to /content/maryland_polyvore/features/features_chunk_202.npy\n",
      "Saved paths to /content/maryland_polyvore/features/paths_chunk_202.csv\n",
      "Processing chunk 203/445, images 202000 to 203000\n",
      "Saved features to /content/maryland_polyvore/features/features_chunk_203.npy\n",
      "Saved paths to /content/maryland_polyvore/features/paths_chunk_203.csv\n",
      "Processing chunk 204/445, images 203000 to 204000\n",
      "Saved features to /content/maryland_polyvore/features/features_chunk_204.npy\n",
      "Saved paths to /content/maryland_polyvore/features/paths_chunk_204.csv\n",
      "Processing chunk 205/445, images 204000 to 205000\n",
      "Saved features to /content/maryland_polyvore/features/features_chunk_205.npy\n",
      "Saved paths to /content/maryland_polyvore/features/paths_chunk_205.csv\n",
      "Processing chunk 206/445, images 205000 to 206000\n",
      "Saved features to /content/maryland_polyvore/features/features_chunk_206.npy\n",
      "Saved paths to /content/maryland_polyvore/features/paths_chunk_206.csv\n",
      "Processing chunk 207/445, images 206000 to 207000\n",
      "Saved features to /content/maryland_polyvore/features/features_chunk_207.npy\n",
      "Saved paths to /content/maryland_polyvore/features/paths_chunk_207.csv\n",
      "Processing chunk 208/445, images 207000 to 208000\n",
      "Saved features to /content/maryland_polyvore/features/features_chunk_208.npy\n",
      "Saved paths to /content/maryland_polyvore/features/paths_chunk_208.csv\n",
      "Processing chunk 209/445, images 208000 to 209000\n",
      "Saved features to /content/maryland_polyvore/features/features_chunk_209.npy\n",
      "Saved paths to /content/maryland_polyvore/features/paths_chunk_209.csv\n",
      "Processing chunk 210/445, images 209000 to 210000\n",
      "Saved features to /content/maryland_polyvore/features/features_chunk_210.npy\n",
      "Saved paths to /content/maryland_polyvore/features/paths_chunk_210.csv\n",
      "Processing chunk 211/445, images 210000 to 211000\n",
      "Saved features to /content/maryland_polyvore/features/features_chunk_211.npy\n",
      "Saved paths to /content/maryland_polyvore/features/paths_chunk_211.csv\n",
      "Processing chunk 212/445, images 211000 to 212000\n",
      "Saved features to /content/maryland_polyvore/features/features_chunk_212.npy\n",
      "Saved paths to /content/maryland_polyvore/features/paths_chunk_212.csv\n",
      "Processing chunk 213/445, images 212000 to 213000\n",
      "Saved features to /content/maryland_polyvore/features/features_chunk_213.npy\n",
      "Saved paths to /content/maryland_polyvore/features/paths_chunk_213.csv\n",
      "Processing chunk 214/445, images 213000 to 214000\n",
      "Saved features to /content/maryland_polyvore/features/features_chunk_214.npy\n",
      "Saved paths to /content/maryland_polyvore/features/paths_chunk_214.csv\n",
      "Processing chunk 215/445, images 214000 to 215000\n",
      "Saved features to /content/maryland_polyvore/features/features_chunk_215.npy\n",
      "Saved paths to /content/maryland_polyvore/features/paths_chunk_215.csv\n",
      "Processing chunk 216/445, images 215000 to 216000\n",
      "Saved features to /content/maryland_polyvore/features/features_chunk_216.npy\n",
      "Saved paths to /content/maryland_polyvore/features/paths_chunk_216.csv\n",
      "Processing chunk 217/445, images 216000 to 217000\n",
      "Saved features to /content/maryland_polyvore/features/features_chunk_217.npy\n",
      "Saved paths to /content/maryland_polyvore/features/paths_chunk_217.csv\n",
      "Processing chunk 218/445, images 217000 to 218000\n",
      "Saved features to /content/maryland_polyvore/features/features_chunk_218.npy\n",
      "Saved paths to /content/maryland_polyvore/features/paths_chunk_218.csv\n",
      "Processing chunk 219/445, images 218000 to 219000\n",
      "Saved features to /content/maryland_polyvore/features/features_chunk_219.npy\n",
      "Saved paths to /content/maryland_polyvore/features/paths_chunk_219.csv\n",
      "Processing chunk 220/445, images 219000 to 220000\n",
      "Saved features to /content/maryland_polyvore/features/features_chunk_220.npy\n",
      "Saved paths to /content/maryland_polyvore/features/paths_chunk_220.csv\n",
      "Processing chunk 221/445, images 220000 to 221000\n",
      "Saved features to /content/maryland_polyvore/features/features_chunk_221.npy\n",
      "Saved paths to /content/maryland_polyvore/features/paths_chunk_221.csv\n",
      "Processing chunk 222/445, images 221000 to 222000\n",
      "Saved features to /content/maryland_polyvore/features/features_chunk_222.npy\n",
      "Saved paths to /content/maryland_polyvore/features/paths_chunk_222.csv\n",
      "Processing chunk 223/445, images 222000 to 223000\n",
      "Saved features to /content/maryland_polyvore/features/features_chunk_223.npy\n",
      "Saved paths to /content/maryland_polyvore/features/paths_chunk_223.csv\n",
      "Processing chunk 224/445, images 223000 to 224000\n",
      "Saved features to /content/maryland_polyvore/features/features_chunk_224.npy\n",
      "Saved paths to /content/maryland_polyvore/features/paths_chunk_224.csv\n",
      "Processing chunk 225/445, images 224000 to 225000\n",
      "Saved features to /content/maryland_polyvore/features/features_chunk_225.npy\n",
      "Saved paths to /content/maryland_polyvore/features/paths_chunk_225.csv\n",
      "Processing chunk 226/445, images 225000 to 226000\n",
      "Saved features to /content/maryland_polyvore/features/features_chunk_226.npy\n",
      "Saved paths to /content/maryland_polyvore/features/paths_chunk_226.csv\n",
      "Processing chunk 227/445, images 226000 to 227000\n",
      "Saved features to /content/maryland_polyvore/features/features_chunk_227.npy\n",
      "Saved paths to /content/maryland_polyvore/features/paths_chunk_227.csv\n",
      "Processing chunk 228/445, images 227000 to 228000\n",
      "Saved features to /content/maryland_polyvore/features/features_chunk_228.npy\n",
      "Saved paths to /content/maryland_polyvore/features/paths_chunk_228.csv\n",
      "Processing chunk 229/445, images 228000 to 229000\n",
      "Saved features to /content/maryland_polyvore/features/features_chunk_229.npy\n",
      "Saved paths to /content/maryland_polyvore/features/paths_chunk_229.csv\n",
      "Processing chunk 230/445, images 229000 to 230000\n",
      "Saved features to /content/maryland_polyvore/features/features_chunk_230.npy\n",
      "Saved paths to /content/maryland_polyvore/features/paths_chunk_230.csv\n",
      "Processing chunk 231/445, images 230000 to 231000\n",
      "Saved features to /content/maryland_polyvore/features/features_chunk_231.npy\n",
      "Saved paths to /content/maryland_polyvore/features/paths_chunk_231.csv\n",
      "Processing chunk 232/445, images 231000 to 232000\n",
      "Saved features to /content/maryland_polyvore/features/features_chunk_232.npy\n",
      "Saved paths to /content/maryland_polyvore/features/paths_chunk_232.csv\n",
      "Processing chunk 233/445, images 232000 to 233000\n",
      "Saved features to /content/maryland_polyvore/features/features_chunk_233.npy\n",
      "Saved paths to /content/maryland_polyvore/features/paths_chunk_233.csv\n",
      "Processing chunk 234/445, images 233000 to 234000\n",
      "Saved features to /content/maryland_polyvore/features/features_chunk_234.npy\n",
      "Saved paths to /content/maryland_polyvore/features/paths_chunk_234.csv\n",
      "Processing chunk 235/445, images 234000 to 235000\n",
      "Saved features to /content/maryland_polyvore/features/features_chunk_235.npy\n",
      "Saved paths to /content/maryland_polyvore/features/paths_chunk_235.csv\n",
      "Processing chunk 236/445, images 235000 to 236000\n",
      "Saved features to /content/maryland_polyvore/features/features_chunk_236.npy\n",
      "Saved paths to /content/maryland_polyvore/features/paths_chunk_236.csv\n",
      "Processing chunk 237/445, images 236000 to 237000\n",
      "Saved features to /content/maryland_polyvore/features/features_chunk_237.npy\n",
      "Saved paths to /content/maryland_polyvore/features/paths_chunk_237.csv\n",
      "Processing chunk 238/445, images 237000 to 238000\n",
      "Saved features to /content/maryland_polyvore/features/features_chunk_238.npy\n",
      "Saved paths to /content/maryland_polyvore/features/paths_chunk_238.csv\n",
      "Processing chunk 239/445, images 238000 to 239000\n",
      "Saved features to /content/maryland_polyvore/features/features_chunk_239.npy\n",
      "Saved paths to /content/maryland_polyvore/features/paths_chunk_239.csv\n",
      "Processing chunk 240/445, images 239000 to 240000\n",
      "Saved features to /content/maryland_polyvore/features/features_chunk_240.npy\n",
      "Saved paths to /content/maryland_polyvore/features/paths_chunk_240.csv\n",
      "Processing chunk 241/445, images 240000 to 241000\n",
      "Saved features to /content/maryland_polyvore/features/features_chunk_241.npy\n",
      "Saved paths to /content/maryland_polyvore/features/paths_chunk_241.csv\n",
      "Processing chunk 242/445, images 241000 to 242000\n",
      "Saved features to /content/maryland_polyvore/features/features_chunk_242.npy\n",
      "Saved paths to /content/maryland_polyvore/features/paths_chunk_242.csv\n",
      "Processing chunk 243/445, images 242000 to 243000\n",
      "Saved features to /content/maryland_polyvore/features/features_chunk_243.npy\n",
      "Saved paths to /content/maryland_polyvore/features/paths_chunk_243.csv\n",
      "Processing chunk 244/445, images 243000 to 244000\n",
      "Saved features to /content/maryland_polyvore/features/features_chunk_244.npy\n",
      "Saved paths to /content/maryland_polyvore/features/paths_chunk_244.csv\n",
      "Processing chunk 245/445, images 244000 to 245000\n",
      "Saved features to /content/maryland_polyvore/features/features_chunk_245.npy\n",
      "Saved paths to /content/maryland_polyvore/features/paths_chunk_245.csv\n",
      "Processing chunk 246/445, images 245000 to 246000\n",
      "Saved features to /content/maryland_polyvore/features/features_chunk_246.npy\n",
      "Saved paths to /content/maryland_polyvore/features/paths_chunk_246.csv\n",
      "Processing chunk 247/445, images 246000 to 247000\n",
      "Saved features to /content/maryland_polyvore/features/features_chunk_247.npy\n",
      "Saved paths to /content/maryland_polyvore/features/paths_chunk_247.csv\n",
      "Processing chunk 248/445, images 247000 to 248000\n",
      "Saved features to /content/maryland_polyvore/features/features_chunk_248.npy\n",
      "Saved paths to /content/maryland_polyvore/features/paths_chunk_248.csv\n",
      "Processing chunk 249/445, images 248000 to 249000\n",
      "Saved features to /content/maryland_polyvore/features/features_chunk_249.npy\n",
      "Saved paths to /content/maryland_polyvore/features/paths_chunk_249.csv\n",
      "Processing chunk 250/445, images 249000 to 250000\n",
      "Saved features to /content/maryland_polyvore/features/features_chunk_250.npy\n",
      "Saved paths to /content/maryland_polyvore/features/paths_chunk_250.csv\n",
      "Processing chunk 251/445, images 250000 to 251000\n",
      "Saved features to /content/maryland_polyvore/features/features_chunk_251.npy\n",
      "Saved paths to /content/maryland_polyvore/features/paths_chunk_251.csv\n",
      "Processing chunk 252/445, images 251000 to 252000\n",
      "Saved features to /content/maryland_polyvore/features/features_chunk_252.npy\n",
      "Saved paths to /content/maryland_polyvore/features/paths_chunk_252.csv\n",
      "Processing chunk 253/445, images 252000 to 253000\n",
      "Saved features to /content/maryland_polyvore/features/features_chunk_253.npy\n",
      "Saved paths to /content/maryland_polyvore/features/paths_chunk_253.csv\n",
      "Processing chunk 254/445, images 253000 to 254000\n",
      "Saved features to /content/maryland_polyvore/features/features_chunk_254.npy\n",
      "Saved paths to /content/maryland_polyvore/features/paths_chunk_254.csv\n",
      "Processing chunk 255/445, images 254000 to 255000\n",
      "Saved features to /content/maryland_polyvore/features/features_chunk_255.npy\n",
      "Saved paths to /content/maryland_polyvore/features/paths_chunk_255.csv\n",
      "Processing chunk 256/445, images 255000 to 256000\n",
      "Saved features to /content/maryland_polyvore/features/features_chunk_256.npy\n",
      "Saved paths to /content/maryland_polyvore/features/paths_chunk_256.csv\n",
      "Processing chunk 257/445, images 256000 to 257000\n",
      "Saved features to /content/maryland_polyvore/features/features_chunk_257.npy\n",
      "Saved paths to /content/maryland_polyvore/features/paths_chunk_257.csv\n",
      "Processing chunk 258/445, images 257000 to 258000\n",
      "Saved features to /content/maryland_polyvore/features/features_chunk_258.npy\n",
      "Saved paths to /content/maryland_polyvore/features/paths_chunk_258.csv\n",
      "Processing chunk 259/445, images 258000 to 259000\n",
      "Saved features to /content/maryland_polyvore/features/features_chunk_259.npy\n",
      "Saved paths to /content/maryland_polyvore/features/paths_chunk_259.csv\n",
      "Processing chunk 260/445, images 259000 to 260000\n",
      "Saved features to /content/maryland_polyvore/features/features_chunk_260.npy\n",
      "Saved paths to /content/maryland_polyvore/features/paths_chunk_260.csv\n",
      "Processing chunk 261/445, images 260000 to 261000\n",
      "Saved features to /content/maryland_polyvore/features/features_chunk_261.npy\n",
      "Saved paths to /content/maryland_polyvore/features/paths_chunk_261.csv\n",
      "Processing chunk 262/445, images 261000 to 262000\n",
      "Saved features to /content/maryland_polyvore/features/features_chunk_262.npy\n",
      "Saved paths to /content/maryland_polyvore/features/paths_chunk_262.csv\n",
      "Processing chunk 263/445, images 262000 to 263000\n",
      "Saved features to /content/maryland_polyvore/features/features_chunk_263.npy\n",
      "Saved paths to /content/maryland_polyvore/features/paths_chunk_263.csv\n",
      "Processing chunk 264/445, images 263000 to 264000\n",
      "Saved features to /content/maryland_polyvore/features/features_chunk_264.npy\n",
      "Saved paths to /content/maryland_polyvore/features/paths_chunk_264.csv\n",
      "Processing chunk 265/445, images 264000 to 265000\n",
      "Saved features to /content/maryland_polyvore/features/features_chunk_265.npy\n",
      "Saved paths to /content/maryland_polyvore/features/paths_chunk_265.csv\n",
      "Processing chunk 266/445, images 265000 to 266000\n",
      "Saved features to /content/maryland_polyvore/features/features_chunk_266.npy\n",
      "Saved paths to /content/maryland_polyvore/features/paths_chunk_266.csv\n",
      "Processing chunk 267/445, images 266000 to 267000\n",
      "Saved features to /content/maryland_polyvore/features/features_chunk_267.npy\n",
      "Saved paths to /content/maryland_polyvore/features/paths_chunk_267.csv\n",
      "Processing chunk 268/445, images 267000 to 268000\n",
      "Saved features to /content/maryland_polyvore/features/features_chunk_268.npy\n",
      "Saved paths to /content/maryland_polyvore/features/paths_chunk_268.csv\n",
      "Processing chunk 269/445, images 268000 to 269000\n",
      "Saved features to /content/maryland_polyvore/features/features_chunk_269.npy\n",
      "Saved paths to /content/maryland_polyvore/features/paths_chunk_269.csv\n",
      "Processing chunk 270/445, images 269000 to 270000\n",
      "Saved features to /content/maryland_polyvore/features/features_chunk_270.npy\n",
      "Saved paths to /content/maryland_polyvore/features/paths_chunk_270.csv\n",
      "Processing chunk 271/445, images 270000 to 271000\n",
      "Saved features to /content/maryland_polyvore/features/features_chunk_271.npy\n",
      "Saved paths to /content/maryland_polyvore/features/paths_chunk_271.csv\n",
      "Processing chunk 272/445, images 271000 to 272000\n",
      "Saved features to /content/maryland_polyvore/features/features_chunk_272.npy\n",
      "Saved paths to /content/maryland_polyvore/features/paths_chunk_272.csv\n",
      "Processing chunk 273/445, images 272000 to 273000\n",
      "Saved features to /content/maryland_polyvore/features/features_chunk_273.npy\n",
      "Saved paths to /content/maryland_polyvore/features/paths_chunk_273.csv\n",
      "Processing chunk 274/445, images 273000 to 274000\n",
      "Saved features to /content/maryland_polyvore/features/features_chunk_274.npy\n",
      "Saved paths to /content/maryland_polyvore/features/paths_chunk_274.csv\n",
      "Processing chunk 275/445, images 274000 to 275000\n",
      "Saved features to /content/maryland_polyvore/features/features_chunk_275.npy\n",
      "Saved paths to /content/maryland_polyvore/features/paths_chunk_275.csv\n",
      "Processing chunk 276/445, images 275000 to 276000\n",
      "Saved features to /content/maryland_polyvore/features/features_chunk_276.npy\n",
      "Saved paths to /content/maryland_polyvore/features/paths_chunk_276.csv\n",
      "Processing chunk 277/445, images 276000 to 277000\n",
      "Saved features to /content/maryland_polyvore/features/features_chunk_277.npy\n",
      "Saved paths to /content/maryland_polyvore/features/paths_chunk_277.csv\n",
      "Processing chunk 278/445, images 277000 to 278000\n",
      "Saved features to /content/maryland_polyvore/features/features_chunk_278.npy\n",
      "Saved paths to /content/maryland_polyvore/features/paths_chunk_278.csv\n",
      "Processing chunk 279/445, images 278000 to 279000\n",
      "Saved features to /content/maryland_polyvore/features/features_chunk_279.npy\n",
      "Saved paths to /content/maryland_polyvore/features/paths_chunk_279.csv\n",
      "Processing chunk 280/445, images 279000 to 280000\n",
      "Saved features to /content/maryland_polyvore/features/features_chunk_280.npy\n",
      "Saved paths to /content/maryland_polyvore/features/paths_chunk_280.csv\n",
      "Processing chunk 281/445, images 280000 to 281000\n",
      "Saved features to /content/maryland_polyvore/features/features_chunk_281.npy\n",
      "Saved paths to /content/maryland_polyvore/features/paths_chunk_281.csv\n",
      "Processing chunk 282/445, images 281000 to 282000\n",
      "Saved features to /content/maryland_polyvore/features/features_chunk_282.npy\n",
      "Saved paths to /content/maryland_polyvore/features/paths_chunk_282.csv\n",
      "Processing chunk 283/445, images 282000 to 283000\n",
      "Saved features to /content/maryland_polyvore/features/features_chunk_283.npy\n",
      "Saved paths to /content/maryland_polyvore/features/paths_chunk_283.csv\n",
      "Processing chunk 284/445, images 283000 to 284000\n",
      "Saved features to /content/maryland_polyvore/features/features_chunk_284.npy\n",
      "Saved paths to /content/maryland_polyvore/features/paths_chunk_284.csv\n",
      "Processing chunk 285/445, images 284000 to 285000\n",
      "Saved features to /content/maryland_polyvore/features/features_chunk_285.npy\n",
      "Saved paths to /content/maryland_polyvore/features/paths_chunk_285.csv\n",
      "Processing chunk 286/445, images 285000 to 286000\n",
      "Saved features to /content/maryland_polyvore/features/features_chunk_286.npy\n",
      "Saved paths to /content/maryland_polyvore/features/paths_chunk_286.csv\n",
      "Processing chunk 287/445, images 286000 to 287000\n",
      "Saved features to /content/maryland_polyvore/features/features_chunk_287.npy\n",
      "Saved paths to /content/maryland_polyvore/features/paths_chunk_287.csv\n",
      "Processing chunk 288/445, images 287000 to 288000\n",
      "Saved features to /content/maryland_polyvore/features/features_chunk_288.npy\n",
      "Saved paths to /content/maryland_polyvore/features/paths_chunk_288.csv\n",
      "Processing chunk 289/445, images 288000 to 289000\n",
      "Saved features to /content/maryland_polyvore/features/features_chunk_289.npy\n",
      "Saved paths to /content/maryland_polyvore/features/paths_chunk_289.csv\n",
      "Processing chunk 290/445, images 289000 to 290000\n",
      "Saved features to /content/maryland_polyvore/features/features_chunk_290.npy\n",
      "Saved paths to /content/maryland_polyvore/features/paths_chunk_290.csv\n",
      "Processing chunk 291/445, images 290000 to 291000\n",
      "Saved features to /content/maryland_polyvore/features/features_chunk_291.npy\n",
      "Saved paths to /content/maryland_polyvore/features/paths_chunk_291.csv\n",
      "Processing chunk 292/445, images 291000 to 292000\n",
      "Saved features to /content/maryland_polyvore/features/features_chunk_292.npy\n",
      "Saved paths to /content/maryland_polyvore/features/paths_chunk_292.csv\n",
      "Processing chunk 293/445, images 292000 to 293000\n",
      "Saved features to /content/maryland_polyvore/features/features_chunk_293.npy\n",
      "Saved paths to /content/maryland_polyvore/features/paths_chunk_293.csv\n",
      "Processing chunk 294/445, images 293000 to 294000\n",
      "Saved features to /content/maryland_polyvore/features/features_chunk_294.npy\n",
      "Saved paths to /content/maryland_polyvore/features/paths_chunk_294.csv\n",
      "Processing chunk 295/445, images 294000 to 295000\n",
      "Saved features to /content/maryland_polyvore/features/features_chunk_295.npy\n",
      "Saved paths to /content/maryland_polyvore/features/paths_chunk_295.csv\n",
      "Processing chunk 296/445, images 295000 to 296000\n",
      "Saved features to /content/maryland_polyvore/features/features_chunk_296.npy\n",
      "Saved paths to /content/maryland_polyvore/features/paths_chunk_296.csv\n",
      "Processing chunk 297/445, images 296000 to 297000\n",
      "Saved features to /content/maryland_polyvore/features/features_chunk_297.npy\n",
      "Saved paths to /content/maryland_polyvore/features/paths_chunk_297.csv\n",
      "Processing chunk 298/445, images 297000 to 298000\n",
      "Saved features to /content/maryland_polyvore/features/features_chunk_298.npy\n",
      "Saved paths to /content/maryland_polyvore/features/paths_chunk_298.csv\n",
      "Processing chunk 299/445, images 298000 to 299000\n",
      "Saved features to /content/maryland_polyvore/features/features_chunk_299.npy\n",
      "Saved paths to /content/maryland_polyvore/features/paths_chunk_299.csv\n",
      "Processing chunk 300/445, images 299000 to 300000\n",
      "Saved features to /content/maryland_polyvore/features/features_chunk_300.npy\n",
      "Saved paths to /content/maryland_polyvore/features/paths_chunk_300.csv\n",
      "Processing chunk 301/445, images 300000 to 301000\n",
      "Saved features to /content/maryland_polyvore/features/features_chunk_301.npy\n",
      "Saved paths to /content/maryland_polyvore/features/paths_chunk_301.csv\n",
      "Processing chunk 302/445, images 301000 to 302000\n",
      "Saved features to /content/maryland_polyvore/features/features_chunk_302.npy\n",
      "Saved paths to /content/maryland_polyvore/features/paths_chunk_302.csv\n",
      "Processing chunk 303/445, images 302000 to 303000\n",
      "Saved features to /content/maryland_polyvore/features/features_chunk_303.npy\n",
      "Saved paths to /content/maryland_polyvore/features/paths_chunk_303.csv\n",
      "Processing chunk 304/445, images 303000 to 304000\n",
      "Saved features to /content/maryland_polyvore/features/features_chunk_304.npy\n",
      "Saved paths to /content/maryland_polyvore/features/paths_chunk_304.csv\n",
      "Processing chunk 305/445, images 304000 to 305000\n",
      "Saved features to /content/maryland_polyvore/features/features_chunk_305.npy\n",
      "Saved paths to /content/maryland_polyvore/features/paths_chunk_305.csv\n",
      "Processing chunk 306/445, images 305000 to 306000\n",
      "Saved features to /content/maryland_polyvore/features/features_chunk_306.npy\n",
      "Saved paths to /content/maryland_polyvore/features/paths_chunk_306.csv\n",
      "Processing chunk 307/445, images 306000 to 307000\n",
      "Saved features to /content/maryland_polyvore/features/features_chunk_307.npy\n",
      "Saved paths to /content/maryland_polyvore/features/paths_chunk_307.csv\n",
      "Processing chunk 308/445, images 307000 to 308000\n",
      "Saved features to /content/maryland_polyvore/features/features_chunk_308.npy\n",
      "Saved paths to /content/maryland_polyvore/features/paths_chunk_308.csv\n",
      "Processing chunk 309/445, images 308000 to 309000\n",
      "Saved features to /content/maryland_polyvore/features/features_chunk_309.npy\n",
      "Saved paths to /content/maryland_polyvore/features/paths_chunk_309.csv\n",
      "Processing chunk 310/445, images 309000 to 310000\n",
      "Saved features to /content/maryland_polyvore/features/features_chunk_310.npy\n",
      "Saved paths to /content/maryland_polyvore/features/paths_chunk_310.csv\n",
      "Processing chunk 311/445, images 310000 to 311000\n",
      "Saved features to /content/maryland_polyvore/features/features_chunk_311.npy\n",
      "Saved paths to /content/maryland_polyvore/features/paths_chunk_311.csv\n",
      "Processing chunk 312/445, images 311000 to 312000\n",
      "Saved features to /content/maryland_polyvore/features/features_chunk_312.npy\n",
      "Saved paths to /content/maryland_polyvore/features/paths_chunk_312.csv\n",
      "Processing chunk 313/445, images 312000 to 313000\n",
      "Saved features to /content/maryland_polyvore/features/features_chunk_313.npy\n",
      "Saved paths to /content/maryland_polyvore/features/paths_chunk_313.csv\n",
      "Processing chunk 314/445, images 313000 to 314000\n",
      "Saved features to /content/maryland_polyvore/features/features_chunk_314.npy\n",
      "Saved paths to /content/maryland_polyvore/features/paths_chunk_314.csv\n",
      "Processing chunk 315/445, images 314000 to 315000\n",
      "Saved features to /content/maryland_polyvore/features/features_chunk_315.npy\n",
      "Saved paths to /content/maryland_polyvore/features/paths_chunk_315.csv\n",
      "Processing chunk 316/445, images 315000 to 316000\n",
      "Saved features to /content/maryland_polyvore/features/features_chunk_316.npy\n",
      "Saved paths to /content/maryland_polyvore/features/paths_chunk_316.csv\n",
      "Processing chunk 317/445, images 316000 to 317000\n",
      "Saved features to /content/maryland_polyvore/features/features_chunk_317.npy\n",
      "Saved paths to /content/maryland_polyvore/features/paths_chunk_317.csv\n",
      "Processing chunk 318/445, images 317000 to 318000\n",
      "Saved features to /content/maryland_polyvore/features/features_chunk_318.npy\n",
      "Saved paths to /content/maryland_polyvore/features/paths_chunk_318.csv\n",
      "Processing chunk 319/445, images 318000 to 319000\n",
      "Saved features to /content/maryland_polyvore/features/features_chunk_319.npy\n",
      "Saved paths to /content/maryland_polyvore/features/paths_chunk_319.csv\n",
      "Processing chunk 320/445, images 319000 to 320000\n",
      "Saved features to /content/maryland_polyvore/features/features_chunk_320.npy\n",
      "Saved paths to /content/maryland_polyvore/features/paths_chunk_320.csv\n",
      "Processing chunk 321/445, images 320000 to 321000\n",
      "Saved features to /content/maryland_polyvore/features/features_chunk_321.npy\n",
      "Saved paths to /content/maryland_polyvore/features/paths_chunk_321.csv\n",
      "Processing chunk 322/445, images 321000 to 322000\n",
      "Saved features to /content/maryland_polyvore/features/features_chunk_322.npy\n",
      "Saved paths to /content/maryland_polyvore/features/paths_chunk_322.csv\n",
      "Processing chunk 323/445, images 322000 to 323000\n",
      "Saved features to /content/maryland_polyvore/features/features_chunk_323.npy\n",
      "Saved paths to /content/maryland_polyvore/features/paths_chunk_323.csv\n",
      "Processing chunk 324/445, images 323000 to 324000\n",
      "Saved features to /content/maryland_polyvore/features/features_chunk_324.npy\n",
      "Saved paths to /content/maryland_polyvore/features/paths_chunk_324.csv\n",
      "Processing chunk 325/445, images 324000 to 325000\n",
      "Saved features to /content/maryland_polyvore/features/features_chunk_325.npy\n",
      "Saved paths to /content/maryland_polyvore/features/paths_chunk_325.csv\n",
      "Processing chunk 326/445, images 325000 to 326000\n",
      "Saved features to /content/maryland_polyvore/features/features_chunk_326.npy\n",
      "Saved paths to /content/maryland_polyvore/features/paths_chunk_326.csv\n",
      "Processing chunk 327/445, images 326000 to 327000\n",
      "Saved features to /content/maryland_polyvore/features/features_chunk_327.npy\n",
      "Saved paths to /content/maryland_polyvore/features/paths_chunk_327.csv\n",
      "Processing chunk 328/445, images 327000 to 328000\n",
      "Saved features to /content/maryland_polyvore/features/features_chunk_328.npy\n",
      "Saved paths to /content/maryland_polyvore/features/paths_chunk_328.csv\n",
      "Processing chunk 329/445, images 328000 to 329000\n",
      "Saved features to /content/maryland_polyvore/features/features_chunk_329.npy\n",
      "Saved paths to /content/maryland_polyvore/features/paths_chunk_329.csv\n",
      "Processing chunk 330/445, images 329000 to 330000\n",
      "Saved features to /content/maryland_polyvore/features/features_chunk_330.npy\n",
      "Saved paths to /content/maryland_polyvore/features/paths_chunk_330.csv\n",
      "Processing chunk 331/445, images 330000 to 331000\n",
      "Saved features to /content/maryland_polyvore/features/features_chunk_331.npy\n",
      "Saved paths to /content/maryland_polyvore/features/paths_chunk_331.csv\n",
      "Processing chunk 332/445, images 331000 to 332000\n",
      "Saved features to /content/maryland_polyvore/features/features_chunk_332.npy\n",
      "Saved paths to /content/maryland_polyvore/features/paths_chunk_332.csv\n",
      "Processing chunk 333/445, images 332000 to 333000\n",
      "Saved features to /content/maryland_polyvore/features/features_chunk_333.npy\n",
      "Saved paths to /content/maryland_polyvore/features/paths_chunk_333.csv\n",
      "Processing chunk 334/445, images 333000 to 334000\n",
      "Saved features to /content/maryland_polyvore/features/features_chunk_334.npy\n",
      "Saved paths to /content/maryland_polyvore/features/paths_chunk_334.csv\n",
      "Processing chunk 335/445, images 334000 to 335000\n",
      "Saved features to /content/maryland_polyvore/features/features_chunk_335.npy\n",
      "Saved paths to /content/maryland_polyvore/features/paths_chunk_335.csv\n",
      "Processing chunk 336/445, images 335000 to 336000\n",
      "Saved features to /content/maryland_polyvore/features/features_chunk_336.npy\n",
      "Saved paths to /content/maryland_polyvore/features/paths_chunk_336.csv\n",
      "Processing chunk 337/445, images 336000 to 337000\n",
      "Saved features to /content/maryland_polyvore/features/features_chunk_337.npy\n",
      "Saved paths to /content/maryland_polyvore/features/paths_chunk_337.csv\n",
      "Processing chunk 338/445, images 337000 to 338000\n",
      "Saved features to /content/maryland_polyvore/features/features_chunk_338.npy\n",
      "Saved paths to /content/maryland_polyvore/features/paths_chunk_338.csv\n",
      "Processing chunk 339/445, images 338000 to 339000\n",
      "Saved features to /content/maryland_polyvore/features/features_chunk_339.npy\n",
      "Saved paths to /content/maryland_polyvore/features/paths_chunk_339.csv\n",
      "Processing chunk 340/445, images 339000 to 340000\n",
      "Saved features to /content/maryland_polyvore/features/features_chunk_340.npy\n",
      "Saved paths to /content/maryland_polyvore/features/paths_chunk_340.csv\n",
      "Processing chunk 341/445, images 340000 to 341000\n",
      "Saved features to /content/maryland_polyvore/features/features_chunk_341.npy\n",
      "Saved paths to /content/maryland_polyvore/features/paths_chunk_341.csv\n",
      "Processing chunk 342/445, images 341000 to 342000\n",
      "Saved features to /content/maryland_polyvore/features/features_chunk_342.npy\n",
      "Saved paths to /content/maryland_polyvore/features/paths_chunk_342.csv\n",
      "Processing chunk 343/445, images 342000 to 343000\n",
      "Saved features to /content/maryland_polyvore/features/features_chunk_343.npy\n",
      "Saved paths to /content/maryland_polyvore/features/paths_chunk_343.csv\n",
      "Processing chunk 344/445, images 343000 to 344000\n",
      "Saved features to /content/maryland_polyvore/features/features_chunk_344.npy\n",
      "Saved paths to /content/maryland_polyvore/features/paths_chunk_344.csv\n",
      "Processing chunk 345/445, images 344000 to 345000\n",
      "Saved features to /content/maryland_polyvore/features/features_chunk_345.npy\n",
      "Saved paths to /content/maryland_polyvore/features/paths_chunk_345.csv\n",
      "Processing chunk 346/445, images 345000 to 346000\n",
      "Saved features to /content/maryland_polyvore/features/features_chunk_346.npy\n",
      "Saved paths to /content/maryland_polyvore/features/paths_chunk_346.csv\n",
      "Processing chunk 347/445, images 346000 to 347000\n",
      "Saved features to /content/maryland_polyvore/features/features_chunk_347.npy\n",
      "Saved paths to /content/maryland_polyvore/features/paths_chunk_347.csv\n",
      "Processing chunk 348/445, images 347000 to 348000\n",
      "Saved features to /content/maryland_polyvore/features/features_chunk_348.npy\n",
      "Saved paths to /content/maryland_polyvore/features/paths_chunk_348.csv\n",
      "Processing chunk 349/445, images 348000 to 349000\n",
      "Saved features to /content/maryland_polyvore/features/features_chunk_349.npy\n",
      "Saved paths to /content/maryland_polyvore/features/paths_chunk_349.csv\n",
      "Processing chunk 350/445, images 349000 to 350000\n",
      "Saved features to /content/maryland_polyvore/features/features_chunk_350.npy\n",
      "Saved paths to /content/maryland_polyvore/features/paths_chunk_350.csv\n",
      "Processing chunk 351/445, images 350000 to 351000\n",
      "Saved features to /content/maryland_polyvore/features/features_chunk_351.npy\n",
      "Saved paths to /content/maryland_polyvore/features/paths_chunk_351.csv\n",
      "Processing chunk 352/445, images 351000 to 352000\n",
      "Saved features to /content/maryland_polyvore/features/features_chunk_352.npy\n",
      "Saved paths to /content/maryland_polyvore/features/paths_chunk_352.csv\n",
      "Processing chunk 353/445, images 352000 to 353000\n",
      "Saved features to /content/maryland_polyvore/features/features_chunk_353.npy\n",
      "Saved paths to /content/maryland_polyvore/features/paths_chunk_353.csv\n",
      "Processing chunk 354/445, images 353000 to 354000\n",
      "Saved features to /content/maryland_polyvore/features/features_chunk_354.npy\n",
      "Saved paths to /content/maryland_polyvore/features/paths_chunk_354.csv\n",
      "Processing chunk 355/445, images 354000 to 355000\n",
      "Saved features to /content/maryland_polyvore/features/features_chunk_355.npy\n",
      "Saved paths to /content/maryland_polyvore/features/paths_chunk_355.csv\n",
      "Processing chunk 356/445, images 355000 to 356000\n",
      "Error loading image /content/maryland_polyvore/images/211632500/0.jpg: image file is truncated (5 bytes not processed)\n",
      "Saved features to /content/maryland_polyvore/features/features_chunk_356.npy\n",
      "Saved paths to /content/maryland_polyvore/features/paths_chunk_356.csv\n",
      "Processing chunk 357/445, images 356000 to 357000\n",
      "Saved features to /content/maryland_polyvore/features/features_chunk_357.npy\n",
      "Saved paths to /content/maryland_polyvore/features/paths_chunk_357.csv\n",
      "Processing chunk 358/445, images 357000 to 358000\n",
      "Saved features to /content/maryland_polyvore/features/features_chunk_358.npy\n",
      "Saved paths to /content/maryland_polyvore/features/paths_chunk_358.csv\n",
      "Processing chunk 359/445, images 358000 to 359000\n",
      "Saved features to /content/maryland_polyvore/features/features_chunk_359.npy\n",
      "Saved paths to /content/maryland_polyvore/features/paths_chunk_359.csv\n",
      "Processing chunk 360/445, images 359000 to 360000\n",
      "Saved features to /content/maryland_polyvore/features/features_chunk_360.npy\n",
      "Saved paths to /content/maryland_polyvore/features/paths_chunk_360.csv\n",
      "Processing chunk 361/445, images 360000 to 361000\n",
      "Saved features to /content/maryland_polyvore/features/features_chunk_361.npy\n",
      "Saved paths to /content/maryland_polyvore/features/paths_chunk_361.csv\n",
      "Processing chunk 362/445, images 361000 to 362000\n",
      "Saved features to /content/maryland_polyvore/features/features_chunk_362.npy\n",
      "Saved paths to /content/maryland_polyvore/features/paths_chunk_362.csv\n",
      "Processing chunk 363/445, images 362000 to 363000\n",
      "Saved features to /content/maryland_polyvore/features/features_chunk_363.npy\n",
      "Saved paths to /content/maryland_polyvore/features/paths_chunk_363.csv\n",
      "Processing chunk 364/445, images 363000 to 364000\n",
      "Saved features to /content/maryland_polyvore/features/features_chunk_364.npy\n",
      "Saved paths to /content/maryland_polyvore/features/paths_chunk_364.csv\n",
      "Processing chunk 365/445, images 364000 to 365000\n",
      "Saved features to /content/maryland_polyvore/features/features_chunk_365.npy\n",
      "Saved paths to /content/maryland_polyvore/features/paths_chunk_365.csv\n",
      "Processing chunk 366/445, images 365000 to 366000\n",
      "Saved features to /content/maryland_polyvore/features/features_chunk_366.npy\n",
      "Saved paths to /content/maryland_polyvore/features/paths_chunk_366.csv\n",
      "Processing chunk 367/445, images 366000 to 367000\n",
      "Saved features to /content/maryland_polyvore/features/features_chunk_367.npy\n",
      "Saved paths to /content/maryland_polyvore/features/paths_chunk_367.csv\n",
      "Processing chunk 368/445, images 367000 to 368000\n",
      "Saved features to /content/maryland_polyvore/features/features_chunk_368.npy\n",
      "Saved paths to /content/maryland_polyvore/features/paths_chunk_368.csv\n",
      "Processing chunk 369/445, images 368000 to 369000\n",
      "Saved features to /content/maryland_polyvore/features/features_chunk_369.npy\n",
      "Saved paths to /content/maryland_polyvore/features/paths_chunk_369.csv\n",
      "Processing chunk 370/445, images 369000 to 370000\n",
      "Saved features to /content/maryland_polyvore/features/features_chunk_370.npy\n",
      "Saved paths to /content/maryland_polyvore/features/paths_chunk_370.csv\n",
      "Processing chunk 371/445, images 370000 to 371000\n",
      "Saved features to /content/maryland_polyvore/features/features_chunk_371.npy\n",
      "Saved paths to /content/maryland_polyvore/features/paths_chunk_371.csv\n",
      "Processing chunk 372/445, images 371000 to 372000\n",
      "Saved features to /content/maryland_polyvore/features/features_chunk_372.npy\n",
      "Saved paths to /content/maryland_polyvore/features/paths_chunk_372.csv\n",
      "Processing chunk 373/445, images 372000 to 373000\n",
      "Saved features to /content/maryland_polyvore/features/features_chunk_373.npy\n",
      "Saved paths to /content/maryland_polyvore/features/paths_chunk_373.csv\n",
      "Processing chunk 374/445, images 373000 to 374000\n",
      "Saved features to /content/maryland_polyvore/features/features_chunk_374.npy\n",
      "Saved paths to /content/maryland_polyvore/features/paths_chunk_374.csv\n",
      "Processing chunk 375/445, images 374000 to 375000\n",
      "Saved features to /content/maryland_polyvore/features/features_chunk_375.npy\n",
      "Saved paths to /content/maryland_polyvore/features/paths_chunk_375.csv\n",
      "Processing chunk 376/445, images 375000 to 376000\n",
      "Saved features to /content/maryland_polyvore/features/features_chunk_376.npy\n",
      "Saved paths to /content/maryland_polyvore/features/paths_chunk_376.csv\n",
      "Processing chunk 377/445, images 376000 to 377000\n",
      "Saved features to /content/maryland_polyvore/features/features_chunk_377.npy\n",
      "Saved paths to /content/maryland_polyvore/features/paths_chunk_377.csv\n",
      "Processing chunk 378/445, images 377000 to 378000\n",
      "Saved features to /content/maryland_polyvore/features/features_chunk_378.npy\n",
      "Saved paths to /content/maryland_polyvore/features/paths_chunk_378.csv\n",
      "Processing chunk 379/445, images 378000 to 379000\n",
      "Saved features to /content/maryland_polyvore/features/features_chunk_379.npy\n",
      "Saved paths to /content/maryland_polyvore/features/paths_chunk_379.csv\n",
      "Processing chunk 380/445, images 379000 to 380000\n",
      "Saved features to /content/maryland_polyvore/features/features_chunk_380.npy\n",
      "Saved paths to /content/maryland_polyvore/features/paths_chunk_380.csv\n",
      "Processing chunk 381/445, images 380000 to 381000\n",
      "Saved features to /content/maryland_polyvore/features/features_chunk_381.npy\n",
      "Saved paths to /content/maryland_polyvore/features/paths_chunk_381.csv\n",
      "Processing chunk 382/445, images 381000 to 382000\n",
      "Saved features to /content/maryland_polyvore/features/features_chunk_382.npy\n",
      "Saved paths to /content/maryland_polyvore/features/paths_chunk_382.csv\n",
      "Processing chunk 383/445, images 382000 to 383000\n",
      "Saved features to /content/maryland_polyvore/features/features_chunk_383.npy\n",
      "Saved paths to /content/maryland_polyvore/features/paths_chunk_383.csv\n",
      "Processing chunk 384/445, images 383000 to 384000\n",
      "Saved features to /content/maryland_polyvore/features/features_chunk_384.npy\n",
      "Saved paths to /content/maryland_polyvore/features/paths_chunk_384.csv\n",
      "Processing chunk 385/445, images 384000 to 385000\n",
      "Saved features to /content/maryland_polyvore/features/features_chunk_385.npy\n",
      "Saved paths to /content/maryland_polyvore/features/paths_chunk_385.csv\n",
      "Processing chunk 386/445, images 385000 to 386000\n",
      "Saved features to /content/maryland_polyvore/features/features_chunk_386.npy\n",
      "Saved paths to /content/maryland_polyvore/features/paths_chunk_386.csv\n",
      "Processing chunk 387/445, images 386000 to 387000\n",
      "Saved features to /content/maryland_polyvore/features/features_chunk_387.npy\n",
      "Saved paths to /content/maryland_polyvore/features/paths_chunk_387.csv\n",
      "Processing chunk 388/445, images 387000 to 388000\n",
      "Saved features to /content/maryland_polyvore/features/features_chunk_388.npy\n",
      "Saved paths to /content/maryland_polyvore/features/paths_chunk_388.csv\n",
      "Processing chunk 389/445, images 388000 to 389000\n",
      "Saved features to /content/maryland_polyvore/features/features_chunk_389.npy\n",
      "Saved paths to /content/maryland_polyvore/features/paths_chunk_389.csv\n",
      "Processing chunk 390/445, images 389000 to 390000\n",
      "Saved features to /content/maryland_polyvore/features/features_chunk_390.npy\n",
      "Saved paths to /content/maryland_polyvore/features/paths_chunk_390.csv\n",
      "Processing chunk 391/445, images 390000 to 391000\n",
      "Saved features to /content/maryland_polyvore/features/features_chunk_391.npy\n",
      "Saved paths to /content/maryland_polyvore/features/paths_chunk_391.csv\n",
      "Processing chunk 392/445, images 391000 to 392000\n",
      "Saved features to /content/maryland_polyvore/features/features_chunk_392.npy\n",
      "Saved paths to /content/maryland_polyvore/features/paths_chunk_392.csv\n",
      "Processing chunk 393/445, images 392000 to 393000\n",
      "Saved features to /content/maryland_polyvore/features/features_chunk_393.npy\n",
      "Saved paths to /content/maryland_polyvore/features/paths_chunk_393.csv\n",
      "Processing chunk 394/445, images 393000 to 394000\n",
      "Saved features to /content/maryland_polyvore/features/features_chunk_394.npy\n",
      "Saved paths to /content/maryland_polyvore/features/paths_chunk_394.csv\n",
      "Processing chunk 395/445, images 394000 to 395000\n",
      "Saved features to /content/maryland_polyvore/features/features_chunk_395.npy\n",
      "Saved paths to /content/maryland_polyvore/features/paths_chunk_395.csv\n",
      "Processing chunk 396/445, images 395000 to 396000\n",
      "Saved features to /content/maryland_polyvore/features/features_chunk_396.npy\n",
      "Saved paths to /content/maryland_polyvore/features/paths_chunk_396.csv\n",
      "Processing chunk 397/445, images 396000 to 397000\n",
      "Saved features to /content/maryland_polyvore/features/features_chunk_397.npy\n",
      "Saved paths to /content/maryland_polyvore/features/paths_chunk_397.csv\n",
      "Processing chunk 398/445, images 397000 to 398000\n",
      "Saved features to /content/maryland_polyvore/features/features_chunk_398.npy\n",
      "Saved paths to /content/maryland_polyvore/features/paths_chunk_398.csv\n",
      "Processing chunk 399/445, images 398000 to 399000\n",
      "Saved features to /content/maryland_polyvore/features/features_chunk_399.npy\n",
      "Saved paths to /content/maryland_polyvore/features/paths_chunk_399.csv\n",
      "Processing chunk 400/445, images 399000 to 400000\n",
      "Saved features to /content/maryland_polyvore/features/features_chunk_400.npy\n",
      "Saved paths to /content/maryland_polyvore/features/paths_chunk_400.csv\n",
      "Processing chunk 401/445, images 400000 to 401000\n",
      "Saved features to /content/maryland_polyvore/features/features_chunk_401.npy\n",
      "Saved paths to /content/maryland_polyvore/features/paths_chunk_401.csv\n",
      "Processing chunk 402/445, images 401000 to 402000\n",
      "Saved features to /content/maryland_polyvore/features/features_chunk_402.npy\n",
      "Saved paths to /content/maryland_polyvore/features/paths_chunk_402.csv\n",
      "Processing chunk 403/445, images 402000 to 403000\n",
      "Saved features to /content/maryland_polyvore/features/features_chunk_403.npy\n",
      "Saved paths to /content/maryland_polyvore/features/paths_chunk_403.csv\n",
      "Processing chunk 404/445, images 403000 to 404000\n",
      "Saved features to /content/maryland_polyvore/features/features_chunk_404.npy\n",
      "Saved paths to /content/maryland_polyvore/features/paths_chunk_404.csv\n",
      "Processing chunk 405/445, images 404000 to 405000\n",
      "Saved features to /content/maryland_polyvore/features/features_chunk_405.npy\n",
      "Saved paths to /content/maryland_polyvore/features/paths_chunk_405.csv\n",
      "Processing chunk 406/445, images 405000 to 406000\n",
      "Saved features to /content/maryland_polyvore/features/features_chunk_406.npy\n",
      "Saved paths to /content/maryland_polyvore/features/paths_chunk_406.csv\n",
      "Processing chunk 407/445, images 406000 to 407000\n",
      "Saved features to /content/maryland_polyvore/features/features_chunk_407.npy\n",
      "Saved paths to /content/maryland_polyvore/features/paths_chunk_407.csv\n",
      "Processing chunk 408/445, images 407000 to 408000\n",
      "Saved features to /content/maryland_polyvore/features/features_chunk_408.npy\n",
      "Saved paths to /content/maryland_polyvore/features/paths_chunk_408.csv\n",
      "Processing chunk 409/445, images 408000 to 409000\n",
      "Saved features to /content/maryland_polyvore/features/features_chunk_409.npy\n",
      "Saved paths to /content/maryland_polyvore/features/paths_chunk_409.csv\n",
      "Processing chunk 410/445, images 409000 to 410000\n",
      "Saved features to /content/maryland_polyvore/features/features_chunk_410.npy\n",
      "Saved paths to /content/maryland_polyvore/features/paths_chunk_410.csv\n",
      "Processing chunk 411/445, images 410000 to 411000\n",
      "Saved features to /content/maryland_polyvore/features/features_chunk_411.npy\n",
      "Saved paths to /content/maryland_polyvore/features/paths_chunk_411.csv\n",
      "Processing chunk 412/445, images 411000 to 412000\n",
      "Saved features to /content/maryland_polyvore/features/features_chunk_412.npy\n",
      "Saved paths to /content/maryland_polyvore/features/paths_chunk_412.csv\n",
      "Processing chunk 413/445, images 412000 to 413000\n",
      "Saved features to /content/maryland_polyvore/features/features_chunk_413.npy\n",
      "Saved paths to /content/maryland_polyvore/features/paths_chunk_413.csv\n",
      "Processing chunk 414/445, images 413000 to 414000\n",
      "Saved features to /content/maryland_polyvore/features/features_chunk_414.npy\n",
      "Saved paths to /content/maryland_polyvore/features/paths_chunk_414.csv\n",
      "Processing chunk 415/445, images 414000 to 415000\n",
      "Saved features to /content/maryland_polyvore/features/features_chunk_415.npy\n",
      "Saved paths to /content/maryland_polyvore/features/paths_chunk_415.csv\n",
      "Processing chunk 416/445, images 415000 to 416000\n",
      "Saved features to /content/maryland_polyvore/features/features_chunk_416.npy\n",
      "Saved paths to /content/maryland_polyvore/features/paths_chunk_416.csv\n",
      "Processing chunk 417/445, images 416000 to 417000\n",
      "Saved features to /content/maryland_polyvore/features/features_chunk_417.npy\n",
      "Saved paths to /content/maryland_polyvore/features/paths_chunk_417.csv\n",
      "Processing chunk 418/445, images 417000 to 418000\n",
      "Saved features to /content/maryland_polyvore/features/features_chunk_418.npy\n",
      "Saved paths to /content/maryland_polyvore/features/paths_chunk_418.csv\n",
      "Processing chunk 419/445, images 418000 to 419000\n",
      "Saved features to /content/maryland_polyvore/features/features_chunk_419.npy\n",
      "Saved paths to /content/maryland_polyvore/features/paths_chunk_419.csv\n",
      "Processing chunk 420/445, images 419000 to 420000\n",
      "Saved features to /content/maryland_polyvore/features/features_chunk_420.npy\n",
      "Saved paths to /content/maryland_polyvore/features/paths_chunk_420.csv\n",
      "Processing chunk 421/445, images 420000 to 421000\n",
      "Saved features to /content/maryland_polyvore/features/features_chunk_421.npy\n",
      "Saved paths to /content/maryland_polyvore/features/paths_chunk_421.csv\n",
      "Processing chunk 422/445, images 421000 to 422000\n",
      "Saved features to /content/maryland_polyvore/features/features_chunk_422.npy\n",
      "Saved paths to /content/maryland_polyvore/features/paths_chunk_422.csv\n",
      "Processing chunk 423/445, images 422000 to 423000\n",
      "Saved features to /content/maryland_polyvore/features/features_chunk_423.npy\n",
      "Saved paths to /content/maryland_polyvore/features/paths_chunk_423.csv\n",
      "Processing chunk 424/445, images 423000 to 424000\n",
      "Saved features to /content/maryland_polyvore/features/features_chunk_424.npy\n",
      "Saved paths to /content/maryland_polyvore/features/paths_chunk_424.csv\n",
      "Processing chunk 425/445, images 424000 to 425000\n",
      "Saved features to /content/maryland_polyvore/features/features_chunk_425.npy\n",
      "Saved paths to /content/maryland_polyvore/features/paths_chunk_425.csv\n",
      "Processing chunk 426/445, images 425000 to 426000\n",
      "Saved features to /content/maryland_polyvore/features/features_chunk_426.npy\n",
      "Saved paths to /content/maryland_polyvore/features/paths_chunk_426.csv\n",
      "Processing chunk 427/445, images 426000 to 427000\n",
      "Saved features to /content/maryland_polyvore/features/features_chunk_427.npy\n",
      "Saved paths to /content/maryland_polyvore/features/paths_chunk_427.csv\n",
      "Processing chunk 428/445, images 427000 to 428000\n",
      "Saved features to /content/maryland_polyvore/features/features_chunk_428.npy\n",
      "Saved paths to /content/maryland_polyvore/features/paths_chunk_428.csv\n",
      "Processing chunk 429/445, images 428000 to 429000\n",
      "Saved features to /content/maryland_polyvore/features/features_chunk_429.npy\n",
      "Saved paths to /content/maryland_polyvore/features/paths_chunk_429.csv\n",
      "Processing chunk 430/445, images 429000 to 430000\n",
      "Saved features to /content/maryland_polyvore/features/features_chunk_430.npy\n",
      "Saved paths to /content/maryland_polyvore/features/paths_chunk_430.csv\n",
      "Processing chunk 431/445, images 430000 to 431000\n",
      "Saved features to /content/maryland_polyvore/features/features_chunk_431.npy\n",
      "Saved paths to /content/maryland_polyvore/features/paths_chunk_431.csv\n",
      "Processing chunk 432/445, images 431000 to 432000\n",
      "Saved features to /content/maryland_polyvore/features/features_chunk_432.npy\n",
      "Saved paths to /content/maryland_polyvore/features/paths_chunk_432.csv\n",
      "Processing chunk 433/445, images 432000 to 433000\n",
      "Saved features to /content/maryland_polyvore/features/features_chunk_433.npy\n",
      "Saved paths to /content/maryland_polyvore/features/paths_chunk_433.csv\n",
      "Processing chunk 434/445, images 433000 to 434000\n",
      "Saved features to /content/maryland_polyvore/features/features_chunk_434.npy\n",
      "Saved paths to /content/maryland_polyvore/features/paths_chunk_434.csv\n",
      "Processing chunk 435/445, images 434000 to 435000\n",
      "Saved features to /content/maryland_polyvore/features/features_chunk_435.npy\n",
      "Saved paths to /content/maryland_polyvore/features/paths_chunk_435.csv\n",
      "Processing chunk 436/445, images 435000 to 436000\n",
      "Saved features to /content/maryland_polyvore/features/features_chunk_436.npy\n",
      "Saved paths to /content/maryland_polyvore/features/paths_chunk_436.csv\n",
      "Processing chunk 437/445, images 436000 to 437000\n",
      "Saved features to /content/maryland_polyvore/features/features_chunk_437.npy\n",
      "Saved paths to /content/maryland_polyvore/features/paths_chunk_437.csv\n",
      "Processing chunk 438/445, images 437000 to 438000\n",
      "Saved features to /content/maryland_polyvore/features/features_chunk_438.npy\n",
      "Saved paths to /content/maryland_polyvore/features/paths_chunk_438.csv\n",
      "Processing chunk 439/445, images 438000 to 439000\n",
      "Saved features to /content/maryland_polyvore/features/features_chunk_439.npy\n",
      "Saved paths to /content/maryland_polyvore/features/paths_chunk_439.csv\n",
      "Processing chunk 440/445, images 439000 to 440000\n",
      "Saved features to /content/maryland_polyvore/features/features_chunk_440.npy\n",
      "Saved paths to /content/maryland_polyvore/features/paths_chunk_440.csv\n",
      "Processing chunk 441/445, images 440000 to 441000\n",
      "Saved features to /content/maryland_polyvore/features/features_chunk_441.npy\n",
      "Saved paths to /content/maryland_polyvore/features/paths_chunk_441.csv\n",
      "Processing chunk 442/445, images 441000 to 442000\n",
      "Saved features to /content/maryland_polyvore/features/features_chunk_442.npy\n",
      "Saved paths to /content/maryland_polyvore/features/paths_chunk_442.csv\n",
      "Processing chunk 443/445, images 442000 to 443000\n",
      "Saved features to /content/maryland_polyvore/features/features_chunk_443.npy\n",
      "Saved paths to /content/maryland_polyvore/features/paths_chunk_443.csv\n",
      "Processing chunk 444/445, images 443000 to 444000\n",
      "Saved features to /content/maryland_polyvore/features/features_chunk_444.npy\n",
      "Saved paths to /content/maryland_polyvore/features/paths_chunk_444.csv\n",
      "Processing chunk 445/445, images 444000 to 444371\n",
      "Saved features to /content/maryland_polyvore/features/features_chunk_445.npy\n",
      "Saved paths to /content/maryland_polyvore/features/paths_chunk_445.csv\n"
     ]
    }
   ],
   "source": [
    "# Call the function to start feature extraction\n",
    "extract_features_in_chunks(df, model, chunk_size, batch_size, features_dir)"
   ]
  },
  {
   "cell_type": "markdown",
   "metadata": {
    "id": "RSmk9wza94GL"
   },
   "source": [
    "# Loading Features and Preparing Data"
   ]
  },
  {
   "cell_type": "code",
   "execution_count": 1,
   "metadata": {
    "colab": {
     "base_uri": "https://localhost:8080/"
    },
    "id": "bBjyYPG55fxd",
    "outputId": "babf886f-333d-4e27-cd2b-f2d8bc6d631e"
   },
   "outputs": [
    {
     "name": "stderr",
     "output_type": "stream",
     "text": [
      "/usr/local/lib/python3.10/dist-packages/torch_geometric/typing.py:86: UserWarning: An issue occurred while importing 'torch-scatter'. Disabling its usage. Stacktrace: /usr/local/lib/python3.10/dist-packages/torch_scatter/_version_cuda.so: undefined symbol: _ZN3c1017RegisterOperatorsD1Ev\n",
      "  warnings.warn(f\"An issue occurred while importing 'torch-scatter'. \"\n",
      "/usr/local/lib/python3.10/dist-packages/torch_geometric/typing.py:97: UserWarning: An issue occurred while importing 'torch-cluster'. Disabling its usage. Stacktrace: /usr/local/lib/python3.10/dist-packages/torch_cluster/_version_cuda.so: undefined symbol: _ZN3c1017RegisterOperatorsD1Ev\n",
      "  warnings.warn(f\"An issue occurred while importing 'torch-cluster'. \"\n",
      "/usr/local/lib/python3.10/dist-packages/torch_geometric/typing.py:113: UserWarning: An issue occurred while importing 'torch-spline-conv'. Disabling its usage. Stacktrace: /usr/local/lib/python3.10/dist-packages/torch_spline_conv/_version_cuda.so: undefined symbol: _ZN3c1017RegisterOperatorsD1Ev\n",
      "  warnings.warn(\n",
      "/usr/local/lib/python3.10/dist-packages/torch_geometric/typing.py:124: UserWarning: An issue occurred while importing 'torch-sparse'. Disabling its usage. Stacktrace: /usr/local/lib/python3.10/dist-packages/torch_sparse/_version_cuda.so: undefined symbol: _ZN3c1017RegisterOperatorsD1Ev\n",
      "  warnings.warn(f\"An issue occurred while importing 'torch-sparse'. \"\n"
     ]
    }
   ],
   "source": [
    "import os\n",
    "import numpy as np\n",
    "import pandas as pd\n",
    "import torch\n",
    "import torch.nn.functional as F\n",
    "import torch.optim as optim\n",
    "from sklearn.model_selection import train_test_split\n",
    "from sklearn.manifold import TSNE\n",
    "import matplotlib.pyplot as plt\n",
    "from torch_geometric.data import Data\n",
    "from torch_geometric.nn import SAGEConv"
   ]
  },
  {
   "cell_type": "code",
   "execution_count": 2,
   "metadata": {
    "colab": {
     "base_uri": "https://localhost:8080/"
    },
    "id": "yMIVsgWP5gRa",
    "outputId": "9f6721bc-9beb-4d50-bf19-65231f09c8a1"
   },
   "outputs": [
    {
     "name": "stdout",
     "output_type": "stream",
     "text": [
      "User-Item DataFrame columns: Index(['User_ID', 'Item_Path'], dtype='object')\n",
      "     User_ID                                          Item_Path\n",
      "0  194700985  /content/maryland_polyvore/images/194700985/10...\n",
      "1  194700985  /content/maryland_polyvore/images/194700985/4.jpg\n",
      "2  194700985  /content/maryland_polyvore/images/194700985/5.jpg\n",
      "3  194700985  /content/maryland_polyvore/images/194700985/1.jpg\n",
      "4  194700985  /content/maryland_polyvore/images/194700985/6.jpg\n"
     ]
    }
   ],
   "source": [
    "# Define paths to the features and user-item data\n",
    "features_dir = '/content/maryland_polyvore/features/'  # Adjust this to your actual directory\n",
    "user_item_file = '/content/maryland_polyvore/user_item_data.csv'  # Adjust the path\n",
    "\n",
    "# Load user-item data\n",
    "user_item_df = pd.read_csv(user_item_file)\n",
    "\n",
    "# Check the structure of the user-item dataframe\n",
    "print(\"User-Item DataFrame columns:\", user_item_df.columns)\n",
    "print(user_item_df.head())"
   ]
  },
  {
   "cell_type": "code",
   "execution_count": 3,
   "metadata": {
    "colab": {
     "base_uri": "https://localhost:8080/"
    },
    "id": "gGv3--AUfNp8",
    "outputId": "44783381-409b-46b4-ff7f-6c468f7c4e6d"
   },
   "outputs": [
    {
     "name": "stdout",
     "output_type": "stream",
     "text": [
      "Successfully loaded 444370 user-item pairs.\n"
     ]
    }
   ],
   "source": [
    "def load_all_features(features_dir, user_item_df):\n",
    "    feature_list = []\n",
    "    user_list = []\n",
    "\n",
    "    # Create a mapping from Item_Path to User_ID\n",
    "    path_to_user = dict(zip(user_item_df['Item_Path'], user_item_df['User_ID']))\n",
    "\n",
    "    # Loop through feature files in the directory\n",
    "    for feature_file in sorted(os.listdir(features_dir)):\n",
    "        if feature_file.startswith('features_chunk_') and feature_file.endswith('.npy'):\n",
    "            # Load features\n",
    "            features = np.load(os.path.join(features_dir, feature_file))\n",
    "            feature_list.append(features)\n",
    "\n",
    "            # Extract the chunk number from the feature file name\n",
    "            chunk_number = feature_file[len('features_chunk_'):-len('.npy')]\n",
    "\n",
    "            # Construct the corresponding paths file name\n",
    "            paths_file = f'paths_chunk_{chunk_number}.csv'\n",
    "\n",
    "            # Check if the paths file exists\n",
    "            paths_file_path = os.path.join(features_dir, paths_file)\n",
    "            if not os.path.isfile(paths_file_path):\n",
    "                print(f\"Warning: Paths file {paths_file} not found for feature file {feature_file}. Skipping this chunk.\")\n",
    "                continue\n",
    "\n",
    "            # Load corresponding image paths\n",
    "            paths_df = pd.read_csv(paths_file_path)\n",
    "            item_paths = paths_df['Image_Path'].tolist()\n",
    "\n",
    "            # Match item paths to user IDs using the mapping\n",
    "            user_ids_chunk = [path_to_user.get(path, None) for path in item_paths]\n",
    "            # Filter out any None values (in case of missing paths)\n",
    "            valid_indices = [i for i, uid in enumerate(user_ids_chunk) if uid is not None]\n",
    "            user_ids_chunk = [user_ids_chunk[i] for i in valid_indices]\n",
    "            features = features[valid_indices]\n",
    "            item_paths = [item_paths[i] for i in valid_indices]\n",
    "\n",
    "            user_list.extend(user_ids_chunk)\n",
    "        else:\n",
    "            continue\n",
    "\n",
    "    if feature_list:\n",
    "        return np.vstack(feature_list), np.array(user_list)\n",
    "    else:\n",
    "        return None, None\n",
    "\n",
    "\n",
    "# Load all item features and corresponding user IDs\n",
    "item_features, user_ids = load_all_features(features_dir, user_item_df)\n",
    "\n",
    "# Validate the loaded features\n",
    "if item_features is None or user_ids is None:\n",
    "    print(\"Error: Could not load features or user IDs.\")\n",
    "else:\n",
    "    print(f\"Successfully loaded {len(user_ids)} user-item pairs.\")"
   ]
  },
  {
   "cell_type": "code",
   "execution_count": 4,
   "metadata": {
    "colab": {
     "base_uri": "https://localhost:8080/"
    },
    "id": "cZ0CiaxfJSPM",
    "outputId": "d90714e6-c11b-4913-b70a-95a6e1200de2"
   },
   "outputs": [
    {
     "name": "stdout",
     "output_type": "stream",
     "text": [
      "Number of users: 33375, Number of items: 444370\n"
     ]
    }
   ],
   "source": [
    "# Get unique user IDs and create mappings\n",
    "unique_user_ids = np.unique(user_ids)\n",
    "user_to_index = {user_id: idx for idx, user_id in enumerate(unique_user_ids)}\n",
    "num_users = len(unique_user_ids)\n",
    "num_items = item_features.shape[0]\n",
    "\n",
    "print(f\"Number of users: {num_users}, Number of items: {num_items}\")"
   ]
  },
  {
   "cell_type": "code",
   "execution_count": 5,
   "metadata": {
    "id": "BucXidoUJTvO"
   },
   "outputs": [],
   "source": [
    "# Initialize user features (e.g., zeros)\n",
    "user_features = np.zeros((num_users, item_features.shape[1]))\n",
    "\n",
    "# Concatenate user and item features to create node features\n",
    "all_features = np.vstack([user_features, item_features])\n",
    "\n",
    "# Convert to tensor\n",
    "all_features_tensor = torch.tensor(all_features, dtype=torch.float)"
   ]
  },
  {
   "cell_type": "code",
   "execution_count": 6,
   "metadata": {
    "id": "cCi5_PqNJY3y"
   },
   "outputs": [],
   "source": [
    "def create_edge_index(user_ids, user_to_index, num_users):\n",
    "    # Assuming items are indexed from num_users onwards\n",
    "    edges = []\n",
    "    for idx, user_id in enumerate(user_ids):\n",
    "        user_node = user_to_index[user_id]\n",
    "        item_node = idx + num_users  # Item indices start after user indices\n",
    "        edges.append([user_node, item_node])\n",
    "\n",
    "    edge_index = torch.tensor(edges, dtype=torch.long).t().contiguous()\n",
    "    return edge_index\n",
    "\n",
    "# Create edge index\n",
    "edge_index = create_edge_index(user_ids, user_to_index, num_users)"
   ]
  },
  {
   "cell_type": "code",
   "execution_count": 7,
   "metadata": {
    "colab": {
     "base_uri": "https://localhost:8080/"
    },
    "id": "QkjGtaqiJbNB",
    "outputId": "435b8b5a-fc59-44f3-ff1f-0bfea2ea6f6d"
   },
   "outputs": [
    {
     "name": "stdout",
     "output_type": "stream",
     "text": [
      "Edge index is valid. Max index: 477744, Number of nodes: 477745.\n"
     ]
    }
   ],
   "source": [
    "# Move edge index to CPU for validation\n",
    "edge_index_cpu = edge_index.cpu()\n",
    "\n",
    "# Check if any edge index exceeds the number of nodes\n",
    "num_nodes = num_users + num_items  # Total number of nodes\n",
    "max_index = edge_index_cpu.max().item()\n",
    "\n",
    "if max_index >= num_nodes:\n",
    "    print(f\"Error: Edge index exceeds number of nodes. Max index: {max_index}, Number of nodes: {num_nodes}.\")\n",
    "else:\n",
    "    print(f\"Edge index is valid. Max index: {max_index}, Number of nodes: {num_nodes}.\")"
   ]
  },
  {
   "cell_type": "code",
   "execution_count": 8,
   "metadata": {
    "id": "61sVBQm2JbyY"
   },
   "outputs": [],
   "source": [
    "# Create graph data object\n",
    "graph_data = Data(x=all_features_tensor, edge_index=edge_index)"
   ]
  },
  {
   "cell_type": "code",
   "execution_count": 9,
   "metadata": {
    "colab": {
     "base_uri": "https://localhost:8080/"
    },
    "id": "ya0b6YdwJdrF",
    "outputId": "8b195637-74c0-4af1-a6e9-cb1d5a1e2599"
   },
   "outputs": [
    {
     "name": "stdout",
     "output_type": "stream",
     "text": [
      "Features saved to: /content/maryland_polyvore/features/all_features.npy\n",
      "Edge index saved to: /content/maryland_polyvore/features/edge_index.npy\n"
     ]
    }
   ],
   "source": [
    "# Save features and edge index to prevent loss of progress\n",
    "item_features_file = os.path.join(features_dir, 'all_features.npy')\n",
    "edge_index_file = os.path.join(features_dir, 'edge_index.npy')\n",
    "\n",
    "# Save features and edge index\n",
    "np.save(item_features_file, all_features)\n",
    "np.save(edge_index_file, edge_index_cpu.numpy())\n",
    "\n",
    "print(f\"Features saved to: {item_features_file}\")\n",
    "print(f\"Edge index saved to: {edge_index_file}\")"
   ]
  },
  {
   "cell_type": "markdown",
   "metadata": {
    "id": "AodtLq16-PgP"
   },
   "source": [
    "# Building the GNN Model"
   ]
  },
  {
   "cell_type": "code",
   "execution_count": 10,
   "metadata": {
    "id": "F7K6FXGc-PFF"
   },
   "outputs": [],
   "source": [
    "class GNNRecommender(torch.nn.Module):\n",
    "    def __init__(self, input_dim, hidden_dim, num_layers, num_users, num_items):\n",
    "        super(GNNRecommender, self).__init__()\n",
    "        self.num_users = num_users\n",
    "        self.num_items = num_items\n",
    "\n",
    "        # Define GNN layers\n",
    "        self.convs = torch.nn.ModuleList()\n",
    "        self.convs.append(SAGEConv(input_dim, hidden_dim))\n",
    "        for _ in range(num_layers - 1):\n",
    "            self.convs.append(SAGEConv(hidden_dim, hidden_dim))\n",
    "\n",
    "    def forward(self, data):\n",
    "        x, edge_index = data.x.to(device), data.edge_index.to(device)\n",
    "\n",
    "        # Apply GNN layers\n",
    "        for conv in self.convs:\n",
    "            x = conv(x, edge_index)\n",
    "            x = F.relu(x)\n",
    "\n",
    "        # Split embeddings\n",
    "        user_embeddings = x[:self.num_users]\n",
    "        item_embeddings = x[self.num_users:]\n",
    "\n",
    "        return user_embeddings, item_embeddings"
   ]
  },
  {
   "cell_type": "code",
   "execution_count": 11,
   "metadata": {
    "id": "9kPwnq3rJfHh"
   },
   "outputs": [],
   "source": [
    "device = torch.device('cuda' if torch.cuda.is_available() else 'cpu')\n",
    "\n",
    "input_dim = all_features.shape[1]\n",
    "hidden_dim = 64\n",
    "num_layers = 2\n",
    "\n",
    "model = GNNRecommender(input_dim=input_dim, hidden_dim=hidden_dim, num_layers=num_layers,\n",
    "                       num_users=num_users, num_items=num_items).to(device)"
   ]
  },
  {
   "cell_type": "code",
   "execution_count": 12,
   "metadata": {
    "colab": {
     "base_uri": "https://localhost:8080/"
    },
    "id": "HZwjN_JmJgmH",
    "outputId": "3c189b0b-4097-48d4-9d99-e0fb217e3c88"
   },
   "outputs": [
    {
     "name": "stdout",
     "output_type": "stream",
     "text": [
      "   User_Index  Item_Index\n",
      "0       19696           0\n",
      "1       19696           1\n",
      "2       19696           2\n",
      "3       19696           3\n",
      "4       19696           4\n"
     ]
    }
   ],
   "source": [
    "# Create a DataFrame with user indices and item indices\n",
    "interaction_df = pd.DataFrame({\n",
    "    'User_Index': [user_to_index[user_id] for user_id in user_ids],\n",
    "    'Item_Index': np.arange(num_items)\n",
    "})\n",
    "\n",
    "# Check the interaction DataFrame\n",
    "print(interaction_df.head())"
   ]
  },
  {
   "cell_type": "code",
   "execution_count": 13,
   "metadata": {
    "colab": {
     "base_uri": "https://localhost:8080/"
    },
    "id": "WU-q0TiPJiQ3",
    "outputId": "a8b4c0c2-b9cd-4ad8-d37e-5ef648bfc389"
   },
   "outputs": [
    {
     "name": "stdout",
     "output_type": "stream",
     "text": [
      "Number of training edges: 342039\n",
      "Number of testing edges: 102331\n"
     ]
    }
   ],
   "source": [
    "train_edges = []\n",
    "test_edges = []\n",
    "\n",
    "# Group interactions by user\n",
    "grouped = interaction_df.groupby('User_Index')\n",
    "\n",
    "for user_index, group in grouped:\n",
    "    item_indices = group['Item_Index'].values\n",
    "    if len(item_indices) < 2:\n",
    "        continue  # Skip users with less than 2 interactions\n",
    "    train_items, test_items = train_test_split(item_indices, test_size=0.2, random_state=42)\n",
    "\n",
    "    # Training edges\n",
    "    train_edges.extend([[user_index, item_idx + num_users] for item_idx in train_items])\n",
    "    # Testing edges\n",
    "    test_edges.extend([[user_index, item_idx + num_users] for item_idx in test_items])\n",
    "\n",
    "# Convert to tensors\n",
    "train_edge_index = torch.tensor(train_edges, dtype=torch.long).t().contiguous()\n",
    "test_edge_index = torch.tensor(test_edges, dtype=torch.long).t().contiguous()\n",
    "\n",
    "print(f\"Number of training edges: {train_edge_index.size(1)}\")\n",
    "print(f\"Number of testing edges: {test_edge_index.size(1)}\")"
   ]
  },
  {
   "cell_type": "code",
   "execution_count": 14,
   "metadata": {
    "id": "sv5leQywJjoK"
   },
   "outputs": [],
   "source": [
    "def train(model, optimizer, data, train_user_item_dict, num_users, num_items):\n",
    "    model.train()\n",
    "    optimizer.zero_grad()\n",
    "    user_emb, item_emb = model(data)\n",
    "\n",
    "    user_emb = user_emb.to(device)\n",
    "    item_emb = item_emb.to(device)\n",
    "\n",
    "    # Collect positive and negative samples\n",
    "    pos_users = []\n",
    "    pos_items = []\n",
    "    neg_items = []\n",
    "\n",
    "    for user_idx in train_user_item_dict.keys():\n",
    "        user_interactions = train_user_item_dict[user_idx]\n",
    "        for pos_item in user_interactions:\n",
    "            pos_users.append(user_idx)\n",
    "            pos_items.append(pos_item)\n",
    "\n",
    "            # Sample a negative item\n",
    "            while True:\n",
    "                neg_item = np.random.randint(0, num_items)\n",
    "                if neg_item not in train_user_item_dict[user_idx]:\n",
    "                    neg_items.append(neg_item)\n",
    "                    break\n",
    "\n",
    "    pos_users = torch.tensor(pos_users, dtype=torch.long, device=device)\n",
    "    pos_items = torch.tensor(pos_items, dtype=torch.long, device=device)\n",
    "    neg_items = torch.tensor(neg_items, dtype=torch.long, device=device)\n",
    "\n",
    "    pos_user_emb = user_emb[pos_users]\n",
    "    pos_item_emb = item_emb[pos_items]\n",
    "    neg_item_emb = item_emb[neg_items]\n",
    "\n",
    "    pos_scores = (pos_user_emb * pos_item_emb).sum(dim=1)\n",
    "    neg_scores = (pos_user_emb * neg_item_emb).sum(dim=1)\n",
    "\n",
    "    # BPR Loss\n",
    "    loss = -torch.log(torch.sigmoid(pos_scores - neg_scores)).mean()\n",
    "    loss.backward()\n",
    "    optimizer.step()\n",
    "    return loss.item()\n"
   ]
  },
  {
   "cell_type": "code",
   "execution_count": 15,
   "metadata": {
    "id": "NxR3M88sJleu"
   },
   "outputs": [],
   "source": [
    "from tqdm import tqdm\n",
    "\n",
    "def evaluate(model, data, test_user_item_dict, num_users, num_items, k=10, num_negatives=100, max_users=1000):\n",
    "    model.eval()\n",
    "    with torch.no_grad():\n",
    "        user_emb, item_emb = model(data)\n",
    "        user_emb = user_emb.cpu()\n",
    "        item_emb = item_emb.cpu()\n",
    "\n",
    "        precisions = []\n",
    "        recalls = []\n",
    "        ndcgs = []\n",
    "\n",
    "        user_list = list(test_user_item_dict.keys())\n",
    "\n",
    "        # Limit the number of users for evaluation\n",
    "        if max_users < len(user_list):\n",
    "            user_list = np.random.choice(user_list, size=max_users, replace=False)\n",
    "\n",
    "        for user_idx in tqdm(user_list, desc='Evaluating'):\n",
    "            true_items = list(test_user_item_dict[user_idx])\n",
    "            user_vector = user_emb[user_idx]\n",
    "\n",
    "            # Sample negative items\n",
    "            user_items_set = set(true_items)\n",
    "            neg_items = sample_negative_items(user_items_set, num_items, num_negatives)\n",
    "            items_to_score = np.array(true_items + neg_items)\n",
    "\n",
    "            # Compute scores\n",
    "            items_emb = item_emb[items_to_score]\n",
    "            scores = torch.matmul(items_emb, user_vector)\n",
    "\n",
    "            # Get top-k items\n",
    "            _, indices = torch.topk(scores, k)\n",
    "            recommended_items = items_to_score[indices.numpy()]\n",
    "\n",
    "            # Calculate metrics\n",
    "            hits = np.isin(recommended_items, true_items).astype(int)\n",
    "            precision = hits.sum() / k\n",
    "            recall = hits.sum() / len(true_items)\n",
    "            dcg = (hits / np.log2(np.arange(2, hits.size + 2))).sum()\n",
    "            idcg = (1 / np.log2(np.arange(2, min(len(true_items), k) + 2))).sum()\n",
    "            ndcg = dcg / idcg if idcg > 0 else 0.0\n",
    "\n",
    "            precisions.append(precision)\n",
    "            recalls.append(recall)\n",
    "            ndcgs.append(ndcg)\n",
    "\n",
    "        avg_precision = np.mean(precisions)\n",
    "        avg_recall = np.mean(recalls)\n",
    "        avg_ndcg = np.mean(ndcgs)\n",
    "\n",
    "        return avg_precision, avg_recall, avg_ndcg\n"
   ]
  },
  {
   "cell_type": "code",
   "execution_count": 16,
   "metadata": {
    "id": "uyPk83f3-jWV"
   },
   "outputs": [],
   "source": [
    "optimizer = optim.Adam(model.parameters(), lr=0.001, weight_decay=1e-5)"
   ]
  },
  {
   "cell_type": "code",
   "execution_count": 17,
   "metadata": {
    "id": "yC-NZsqyB5a2"
   },
   "outputs": [],
   "source": [
    "# Prepare training user-item interactions dictionary\n",
    "train_user_item_dict = {}\n",
    "for i in range(train_edge_index.size(1)):\n",
    "    user_idx = train_edge_index[0, i].item()\n",
    "    item_idx = train_edge_index[1, i].item() - num_users\n",
    "    train_user_item_dict.setdefault(user_idx, set()).add(item_idx)"
   ]
  },
  {
   "cell_type": "code",
   "execution_count": 2,
   "metadata": {
    "id": "gRA1UQBdEpy0"
   },
   "outputs": [],
   "source": [
    "def sample_negative_items(user_items_set, num_items, num_negatives):\n",
    "    neg_items = set()\n",
    "    while len(neg_items) < num_negatives:\n",
    "        neg_item = np.random.randint(0, num_items)\n",
    "        if neg_item not in user_items_set:\n",
    "            neg_items.add(neg_item)\n",
    "    return list(neg_items)\n"
   ]
  },
  {
   "cell_type": "code",
   "execution_count": 23,
   "metadata": {
    "colab": {
     "base_uri": "https://localhost:8080/"
    },
    "id": "jBAVUmJs-kwi",
    "outputId": "3a79a05f-eb96-4db4-eccb-e4889cd69599"
   },
   "outputs": [
    {
     "name": "stderr",
     "output_type": "stream",
     "text": [
      "Evaluating: 100%|██████████| 1000/1000 [00:00<00:00, 1723.21it/s]\n"
     ]
    },
    {
     "name": "stdout",
     "output_type": "stream",
     "text": [
      "Epoch 1, Loss: 0.6928, Precision@10: 0.0147, Recall@10: 0.0566, NDCG@10: 0.0332\n"
     ]
    },
    {
     "name": "stderr",
     "output_type": "stream",
     "text": [
      "Evaluating: 100%|██████████| 1000/1000 [00:00<00:00, 1743.30it/s]\n"
     ]
    },
    {
     "name": "stdout",
     "output_type": "stream",
     "text": [
      "Epoch 2, Loss: 0.6915, Precision@10: 0.0126, Recall@10: 0.0482, NDCG@10: 0.0289\n"
     ]
    },
    {
     "name": "stderr",
     "output_type": "stream",
     "text": [
      "Evaluating: 100%|██████████| 1000/1000 [00:00<00:00, 1783.70it/s]\n"
     ]
    },
    {
     "name": "stdout",
     "output_type": "stream",
     "text": [
      "Epoch 3, Loss: 0.6904, Precision@10: 0.0096, Recall@10: 0.0372, NDCG@10: 0.0227\n"
     ]
    },
    {
     "name": "stderr",
     "output_type": "stream",
     "text": [
      "Evaluating: 100%|██████████| 1000/1000 [00:00<00:00, 1771.68it/s]\n"
     ]
    },
    {
     "name": "stdout",
     "output_type": "stream",
     "text": [
      "Epoch 4, Loss: 0.6902, Precision@10: 0.0123, Recall@10: 0.0469, NDCG@10: 0.0285\n"
     ]
    },
    {
     "name": "stderr",
     "output_type": "stream",
     "text": [
      "Evaluating: 100%|██████████| 1000/1000 [00:00<00:00, 1521.27it/s]\n"
     ]
    },
    {
     "name": "stdout",
     "output_type": "stream",
     "text": [
      "Epoch 5, Loss: 0.6902, Precision@10: 0.0103, Recall@10: 0.0397, NDCG@10: 0.0222\n"
     ]
    },
    {
     "name": "stderr",
     "output_type": "stream",
     "text": [
      "Evaluating: 100%|██████████| 1000/1000 [00:00<00:00, 1781.84it/s]\n"
     ]
    },
    {
     "name": "stdout",
     "output_type": "stream",
     "text": [
      "Epoch 6, Loss: 0.6902, Precision@10: 0.0118, Recall@10: 0.0473, NDCG@10: 0.0251\n"
     ]
    },
    {
     "name": "stderr",
     "output_type": "stream",
     "text": [
      "Evaluating: 100%|██████████| 1000/1000 [00:00<00:00, 1766.39it/s]\n"
     ]
    },
    {
     "name": "stdout",
     "output_type": "stream",
     "text": [
      "Epoch 7, Loss: 0.6898, Precision@10: 0.0131, Recall@10: 0.0522, NDCG@10: 0.0288\n"
     ]
    },
    {
     "name": "stderr",
     "output_type": "stream",
     "text": [
      "Evaluating: 100%|██████████| 1000/1000 [00:00<00:00, 1727.22it/s]\n"
     ]
    },
    {
     "name": "stdout",
     "output_type": "stream",
     "text": [
      "Epoch 8, Loss: 0.6899, Precision@10: 0.0104, Recall@10: 0.0419, NDCG@10: 0.0238\n"
     ]
    },
    {
     "name": "stderr",
     "output_type": "stream",
     "text": [
      "Evaluating: 100%|██████████| 1000/1000 [00:00<00:00, 1767.99it/s]\n"
     ]
    },
    {
     "name": "stdout",
     "output_type": "stream",
     "text": [
      "Epoch 9, Loss: 0.6897, Precision@10: 0.0133, Recall@10: 0.0542, NDCG@10: 0.0304\n"
     ]
    },
    {
     "name": "stderr",
     "output_type": "stream",
     "text": [
      "Evaluating: 100%|██████████| 1000/1000 [00:00<00:00, 1763.15it/s]\n"
     ]
    },
    {
     "name": "stdout",
     "output_type": "stream",
     "text": [
      "Epoch 10, Loss: 0.6898, Precision@10: 0.0111, Recall@10: 0.0479, NDCG@10: 0.0260\n"
     ]
    },
    {
     "name": "stderr",
     "output_type": "stream",
     "text": [
      "Evaluating: 100%|██████████| 1000/1000 [00:00<00:00, 1629.35it/s]\n"
     ]
    },
    {
     "name": "stdout",
     "output_type": "stream",
     "text": [
      "Epoch 11, Loss: 0.6897, Precision@10: 0.0104, Recall@10: 0.0404, NDCG@10: 0.0233\n"
     ]
    },
    {
     "name": "stderr",
     "output_type": "stream",
     "text": [
      "Evaluating: 100%|██████████| 1000/1000 [00:00<00:00, 1408.24it/s]\n"
     ]
    },
    {
     "name": "stdout",
     "output_type": "stream",
     "text": [
      "Epoch 12, Loss: 0.6900, Precision@10: 0.0109, Recall@10: 0.0441, NDCG@10: 0.0240\n"
     ]
    },
    {
     "name": "stderr",
     "output_type": "stream",
     "text": [
      "Evaluating: 100%|██████████| 1000/1000 [00:00<00:00, 1744.06it/s]\n"
     ]
    },
    {
     "name": "stdout",
     "output_type": "stream",
     "text": [
      "Epoch 13, Loss: 0.6898, Precision@10: 0.0107, Recall@10: 0.0471, NDCG@10: 0.0254\n"
     ]
    },
    {
     "name": "stderr",
     "output_type": "stream",
     "text": [
      "Evaluating: 100%|██████████| 1000/1000 [00:00<00:00, 1730.23it/s]\n"
     ]
    },
    {
     "name": "stdout",
     "output_type": "stream",
     "text": [
      "Epoch 14, Loss: 0.6896, Precision@10: 0.0109, Recall@10: 0.0456, NDCG@10: 0.0246\n"
     ]
    },
    {
     "name": "stderr",
     "output_type": "stream",
     "text": [
      "Evaluating: 100%|██████████| 1000/1000 [00:00<00:00, 1751.29it/s]\n"
     ]
    },
    {
     "name": "stdout",
     "output_type": "stream",
     "text": [
      "Epoch 15, Loss: 0.6898, Precision@10: 0.0095, Recall@10: 0.0435, NDCG@10: 0.0232\n"
     ]
    },
    {
     "name": "stderr",
     "output_type": "stream",
     "text": [
      "Evaluating: 100%|██████████| 1000/1000 [00:00<00:00, 1729.18it/s]\n"
     ]
    },
    {
     "name": "stdout",
     "output_type": "stream",
     "text": [
      "Epoch 16, Loss: 0.6896, Precision@10: 0.0106, Recall@10: 0.0429, NDCG@10: 0.0236\n"
     ]
    },
    {
     "name": "stderr",
     "output_type": "stream",
     "text": [
      "Evaluating: 100%|██████████| 1000/1000 [00:00<00:00, 1790.09it/s]\n"
     ]
    },
    {
     "name": "stdout",
     "output_type": "stream",
     "text": [
      "Epoch 17, Loss: 0.6896, Precision@10: 0.0092, Recall@10: 0.0367, NDCG@10: 0.0211\n"
     ]
    },
    {
     "name": "stderr",
     "output_type": "stream",
     "text": [
      "Evaluating: 100%|██████████| 1000/1000 [00:00<00:00, 1716.64it/s]\n"
     ]
    },
    {
     "name": "stdout",
     "output_type": "stream",
     "text": [
      "Epoch 18, Loss: 0.6896, Precision@10: 0.0085, Recall@10: 0.0331, NDCG@10: 0.0195\n"
     ]
    },
    {
     "name": "stderr",
     "output_type": "stream",
     "text": [
      "Evaluating: 100%|██████████| 1000/1000 [00:00<00:00, 1717.91it/s]\n"
     ]
    },
    {
     "name": "stdout",
     "output_type": "stream",
     "text": [
      "Epoch 19, Loss: 0.6898, Precision@10: 0.0087, Recall@10: 0.0350, NDCG@10: 0.0187\n"
     ]
    },
    {
     "name": "stderr",
     "output_type": "stream",
     "text": [
      "Evaluating: 100%|██████████| 1000/1000 [00:00<00:00, 1778.34it/s]\n"
     ]
    },
    {
     "name": "stdout",
     "output_type": "stream",
     "text": [
      "Epoch 20, Loss: 0.6896, Precision@10: 0.0083, Recall@10: 0.0352, NDCG@10: 0.0186\n"
     ]
    },
    {
     "name": "stderr",
     "output_type": "stream",
     "text": [
      "Evaluating: 100%|██████████| 1000/1000 [00:00<00:00, 1752.31it/s]\n"
     ]
    },
    {
     "name": "stdout",
     "output_type": "stream",
     "text": [
      "Epoch 21, Loss: 0.6895, Precision@10: 0.0105, Recall@10: 0.0403, NDCG@10: 0.0234\n"
     ]
    },
    {
     "name": "stderr",
     "output_type": "stream",
     "text": [
      "Evaluating: 100%|██████████| 1000/1000 [00:00<00:00, 1833.01it/s]\n"
     ]
    },
    {
     "name": "stdout",
     "output_type": "stream",
     "text": [
      "Epoch 22, Loss: 0.6894, Precision@10: 0.0096, Recall@10: 0.0398, NDCG@10: 0.0209\n"
     ]
    },
    {
     "name": "stderr",
     "output_type": "stream",
     "text": [
      "Evaluating: 100%|██████████| 1000/1000 [00:00<00:00, 1837.35it/s]\n"
     ]
    },
    {
     "name": "stdout",
     "output_type": "stream",
     "text": [
      "Epoch 23, Loss: 0.6894, Precision@10: 0.0093, Recall@10: 0.0384, NDCG@10: 0.0205\n"
     ]
    },
    {
     "name": "stderr",
     "output_type": "stream",
     "text": [
      "Evaluating: 100%|██████████| 1000/1000 [00:00<00:00, 1836.84it/s]\n"
     ]
    },
    {
     "name": "stdout",
     "output_type": "stream",
     "text": [
      "Epoch 24, Loss: 0.6895, Precision@10: 0.0081, Recall@10: 0.0331, NDCG@10: 0.0182\n"
     ]
    },
    {
     "name": "stderr",
     "output_type": "stream",
     "text": [
      "Evaluating: 100%|██████████| 1000/1000 [00:00<00:00, 1743.68it/s]\n"
     ]
    },
    {
     "name": "stdout",
     "output_type": "stream",
     "text": [
      "Epoch 25, Loss: 0.6895, Precision@10: 0.0101, Recall@10: 0.0413, NDCG@10: 0.0236\n"
     ]
    },
    {
     "name": "stderr",
     "output_type": "stream",
     "text": [
      "Evaluating: 100%|██████████| 1000/1000 [00:00<00:00, 1510.55it/s]\n"
     ]
    },
    {
     "name": "stdout",
     "output_type": "stream",
     "text": [
      "Epoch 26, Loss: 0.6894, Precision@10: 0.0066, Recall@10: 0.0245, NDCG@10: 0.0145\n"
     ]
    },
    {
     "name": "stderr",
     "output_type": "stream",
     "text": [
      "Evaluating: 100%|██████████| 1000/1000 [00:00<00:00, 1747.51it/s]\n"
     ]
    },
    {
     "name": "stdout",
     "output_type": "stream",
     "text": [
      "Epoch 27, Loss: 0.6895, Precision@10: 0.0092, Recall@10: 0.0364, NDCG@10: 0.0202\n"
     ]
    },
    {
     "name": "stderr",
     "output_type": "stream",
     "text": [
      "Evaluating: 100%|██████████| 1000/1000 [00:00<00:00, 1841.72it/s]\n"
     ]
    },
    {
     "name": "stdout",
     "output_type": "stream",
     "text": [
      "Epoch 28, Loss: 0.6896, Precision@10: 0.0066, Recall@10: 0.0261, NDCG@10: 0.0165\n"
     ]
    },
    {
     "name": "stderr",
     "output_type": "stream",
     "text": [
      "Evaluating: 100%|██████████| 1000/1000 [00:00<00:00, 1696.38it/s]\n"
     ]
    },
    {
     "name": "stdout",
     "output_type": "stream",
     "text": [
      "Epoch 29, Loss: 0.6893, Precision@10: 0.0093, Recall@10: 0.0370, NDCG@10: 0.0207\n"
     ]
    },
    {
     "name": "stderr",
     "output_type": "stream",
     "text": [
      "Evaluating: 100%|██████████| 1000/1000 [00:00<00:00, 1765.67it/s]\n"
     ]
    },
    {
     "name": "stdout",
     "output_type": "stream",
     "text": [
      "Epoch 30, Loss: 0.6894, Precision@10: 0.0080, Recall@10: 0.0294, NDCG@10: 0.0164\n"
     ]
    },
    {
     "name": "stderr",
     "output_type": "stream",
     "text": [
      "Evaluating: 100%|██████████| 1000/1000 [00:00<00:00, 1742.20it/s]\n"
     ]
    },
    {
     "name": "stdout",
     "output_type": "stream",
     "text": [
      "Epoch 31, Loss: 0.6895, Precision@10: 0.0095, Recall@10: 0.0379, NDCG@10: 0.0220\n"
     ]
    },
    {
     "name": "stderr",
     "output_type": "stream",
     "text": [
      "Evaluating: 100%|██████████| 1000/1000 [00:00<00:00, 1700.80it/s]\n"
     ]
    },
    {
     "name": "stdout",
     "output_type": "stream",
     "text": [
      "Epoch 32, Loss: 0.6895, Precision@10: 0.0088, Recall@10: 0.0311, NDCG@10: 0.0174\n"
     ]
    },
    {
     "name": "stderr",
     "output_type": "stream",
     "text": [
      "Evaluating: 100%|██████████| 1000/1000 [00:00<00:00, 1340.00it/s]\n"
     ]
    },
    {
     "name": "stdout",
     "output_type": "stream",
     "text": [
      "Epoch 33, Loss: 0.6893, Precision@10: 0.0082, Recall@10: 0.0322, NDCG@10: 0.0198\n"
     ]
    },
    {
     "name": "stderr",
     "output_type": "stream",
     "text": [
      "Evaluating: 100%|██████████| 1000/1000 [00:00<00:00, 1798.55it/s]\n"
     ]
    },
    {
     "name": "stdout",
     "output_type": "stream",
     "text": [
      "Epoch 34, Loss: 0.6893, Precision@10: 0.0075, Recall@10: 0.0296, NDCG@10: 0.0148\n"
     ]
    },
    {
     "name": "stderr",
     "output_type": "stream",
     "text": [
      "Evaluating: 100%|██████████| 1000/1000 [00:00<00:00, 1742.91it/s]\n"
     ]
    },
    {
     "name": "stdout",
     "output_type": "stream",
     "text": [
      "Epoch 35, Loss: 0.6894, Precision@10: 0.0080, Recall@10: 0.0339, NDCG@10: 0.0175\n"
     ]
    },
    {
     "name": "stderr",
     "output_type": "stream",
     "text": [
      "Evaluating: 100%|██████████| 1000/1000 [00:00<00:00, 1724.29it/s]\n"
     ]
    },
    {
     "name": "stdout",
     "output_type": "stream",
     "text": [
      "Epoch 36, Loss: 0.6893, Precision@10: 0.0090, Recall@10: 0.0366, NDCG@10: 0.0196\n"
     ]
    },
    {
     "name": "stderr",
     "output_type": "stream",
     "text": [
      "Evaluating: 100%|██████████| 1000/1000 [00:00<00:00, 1805.55it/s]\n"
     ]
    },
    {
     "name": "stdout",
     "output_type": "stream",
     "text": [
      "Epoch 37, Loss: 0.6893, Precision@10: 0.0091, Recall@10: 0.0338, NDCG@10: 0.0201\n"
     ]
    },
    {
     "name": "stderr",
     "output_type": "stream",
     "text": [
      "Evaluating: 100%|██████████| 1000/1000 [00:00<00:00, 1775.97it/s]\n"
     ]
    },
    {
     "name": "stdout",
     "output_type": "stream",
     "text": [
      "Epoch 38, Loss: 0.6892, Precision@10: 0.0060, Recall@10: 0.0215, NDCG@10: 0.0116\n"
     ]
    },
    {
     "name": "stderr",
     "output_type": "stream",
     "text": [
      "Evaluating: 100%|██████████| 1000/1000 [00:00<00:00, 1595.07it/s]\n"
     ]
    },
    {
     "name": "stdout",
     "output_type": "stream",
     "text": [
      "Epoch 39, Loss: 0.6895, Precision@10: 0.0091, Recall@10: 0.0361, NDCG@10: 0.0186\n"
     ]
    },
    {
     "name": "stderr",
     "output_type": "stream",
     "text": [
      "Evaluating: 100%|██████████| 1000/1000 [00:00<00:00, 1463.99it/s]\n"
     ]
    },
    {
     "name": "stdout",
     "output_type": "stream",
     "text": [
      "Epoch 40, Loss: 0.6892, Precision@10: 0.0065, Recall@10: 0.0236, NDCG@10: 0.0139\n"
     ]
    },
    {
     "name": "stderr",
     "output_type": "stream",
     "text": [
      "Evaluating: 100%|██████████| 1000/1000 [00:00<00:00, 1745.21it/s]\n"
     ]
    },
    {
     "name": "stdout",
     "output_type": "stream",
     "text": [
      "Epoch 41, Loss: 0.6893, Precision@10: 0.0066, Recall@10: 0.0278, NDCG@10: 0.0149\n"
     ]
    },
    {
     "name": "stderr",
     "output_type": "stream",
     "text": [
      "Evaluating: 100%|██████████| 1000/1000 [00:00<00:00, 1810.77it/s]\n"
     ]
    },
    {
     "name": "stdout",
     "output_type": "stream",
     "text": [
      "Epoch 42, Loss: 0.6892, Precision@10: 0.0074, Recall@10: 0.0295, NDCG@10: 0.0169\n"
     ]
    },
    {
     "name": "stderr",
     "output_type": "stream",
     "text": [
      "Evaluating: 100%|██████████| 1000/1000 [00:00<00:00, 1721.88it/s]\n"
     ]
    },
    {
     "name": "stdout",
     "output_type": "stream",
     "text": [
      "Epoch 43, Loss: 0.6891, Precision@10: 0.0076, Recall@10: 0.0295, NDCG@10: 0.0169\n"
     ]
    },
    {
     "name": "stderr",
     "output_type": "stream",
     "text": [
      "Evaluating: 100%|██████████| 1000/1000 [00:00<00:00, 1647.95it/s]\n"
     ]
    },
    {
     "name": "stdout",
     "output_type": "stream",
     "text": [
      "Epoch 44, Loss: 0.6893, Precision@10: 0.0071, Recall@10: 0.0276, NDCG@10: 0.0162\n"
     ]
    },
    {
     "name": "stderr",
     "output_type": "stream",
     "text": [
      "Evaluating: 100%|██████████| 1000/1000 [00:00<00:00, 1779.10it/s]\n"
     ]
    },
    {
     "name": "stdout",
     "output_type": "stream",
     "text": [
      "Epoch 45, Loss: 0.6892, Precision@10: 0.0079, Recall@10: 0.0283, NDCG@10: 0.0165\n"
     ]
    },
    {
     "name": "stderr",
     "output_type": "stream",
     "text": [
      "Evaluating: 100%|██████████| 1000/1000 [00:00<00:00, 1424.69it/s]\n"
     ]
    },
    {
     "name": "stdout",
     "output_type": "stream",
     "text": [
      "Epoch 46, Loss: 0.6891, Precision@10: 0.0065, Recall@10: 0.0248, NDCG@10: 0.0147\n"
     ]
    },
    {
     "name": "stderr",
     "output_type": "stream",
     "text": [
      "Evaluating: 100%|██████████| 1000/1000 [00:00<00:00, 1593.12it/s]\n"
     ]
    },
    {
     "name": "stdout",
     "output_type": "stream",
     "text": [
      "Epoch 47, Loss: 0.6892, Precision@10: 0.0073, Recall@10: 0.0291, NDCG@10: 0.0151\n"
     ]
    },
    {
     "name": "stderr",
     "output_type": "stream",
     "text": [
      "Evaluating: 100%|██████████| 1000/1000 [00:00<00:00, 1743.17it/s]\n"
     ]
    },
    {
     "name": "stdout",
     "output_type": "stream",
     "text": [
      "Epoch 48, Loss: 0.6892, Precision@10: 0.0089, Recall@10: 0.0383, NDCG@10: 0.0194\n"
     ]
    },
    {
     "name": "stderr",
     "output_type": "stream",
     "text": [
      "Evaluating: 100%|██████████| 1000/1000 [00:00<00:00, 1818.76it/s]\n"
     ]
    },
    {
     "name": "stdout",
     "output_type": "stream",
     "text": [
      "Epoch 49, Loss: 0.6889, Precision@10: 0.0074, Recall@10: 0.0279, NDCG@10: 0.0157\n"
     ]
    },
    {
     "name": "stderr",
     "output_type": "stream",
     "text": [
      "Evaluating: 100%|██████████| 1000/1000 [00:00<00:00, 1798.01it/s]"
     ]
    },
    {
     "name": "stdout",
     "output_type": "stream",
     "text": [
      "Epoch 50, Loss: 0.6890, Precision@10: 0.0075, Recall@10: 0.0288, NDCG@10: 0.0152\n"
     ]
    },
    {
     "name": "stderr",
     "output_type": "stream",
     "text": [
      "\n"
     ]
    }
   ],
   "source": [
    "num_epochs = 50\n",
    "train_losses = []\n",
    "precisions = []\n",
    "recalls = []\n",
    "ndcgs = []\n",
    "\n",
    "# Prepare test user-item interactions dictionary\n",
    "test_user_item_dict = {}\n",
    "for i in range(test_edge_index.size(1)):\n",
    "    user_idx = test_edge_index[0, i].item()\n",
    "    item_idx = test_edge_index[1, i].item() - num_users\n",
    "    test_user_item_dict.setdefault(user_idx, set()).add(item_idx)\n",
    "\n",
    "# Training Loop\n",
    "for epoch in range(1, num_epochs + 1):\n",
    "    loss = train(model, optimizer, graph_data.to(device), train_user_item_dict, num_users, num_items)\n",
    "    train_losses.append(loss)\n",
    "\n",
    "    if epoch % 1 == 0:\n",
    "        precision, recall, ndcg = evaluate(\n",
    "            model, graph_data, test_user_item_dict, num_users, num_items, k=10, max_users=1000\n",
    "        )\n",
    "        precisions.append(precision)\n",
    "        recalls.append(recall)\n",
    "        ndcgs.append(ndcg)\n",
    "        print(f\"Epoch {epoch}, Loss: {loss:.4f}, Precision@10: {precision:.4f}, Recall@10: {recall:.4f}, NDCG@10: {ndcg:.4f}\")\n"
   ]
  },
  {
   "cell_type": "code",
   "execution_count": 24,
   "metadata": {
    "colab": {
     "base_uri": "https://localhost:8080/",
     "height": 564
    },
    "id": "LBtf-WMu-nW2",
    "outputId": "cdda8e82-01fe-409e-87e7-99f3387ffcb0"
   },
   "outputs": [
    {
     "data": {
      "image/png": "[encoded data removed]",
      "text/plain": [
       "<Figure size 800x600 with 1 Axes>"
      ]
     },
     "metadata": {},
     "output_type": "display_data"
    }
   ],
   "source": [
    "plt.figure(figsize=(8, 6))\n",
    "plt.plot(range(1, num_epochs + 1), train_losses, label='Train Loss')\n",
    "plt.xlabel('Epoch')\n",
    "plt.ylabel('Loss')\n",
    "plt.title('Training Loss over Epochs')\n",
    "plt.legend()\n",
    "plt.show()"
   ]
  },
  {
   "cell_type": "code",
   "execution_count": 25,
   "metadata": {
    "colab": {
     "base_uri": "https://localhost:8080/",
     "height": 564
    },
    "id": "tINcmxUd-pfF",
    "outputId": "525c7774-327f-4444-c349-7a2b296c2f39"
   },
   "outputs": [
    {
     "data": {
      "image/png": "[encoded data removed]",
      "text/plain": [
       "<Figure size 800x600 with 1 Axes>"
      ]
     },
     "metadata": {},
     "output_type": "display_data"
    }
   ],
   "source": [
    "epochs = range(1, num_epochs + 1)\n",
    "\n",
    "plt.figure(figsize=(8, 6))\n",
    "plt.plot(epochs, precisions, label='Precision@10')\n",
    "plt.plot(epochs, recalls, label='Recall@10')\n",
    "plt.plot(epochs, ndcgs, label='NDCG@10')\n",
    "plt.xlabel('Epoch')\n",
    "plt.ylabel('Metric')\n",
    "plt.title('Evaluation Metrics over Epochs')\n",
    "plt.legend()\n",
    "plt.show()"
   ]
  },
  {
   "cell_type": "code",
   "execution_count": null,
   "metadata": {
    "id": "UomkiMbf-q3c"
   },
   "outputs": [],
   "source": [
    "# After training\n",
    "model.eval()\n",
    "with torch.no_grad():\n",
    "    user_emb, item_emb = model(graph_data.to(device))\n",
    "\n",
    "# Convert to numpy\n",
    "user_emb_np = user_emb.cpu().numpy()\n",
    "item_emb_np = item_emb.cpu().numpy()\n",
    "\n",
    "# Concatenate embeddings\n",
    "embeddings = np.vstack([user_emb_np, item_emb_np])\n",
    "labels = ['User'] * num_users + ['Item'] * num_items\n",
    "\n",
    "# Apply t-SNE\n",
    "tsne = TSNE(n_components=2, random_state=42)\n",
    "embeddings_2d = tsne.fit_transform(embeddings)\n",
    "\n",
    "# Plot\n",
    "plt.figure(figsize=(10, 10))\n",
    "plt.scatter(embeddings_2d[:num_users, 0], embeddings_2d[:num_users, 1], label='Users', alpha=0.5)\n",
    "plt.scatter(embeddings_2d[num_users:, 0], embeddings_2d[num_users:, 1], label='Items', alpha=0.5)\n",
    "plt.legend()\n",
    "plt.title('t-SNE Visualization of Embeddings')\n",
    "plt.show()"
   ]
  },
  {
   "cell_type": "code",
   "execution_count": 26,
   "metadata": {
    "colab": {
     "base_uri": "https://localhost:8080/"
    },
    "id": "x10W5Njm-sqZ",
    "outputId": "e0dd31d4-d5d6-438c-f329-50f6170f3ec4"
   },
   "outputs": [
    {
     "name": "stdout",
     "output_type": "stream",
     "text": [
      "Model saved to /content/maryland_polyvore/features/gnn_recommender.pth\n"
     ]
    }
   ],
   "source": [
    "model_save_path = os.path.join(features_dir, 'gnn_recommender.pth')\n",
    "torch.save(model.state_dict(), model_save_path)\n",
    "print(f\"Model saved to {model_save_path}\")"
   ]
  },
  {
   "cell_type": "code",
   "execution_count": 1,
   "metadata": {
    "colab": {
     "base_uri": "https://localhost:8080/"
    },
    "id": "P-9loMDQ1qt6",
    "outputId": "97b5db9c-478f-4d99-884a-260efdf14115"
   },
   "outputs": [
    {
     "name": "stderr",
     "output_type": "stream",
     "text": [
      "/usr/local/lib/python3.10/dist-packages/torch_geometric/typing.py:86: UserWarning: An issue occurred while importing 'torch-scatter'. Disabling its usage. Stacktrace: /usr/local/lib/python3.10/dist-packages/torch_scatter/_version_cuda.so: undefined symbol: _ZN3c1017RegisterOperatorsD1Ev\n",
      "  warnings.warn(f\"An issue occurred while importing 'torch-scatter'. \"\n",
      "/usr/local/lib/python3.10/dist-packages/torch_geometric/typing.py:97: UserWarning: An issue occurred while importing 'torch-cluster'. Disabling its usage. Stacktrace: /usr/local/lib/python3.10/dist-packages/torch_cluster/_version_cuda.so: undefined symbol: _ZN3c1017RegisterOperatorsD1Ev\n",
      "  warnings.warn(f\"An issue occurred while importing 'torch-cluster'. \"\n",
      "/usr/local/lib/python3.10/dist-packages/torch_geometric/typing.py:113: UserWarning: An issue occurred while importing 'torch-spline-conv'. Disabling its usage. Stacktrace: /usr/local/lib/python3.10/dist-packages/torch_spline_conv/_version_cuda.so: undefined symbol: _ZN3c1017RegisterOperatorsD1Ev\n",
      "  warnings.warn(\n",
      "/usr/local/lib/python3.10/dist-packages/torch_geometric/typing.py:124: UserWarning: An issue occurred while importing 'torch-sparse'. Disabling its usage. Stacktrace: /usr/local/lib/python3.10/dist-packages/torch_sparse/_version_cuda.so: undefined symbol: _ZN3c1017RegisterOperatorsD1Ev\n",
      "  warnings.warn(f\"An issue occurred while importing 'torch-sparse'. \"\n"
     ]
    },
    {
     "name": "stdout",
     "output_type": "stream",
     "text": [
      "Columns in user_item_df: Index(['User_ID', 'Item_Path'], dtype='object')\n",
      "Filtered user_item_df to 444370 rows with valid item paths.\n"
     ]
    },
    {
     "name": "stderr",
     "output_type": "stream",
     "text": [
      "Evaluating: 100%|██████████| 33375/33375 [00:22<00:00, 1488.16it/s]\n"
     ]
    },
    {
     "name": "stdout",
     "output_type": "stream",
     "text": [
      "Epoch 1, Loss: 0.6934, Precision@10: 1.0000, Recall@10: 0.0000, NDCG@10: 1.0000\n"
     ]
    },
    {
     "name": "stderr",
     "output_type": "stream",
     "text": [
      "Evaluating: 100%|██████████| 33375/33375 [00:22<00:00, 1512.44it/s]\n"
     ]
    },
    {
     "name": "stdout",
     "output_type": "stream",
     "text": [
      "Epoch 2, Loss: 0.6932, Precision@10: 1.0000, Recall@10: 0.0000, NDCG@10: 1.0000\n"
     ]
    },
    {
     "name": "stderr",
     "output_type": "stream",
     "text": [
      "Evaluating: 100%|██████████| 33375/33375 [00:22<00:00, 1509.83it/s]\n"
     ]
    },
    {
     "name": "stdout",
     "output_type": "stream",
     "text": [
      "Epoch 3, Loss: 0.6934, Precision@10: 1.0000, Recall@10: 0.0000, NDCG@10: 1.0000\n"
     ]
    },
    {
     "name": "stderr",
     "output_type": "stream",
     "text": [
      "Evaluating: 100%|██████████| 33375/33375 [00:21<00:00, 1520.31it/s]\n"
     ]
    },
    {
     "name": "stdout",
     "output_type": "stream",
     "text": [
      "Epoch 4, Loss: 0.6933, Precision@10: 1.0000, Recall@10: 0.0000, NDCG@10: 1.0000\n"
     ]
    },
    {
     "name": "stderr",
     "output_type": "stream",
     "text": [
      "Evaluating: 100%|██████████| 33375/33375 [00:21<00:00, 1518.78it/s]\n"
     ]
    },
    {
     "name": "stdout",
     "output_type": "stream",
     "text": [
      "Epoch 5, Loss: 0.6934, Precision@10: 1.0000, Recall@10: 0.0000, NDCG@10: 1.0000\n"
     ]
    },
    {
     "name": "stderr",
     "output_type": "stream",
     "text": [
      "Evaluating: 100%|██████████| 33375/33375 [00:22<00:00, 1507.68it/s]\n"
     ]
    },
    {
     "name": "stdout",
     "output_type": "stream",
     "text": [
      "Epoch 6, Loss: 0.6932, Precision@10: 1.0000, Recall@10: 0.0000, NDCG@10: 1.0000\n"
     ]
    },
    {
     "name": "stderr",
     "output_type": "stream",
     "text": [
      "Evaluating: 100%|██████████| 33375/33375 [00:22<00:00, 1516.91it/s]\n"
     ]
    },
    {
     "name": "stdout",
     "output_type": "stream",
     "text": [
      "Epoch 7, Loss: 0.6933, Precision@10: 1.0000, Recall@10: 0.0000, NDCG@10: 1.0000\n"
     ]
    },
    {
     "name": "stderr",
     "output_type": "stream",
     "text": [
      "Evaluating: 100%|██████████| 33375/33375 [00:22<00:00, 1509.31it/s]\n"
     ]
    },
    {
     "name": "stdout",
     "output_type": "stream",
     "text": [
      "Epoch 8, Loss: 0.6935, Precision@10: 1.0000, Recall@10: 0.0000, NDCG@10: 1.0000\n"
     ]
    },
    {
     "name": "stderr",
     "output_type": "stream",
     "text": [
      "Evaluating: 100%|██████████| 33375/33375 [00:22<00:00, 1516.60it/s]\n"
     ]
    },
    {
     "name": "stdout",
     "output_type": "stream",
     "text": [
      "Epoch 9, Loss: 0.6932, Precision@10: 1.0000, Recall@10: 0.0000, NDCG@10: 1.0000\n"
     ]
    },
    {
     "name": "stderr",
     "output_type": "stream",
     "text": [
      "Evaluating: 100%|██████████| 33375/33375 [00:21<00:00, 1517.27it/s]\n"
     ]
    },
    {
     "name": "stdout",
     "output_type": "stream",
     "text": [
      "Epoch 10, Loss: 0.6933, Precision@10: 1.0000, Recall@10: 0.0000, NDCG@10: 1.0000\n"
     ]
    },
    {
     "name": "stderr",
     "output_type": "stream",
     "text": [
      "Evaluating: 100%|██████████| 33375/33375 [00:22<00:00, 1512.59it/s]\n"
     ]
    },
    {
     "name": "stdout",
     "output_type": "stream",
     "text": [
      "Epoch 11, Loss: 0.6933, Precision@10: 1.0000, Recall@10: 0.0000, NDCG@10: 1.0000\n"
     ]
    },
    {
     "name": "stderr",
     "output_type": "stream",
     "text": [
      "Evaluating: 100%|██████████| 33375/33375 [00:22<00:00, 1512.44it/s]\n"
     ]
    },
    {
     "name": "stdout",
     "output_type": "stream",
     "text": [
      "Epoch 12, Loss: 0.6931, Precision@10: 1.0000, Recall@10: 0.0000, NDCG@10: 1.0000\n"
     ]
    },
    {
     "name": "stderr",
     "output_type": "stream",
     "text": [
      "Evaluating: 100%|██████████| 33375/33375 [00:22<00:00, 1511.77it/s]\n"
     ]
    },
    {
     "name": "stdout",
     "output_type": "stream",
     "text": [
      "Epoch 13, Loss: 0.6933, Precision@10: 1.0000, Recall@10: 0.0000, NDCG@10: 1.0000\n"
     ]
    },
    {
     "name": "stderr",
     "output_type": "stream",
     "text": [
      "Evaluating: 100%|██████████| 33375/33375 [00:22<00:00, 1512.66it/s]\n"
     ]
    },
    {
     "name": "stdout",
     "output_type": "stream",
     "text": [
      "Epoch 14, Loss: 0.6932, Precision@10: 1.0000, Recall@10: 0.0000, NDCG@10: 1.0000\n"
     ]
    },
    {
     "name": "stderr",
     "output_type": "stream",
     "text": [
      "Evaluating: 100%|██████████| 33375/33375 [00:21<00:00, 1518.82it/s]"
     ]
    },
    {
     "name": "stdout",
     "output_type": "stream",
     "text": [
      "Epoch 15, Loss: 0.6932, Precision@10: 1.0000, Recall@10: 0.0000, NDCG@10: 1.0000\n"
     ]
    },
    {
     "name": "stderr",
     "output_type": "stream",
     "text": [
      "\n"
     ]
    }
   ],
   "source": [
    "import os\n",
    "import numpy as np\n",
    "import pandas as pd\n",
    "import torch\n",
    "import torch.nn as nn\n",
    "import torch.optim as optim\n",
    "import torch.nn.functional as F\n",
    "from torch_geometric.data import Data\n",
    "from torch_geometric.nn import SAGEConv, GATv2Conv\n",
    "from torch_geometric.utils import add_self_loops\n",
    "from tqdm import tqdm\n",
    "\n",
    "# Set device for computations\n",
    "device = torch.device('cuda' if torch.cuda.is_available() else 'cpu')\n",
    "\n",
    "# Function to load features and user-item interactions, handling missing items\n",
    "def load_data(features_dir, user_item_file):\n",
    "    \"\"\"Load features and user-item interactions with valid item paths.\"\"\"\n",
    "    user_item_df = pd.read_csv(user_item_file)\n",
    "    print(\"Columns in user_item_df:\", user_item_df.columns)\n",
    "\n",
    "    item_features = []\n",
    "    for feature_file in sorted(os.listdir(features_dir)):\n",
    "        if feature_file.startswith('features_chunk_') and feature_file.endswith('.npy'):\n",
    "            features = np.load(os.path.join(features_dir, feature_file))\n",
    "            item_features.append(features)\n",
    "\n",
    "    item_features = np.vstack(item_features)\n",
    "    num_items = item_features.shape[0]\n",
    "    num_users = user_item_df['User_ID'].nunique()\n",
    "\n",
    "    unique_paths = set(user_item_df['Item_Path'].unique())\n",
    "    valid_paths = list(unique_paths)[:num_items]\n",
    "    item_path_to_id = {path: idx for idx, path in enumerate(valid_paths)}\n",
    "\n",
    "    user_item_df = user_item_df[user_item_df['Item_Path'].isin(item_path_to_id)]\n",
    "    user_item_df['Item_ID'] = user_item_df['Item_Path'].map(item_path_to_id)\n",
    "    print(f\"Filtered user_item_df to {len(user_item_df)} rows with valid item paths.\")\n",
    "\n",
    "    return torch.tensor(item_features, dtype=torch.float), user_item_df, num_users, num_items\n",
    "\n",
    "# Load data\n",
    "features_dir = '/content/maryland_polyvore/features'\n",
    "user_item_file = '/content/maryland_polyvore/user_item_data.csv'\n",
    "item_features, user_item_df, num_users, num_items = load_data(features_dir, user_item_file)\n",
    "\n",
    "# Create edge index for graph using valid user and item IDs\n",
    "def create_edge_index(user_item_df, num_users):\n",
    "    edge_index = []\n",
    "    user_to_idx = {user_id: idx for idx, user_id in enumerate(user_item_df['User_ID'].unique())}\n",
    "\n",
    "    for _, row in user_item_df.iterrows():\n",
    "        user_idx = user_to_idx[row['User_ID']]\n",
    "        item_idx = row['Item_ID'] + num_users\n",
    "        edge_index.append([user_idx, item_idx])\n",
    "\n",
    "    edge_index = torch.tensor(edge_index, dtype=torch.long).t().contiguous()\n",
    "    edge_index, _ = add_self_loops(edge_index, num_nodes=num_users + num_items)\n",
    "    return edge_index\n",
    "\n",
    "# Initialize graph data\n",
    "x = torch.cat([torch.zeros((num_users, item_features.shape[1])), item_features])\n",
    "edge_index = create_edge_index(user_item_df, num_users)\n",
    "data = Data(x=x, edge_index=edge_index)\n",
    "\n",
    "# Define a more advanced GNN model with GraphSAGE and Attention\n",
    "class AdvancedGNN(nn.Module):\n",
    "    def __init__(self, input_dim, hidden_dim, output_dim, dropout=0.3):\n",
    "        super(AdvancedGNN, self).__init__()\n",
    "        # Use GraphSAGE for inductive capabilities\n",
    "        self.sage1 = SAGEConv(input_dim, hidden_dim)\n",
    "        self.sage2 = SAGEConv(hidden_dim, hidden_dim)\n",
    "\n",
    "        # Apply attention layers\n",
    "        self.attention1 = GATv2Conv(hidden_dim, hidden_dim, heads=4, dropout=dropout)\n",
    "        self.attention2 = GATv2Conv(hidden_dim * 4, output_dim, heads=4, concat=False, dropout=dropout)\n",
    "\n",
    "        self.dropout = nn.Dropout(dropout)\n",
    "\n",
    "    def forward(self, x, edge_index):\n",
    "        # Apply GraphSAGE layers with ReLU activations\n",
    "        x = F.relu(self.sage1(x, edge_index))\n",
    "        x = self.dropout(x)\n",
    "        x = F.relu(self.sage2(x, edge_index))\n",
    "        x = self.dropout(x)\n",
    "\n",
    "        # Apply multi-head attention layers\n",
    "        x = F.elu(self.attention1(x, edge_index))\n",
    "        x = self.dropout(x)\n",
    "        x = self.attention2(x, edge_index)\n",
    "        return x\n",
    "\n",
    "# Initialize the model, optimizer, and learning rate scheduler\n",
    "input_dim = item_features.shape[1]\n",
    "hidden_dim = 128\n",
    "output_dim = 64\n",
    "model = AdvancedGNN(input_dim, hidden_dim, output_dim).to(device)\n",
    "optimizer = optim.Adam(model.parameters(), lr=0.0005, weight_decay=1e-5)\n",
    "\n",
    "# Define BPR loss for recommendation\n",
    "def bpr_loss(user_emb, pos_item_emb, neg_item_emb):\n",
    "    pos_scores = (user_emb * pos_item_emb).sum(dim=1)\n",
    "    neg_scores = (user_emb * neg_item_emb).sum(dim=1)\n",
    "    return -torch.log(torch.sigmoid(pos_scores - neg_scores)).mean()\n",
    "\n",
    "# Training function\n",
    "def train_epoch(model, optimizer, data, num_users, num_items):\n",
    "    model.train()\n",
    "    optimizer.zero_grad()\n",
    "\n",
    "    embeddings = model(data.x.to(device), data.edge_index.to(device))\n",
    "    user_emb, item_emb = embeddings[:num_users], embeddings[num_users:]\n",
    "\n",
    "    pos_item_emb = item_emb[:num_users]\n",
    "    neg_indices = torch.randint(0, num_items, (num_users,), device=device)\n",
    "    neg_item_emb = item_emb[neg_indices]\n",
    "\n",
    "    loss = bpr_loss(user_emb, pos_item_emb, neg_item_emb)\n",
    "    loss.backward()\n",
    "    optimizer.step()\n",
    "    return loss.item()\n",
    "\n",
    "# Evaluation function with precision, recall, and NDCG\n",
    "def evaluate(model, data, num_users, num_items, k=10):\n",
    "    model.eval()\n",
    "    precisions, recalls, ndcgs = [], [], []\n",
    "    with torch.no_grad():\n",
    "        embeddings = model(data.x.to(device), data.edge_index.to(device))\n",
    "        user_emb, item_emb = embeddings[:num_users], embeddings[num_users:]\n",
    "\n",
    "        for user_idx in tqdm(range(num_users), desc=\"Evaluating\"):\n",
    "            pos_scores = (user_emb[user_idx] * item_emb).sum(dim=1)\n",
    "            neg_indices = torch.randint(0, num_items, (k,), device=device)\n",
    "            neg_scores = (user_emb[user_idx] * item_emb[neg_indices]).sum(dim=1)\n",
    "\n",
    "            all_scores = torch.cat([pos_scores, neg_scores])\n",
    "            _, top_indices = torch.topk(all_scores, k=k)\n",
    "            hits = top_indices < num_items\n",
    "\n",
    "            precision = hits.sum().float() / k\n",
    "            recall = hits.sum().float() / len(pos_scores)\n",
    "            dcg = (hits / torch.log2(torch.arange(2, hits.size(0) + 2, device=device).float())).sum()\n",
    "            idcg = (1 / torch.log2(torch.arange(2, min(len(pos_scores), k) + 2, device=device).float())).sum()\n",
    "            ndcg = dcg / idcg if idcg > 0 else 0.0\n",
    "\n",
    "            precisions.append(precision.item())\n",
    "            recalls.append(recall.item())\n",
    "            ndcgs.append(ndcg.item())\n",
    "\n",
    "    return np.mean(precisions), np.mean(recalls), np.mean(ndcgs)\n",
    "\n",
    "# Training loop\n",
    "num_epochs = 15\n",
    "for epoch in range(num_epochs):\n",
    "    loss = train_epoch(model, optimizer, data, num_users, num_items)\n",
    "    precision, recall, ndcg = evaluate(model, data, num_users, num_items)\n",
    "    print(f\"Epoch {epoch+1}, Loss: {loss:.4f}, Precision@10: {precision:.4f}, Recall@10: {recall:.4f}, NDCG@10: {ndcg:.4f}\")"
   ]
  },
  {
   "cell_type": "code",
   "execution_count": 3,
   "metadata": {
    "colab": {
     "base_uri": "https://localhost:8080/",
     "height": 1000
    },
    "id": "I9xL2mW6rDcA",
    "outputId": "062f338c-8f3e-440d-ef0a-6a932494e7dd"
   },
   "outputs": [
    {
     "name": "stderr",
     "output_type": "stream",
     "text": [
      "Evaluating: 100%|██████████| 1000/1000 [00:00<00:00, 1326.64it/s]\n"
     ]
    },
    {
     "name": "stdout",
     "output_type": "stream",
     "text": [
      "Epoch 1, Loss: 0.6931, Precision@10: 0.2867, Recall@10: 0.9999, NDCG@10: 0.4951\n"
     ]
    },
    {
     "name": "stderr",
     "output_type": "stream",
     "text": [
      "Evaluating: 100%|██████████| 1000/1000 [00:00<00:00, 1403.81it/s]\n"
     ]
    },
    {
     "name": "stdout",
     "output_type": "stream",
     "text": [
      "Epoch 2, Loss: 0.6931, Precision@10: 0.2892, Recall@10: 0.9999, NDCG@10: 0.4980\n"
     ]
    },
    {
     "name": "stderr",
     "output_type": "stream",
     "text": [
      "Evaluating: 100%|██████████| 1000/1000 [00:00<00:00, 1394.19it/s]\n"
     ]
    },
    {
     "name": "stdout",
     "output_type": "stream",
     "text": [
      "Epoch 3, Loss: 0.6931, Precision@10: 0.2893, Recall@10: 0.9997, NDCG@10: 0.4978\n"
     ]
    },
    {
     "name": "stderr",
     "output_type": "stream",
     "text": [
      "Evaluating: 100%|██████████| 1000/1000 [00:00<00:00, 1393.25it/s]\n"
     ]
    },
    {
     "name": "stdout",
     "output_type": "stream",
     "text": [
      "Epoch 4, Loss: 0.6931, Precision@10: 0.2947, Recall@10: 0.9997, NDCG@10: 0.5010\n"
     ]
    },
    {
     "name": "stderr",
     "output_type": "stream",
     "text": [
      "Evaluating: 100%|██████████| 1000/1000 [00:00<00:00, 1386.43it/s]\n"
     ]
    },
    {
     "name": "stdout",
     "output_type": "stream",
     "text": [
      "Epoch 5, Loss: 0.6931, Precision@10: 0.2874, Recall@10: 0.9999, NDCG@10: 0.4971\n"
     ]
    },
    {
     "name": "stderr",
     "output_type": "stream",
     "text": [
      "Evaluating: 100%|██████████| 1000/1000 [00:00<00:00, 1398.36it/s]\n"
     ]
    },
    {
     "name": "stdout",
     "output_type": "stream",
     "text": [
      "Epoch 6, Loss: 0.6931, Precision@10: 0.2814, Recall@10: 1.0000, NDCG@10: 0.4926\n"
     ]
    },
    {
     "name": "stderr",
     "output_type": "stream",
     "text": [
      "Evaluating: 100%|██████████| 1000/1000 [00:00<00:00, 1396.29it/s]\n"
     ]
    },
    {
     "name": "stdout",
     "output_type": "stream",
     "text": [
      "Epoch 7, Loss: 0.6931, Precision@10: 0.2898, Recall@10: 0.9999, NDCG@10: 0.4975\n"
     ]
    },
    {
     "name": "stderr",
     "output_type": "stream",
     "text": [
      "Evaluating: 100%|██████████| 1000/1000 [00:00<00:00, 1393.81it/s]\n"
     ]
    },
    {
     "name": "stdout",
     "output_type": "stream",
     "text": [
      "Epoch 8, Loss: 0.6931, Precision@10: 0.2934, Recall@10: 0.9997, NDCG@10: 0.5005\n"
     ]
    },
    {
     "name": "stderr",
     "output_type": "stream",
     "text": [
      "Evaluating: 100%|██████████| 1000/1000 [00:00<00:00, 1392.64it/s]\n"
     ]
    },
    {
     "name": "stdout",
     "output_type": "stream",
     "text": [
      "Epoch 9, Loss: 0.6931, Precision@10: 0.2885, Recall@10: 1.0000, NDCG@10: 0.4966\n"
     ]
    },
    {
     "name": "stderr",
     "output_type": "stream",
     "text": [
      "Evaluating: 100%|██████████| 1000/1000 [00:00<00:00, 1397.53it/s]\n"
     ]
    },
    {
     "name": "stdout",
     "output_type": "stream",
     "text": [
      "Epoch 10, Loss: 0.6931, Precision@10: 0.2902, Recall@10: 0.9998, NDCG@10: 0.4984\n"
     ]
    },
    {
     "name": "stderr",
     "output_type": "stream",
     "text": [
      "Evaluating: 100%|██████████| 1000/1000 [00:00<00:00, 1379.66it/s]\n"
     ]
    },
    {
     "name": "stdout",
     "output_type": "stream",
     "text": [
      "Epoch 11, Loss: 0.6931, Precision@10: 0.2884, Recall@10: 1.0000, NDCG@10: 0.4971\n"
     ]
    },
    {
     "name": "stderr",
     "output_type": "stream",
     "text": [
      "Evaluating: 100%|██████████| 1000/1000 [00:00<00:00, 1395.82it/s]\n"
     ]
    },
    {
     "name": "stdout",
     "output_type": "stream",
     "text": [
      "Epoch 12, Loss: 0.6931, Precision@10: 0.2938, Recall@10: 0.9997, NDCG@10: 0.5005\n"
     ]
    },
    {
     "name": "stderr",
     "output_type": "stream",
     "text": [
      "Evaluating: 100%|██████████| 1000/1000 [00:00<00:00, 1400.89it/s]\n"
     ]
    },
    {
     "name": "stdout",
     "output_type": "stream",
     "text": [
      "Epoch 13, Loss: 0.6931, Precision@10: 0.2926, Recall@10: 0.9999, NDCG@10: 0.5001\n"
     ]
    },
    {
     "name": "stderr",
     "output_type": "stream",
     "text": [
      "Evaluating: 100%|██████████| 1000/1000 [00:00<00:00, 1395.97it/s]\n"
     ]
    },
    {
     "name": "stdout",
     "output_type": "stream",
     "text": [
      "Epoch 14, Loss: 0.6931, Precision@10: 0.2879, Recall@10: 0.9999, NDCG@10: 0.4974\n"
     ]
    },
    {
     "name": "stderr",
     "output_type": "stream",
     "text": [
      "Evaluating: 100%|██████████| 1000/1000 [00:00<00:00, 1392.71it/s]\n"
     ]
    },
    {
     "name": "stdout",
     "output_type": "stream",
     "text": [
      "Epoch 15, Loss: 0.6931, Precision@10: 0.2977, Recall@10: 0.9997, NDCG@10: 0.5040\n"
     ]
    },
    {
     "name": "stderr",
     "output_type": "stream",
     "text": [
      "Evaluating: 100%|██████████| 1000/1000 [00:00<00:00, 1401.64it/s]\n"
     ]
    },
    {
     "name": "stdout",
     "output_type": "stream",
     "text": [
      "Epoch 16, Loss: 0.6931, Precision@10: 0.2867, Recall@10: 0.9996, NDCG@10: 0.4950\n"
     ]
    },
    {
     "name": "stderr",
     "output_type": "stream",
     "text": [
      "Evaluating: 100%|██████████| 1000/1000 [00:00<00:00, 1408.58it/s]\n"
     ]
    },
    {
     "name": "stdout",
     "output_type": "stream",
     "text": [
      "Epoch 17, Loss: 0.6931, Precision@10: 0.2869, Recall@10: 0.9999, NDCG@10: 0.4970\n"
     ]
    },
    {
     "name": "stderr",
     "output_type": "stream",
     "text": [
      "Evaluating: 100%|██████████| 1000/1000 [00:00<00:00, 1397.59it/s]\n"
     ]
    },
    {
     "name": "stdout",
     "output_type": "stream",
     "text": [
      "Epoch 18, Loss: 0.6931, Precision@10: 0.2866, Recall@10: 0.9997, NDCG@10: 0.4973\n"
     ]
    },
    {
     "name": "stderr",
     "output_type": "stream",
     "text": [
      "Evaluating: 100%|██████████| 1000/1000 [00:00<00:00, 1402.42it/s]\n"
     ]
    },
    {
     "name": "stdout",
     "output_type": "stream",
     "text": [
      "Epoch 19, Loss: 0.6931, Precision@10: 0.2856, Recall@10: 0.9998, NDCG@10: 0.4963\n"
     ]
    },
    {
     "name": "stderr",
     "output_type": "stream",
     "text": [
      "Evaluating: 100%|██████████| 1000/1000 [00:00<00:00, 1413.81it/s]\n"
     ]
    },
    {
     "name": "stdout",
     "output_type": "stream",
     "text": [
      "Epoch 20, Loss: 0.6931, Precision@10: 0.2864, Recall@10: 0.9998, NDCG@10: 0.4962\n"
     ]
    },
    {
     "name": "stderr",
     "output_type": "stream",
     "text": [
      "Evaluating: 100%|██████████| 1000/1000 [00:00<00:00, 1375.57it/s]\n"
     ]
    },
    {
     "name": "stdout",
     "output_type": "stream",
     "text": [
      "Epoch 21, Loss: 0.6931, Precision@10: 0.2824, Recall@10: 1.0000, NDCG@10: 0.4918\n"
     ]
    },
    {
     "name": "stderr",
     "output_type": "stream",
     "text": [
      "Evaluating: 100%|██████████| 1000/1000 [00:00<00:00, 1383.31it/s]\n"
     ]
    },
    {
     "name": "stdout",
     "output_type": "stream",
     "text": [
      "Epoch 22, Loss: 0.6931, Precision@10: 0.2903, Recall@10: 1.0000, NDCG@10: 0.4985\n"
     ]
    },
    {
     "name": "stderr",
     "output_type": "stream",
     "text": [
      "Evaluating: 100%|██████████| 1000/1000 [00:00<00:00, 1407.93it/s]\n"
     ]
    },
    {
     "name": "stdout",
     "output_type": "stream",
     "text": [
      "Epoch 23, Loss: 0.6931, Precision@10: 0.2935, Recall@10: 1.0000, NDCG@10: 0.4997\n"
     ]
    },
    {
     "name": "stderr",
     "output_type": "stream",
     "text": [
      "Evaluating: 100%|██████████| 1000/1000 [00:00<00:00, 1403.30it/s]\n"
     ]
    },
    {
     "name": "stdout",
     "output_type": "stream",
     "text": [
      "Epoch 24, Loss: 0.6931, Precision@10: 0.3017, Recall@10: 0.9998, NDCG@10: 0.5070\n"
     ]
    },
    {
     "name": "stderr",
     "output_type": "stream",
     "text": [
      "Evaluating: 100%|██████████| 1000/1000 [00:00<00:00, 1384.67it/s]\n"
     ]
    },
    {
     "name": "stdout",
     "output_type": "stream",
     "text": [
      "Epoch 25, Loss: 0.6931, Precision@10: 0.2826, Recall@10: 0.9999, NDCG@10: 0.4935\n"
     ]
    },
    {
     "name": "stderr",
     "output_type": "stream",
     "text": [
      "Evaluating: 100%|██████████| 1000/1000 [00:00<00:00, 1392.56it/s]\n"
     ]
    },
    {
     "name": "stdout",
     "output_type": "stream",
     "text": [
      "Epoch 26, Loss: 0.6931, Precision@10: 0.2916, Recall@10: 1.0000, NDCG@10: 0.4993\n"
     ]
    },
    {
     "name": "stderr",
     "output_type": "stream",
     "text": [
      "Evaluating: 100%|██████████| 1000/1000 [00:00<00:00, 1375.65it/s]\n"
     ]
    },
    {
     "name": "stdout",
     "output_type": "stream",
     "text": [
      "Epoch 27, Loss: 0.6931, Precision@10: 0.2841, Recall@10: 1.0000, NDCG@10: 0.4933\n"
     ]
    },
    {
     "name": "stderr",
     "output_type": "stream",
     "text": [
      "Evaluating: 100%|██████████| 1000/1000 [00:00<00:00, 1389.71it/s]\n"
     ]
    },
    {
     "name": "stdout",
     "output_type": "stream",
     "text": [
      "Epoch 28, Loss: 0.6931, Precision@10: 0.2931, Recall@10: 0.9998, NDCG@10: 0.5004\n"
     ]
    },
    {
     "name": "stderr",
     "output_type": "stream",
     "text": [
      "Evaluating: 100%|██████████| 1000/1000 [00:00<00:00, 1399.77it/s]\n"
     ]
    },
    {
     "name": "stdout",
     "output_type": "stream",
     "text": [
      "Epoch 29, Loss: 0.6931, Precision@10: 0.2925, Recall@10: 0.9998, NDCG@10: 0.4993\n"
     ]
    },
    {
     "name": "stderr",
     "output_type": "stream",
     "text": [
      "Evaluating: 100%|██████████| 1000/1000 [00:00<00:00, 1404.07it/s]\n"
     ]
    },
    {
     "name": "stdout",
     "output_type": "stream",
     "text": [
      "Epoch 30, Loss: 0.6931, Precision@10: 0.2939, Recall@10: 0.9999, NDCG@10: 0.5011\n"
     ]
    },
    {
     "name": "stderr",
     "output_type": "stream",
     "text": [
      "Evaluating: 100%|██████████| 1000/1000 [00:00<00:00, 1382.97it/s]\n"
     ]
    },
    {
     "name": "stdout",
     "output_type": "stream",
     "text": [
      "Epoch 31, Loss: 0.6931, Precision@10: 0.2902, Recall@10: 1.0000, NDCG@10: 0.4979\n"
     ]
    },
    {
     "name": "stderr",
     "output_type": "stream",
     "text": [
      "Evaluating: 100%|██████████| 1000/1000 [00:00<00:00, 1393.84it/s]\n"
     ]
    },
    {
     "name": "stdout",
     "output_type": "stream",
     "text": [
      "Epoch 32, Loss: 0.6931, Precision@10: 0.2925, Recall@10: 1.0000, NDCG@10: 0.5012\n"
     ]
    },
    {
     "name": "stderr",
     "output_type": "stream",
     "text": [
      "Evaluating: 100%|██████████| 1000/1000 [00:00<00:00, 1374.83it/s]\n"
     ]
    },
    {
     "name": "stdout",
     "output_type": "stream",
     "text": [
      "Epoch 33, Loss: 0.6931, Precision@10: 0.2874, Recall@10: 1.0000, NDCG@10: 0.4963\n"
     ]
    },
    {
     "name": "stderr",
     "output_type": "stream",
     "text": [
      "Evaluating: 100%|██████████| 1000/1000 [00:00<00:00, 1395.82it/s]\n"
     ]
    },
    {
     "name": "stdout",
     "output_type": "stream",
     "text": [
      "Epoch 34, Loss: 0.6931, Precision@10: 0.2912, Recall@10: 0.9998, NDCG@10: 0.4984\n"
     ]
    },
    {
     "name": "stderr",
     "output_type": "stream",
     "text": [
      "Evaluating: 100%|██████████| 1000/1000 [00:00<00:00, 1409.65it/s]\n"
     ]
    },
    {
     "name": "stdout",
     "output_type": "stream",
     "text": [
      "Epoch 35, Loss: 0.6931, Precision@10: 0.2837, Recall@10: 0.9999, NDCG@10: 0.4941\n"
     ]
    },
    {
     "name": "stderr",
     "output_type": "stream",
     "text": [
      "Evaluating: 100%|██████████| 1000/1000 [00:00<00:00, 1405.57it/s]\n"
     ]
    },
    {
     "name": "stdout",
     "output_type": "stream",
     "text": [
      "Epoch 36, Loss: 0.6931, Precision@10: 0.2884, Recall@10: 1.0000, NDCG@10: 0.4981\n"
     ]
    },
    {
     "name": "stderr",
     "output_type": "stream",
     "text": [
      "Evaluating: 100%|██████████| 1000/1000 [00:00<00:00, 1405.65it/s]\n"
     ]
    },
    {
     "name": "stdout",
     "output_type": "stream",
     "text": [
      "Epoch 37, Loss: 0.6931, Precision@10: 0.2901, Recall@10: 0.9998, NDCG@10: 0.4977\n"
     ]
    },
    {
     "name": "stderr",
     "output_type": "stream",
     "text": [
      "Evaluating: 100%|██████████| 1000/1000 [00:00<00:00, 1396.04it/s]\n"
     ]
    },
    {
     "name": "stdout",
     "output_type": "stream",
     "text": [
      "Epoch 38, Loss: 0.6931, Precision@10: 0.2871, Recall@10: 0.9998, NDCG@10: 0.4970\n"
     ]
    },
    {
     "name": "stderr",
     "output_type": "stream",
     "text": [
      "Evaluating: 100%|██████████| 1000/1000 [00:00<00:00, 1362.71it/s]\n"
     ]
    },
    {
     "name": "stdout",
     "output_type": "stream",
     "text": [
      "Epoch 39, Loss: 0.6931, Precision@10: 0.2898, Recall@10: 0.9998, NDCG@10: 0.4973\n"
     ]
    },
    {
     "name": "stderr",
     "output_type": "stream",
     "text": [
      "Evaluating: 100%|██████████| 1000/1000 [00:00<00:00, 1404.62it/s]\n"
     ]
    },
    {
     "name": "stdout",
     "output_type": "stream",
     "text": [
      "Epoch 40, Loss: 0.6931, Precision@10: 0.2692, Recall@10: 0.9998, NDCG@10: 0.4854\n"
     ]
    },
    {
     "name": "stderr",
     "output_type": "stream",
     "text": [
      "Evaluating: 100%|██████████| 1000/1000 [00:00<00:00, 1370.61it/s]\n"
     ]
    },
    {
     "name": "stdout",
     "output_type": "stream",
     "text": [
      "Epoch 41, Loss: 0.6931, Precision@10: 0.2921, Recall@10: 0.9999, NDCG@10: 0.5010\n"
     ]
    },
    {
     "name": "stderr",
     "output_type": "stream",
     "text": [
      "Evaluating: 100%|██████████| 1000/1000 [00:00<00:00, 1407.13it/s]\n"
     ]
    },
    {
     "name": "stdout",
     "output_type": "stream",
     "text": [
      "Epoch 42, Loss: 0.6931, Precision@10: 0.2903, Recall@10: 0.9996, NDCG@10: 0.4999\n"
     ]
    },
    {
     "name": "stderr",
     "output_type": "stream",
     "text": [
      "Evaluating: 100%|██████████| 1000/1000 [00:00<00:00, 1387.76it/s]\n"
     ]
    },
    {
     "name": "stdout",
     "output_type": "stream",
     "text": [
      "Epoch 43, Loss: 0.6931, Precision@10: 0.2855, Recall@10: 0.9997, NDCG@10: 0.4952\n"
     ]
    },
    {
     "name": "stderr",
     "output_type": "stream",
     "text": [
      "Evaluating: 100%|██████████| 1000/1000 [00:00<00:00, 1401.99it/s]\n"
     ]
    },
    {
     "name": "stdout",
     "output_type": "stream",
     "text": [
      "Epoch 44, Loss: 0.6931, Precision@10: 0.2911, Recall@10: 0.9997, NDCG@10: 0.4985\n"
     ]
    },
    {
     "name": "stderr",
     "output_type": "stream",
     "text": [
      "Evaluating: 100%|██████████| 1000/1000 [00:00<00:00, 1388.26it/s]\n"
     ]
    },
    {
     "name": "stdout",
     "output_type": "stream",
     "text": [
      "Epoch 45, Loss: 0.6931, Precision@10: 0.2836, Recall@10: 0.9999, NDCG@10: 0.4937\n"
     ]
    },
    {
     "name": "stderr",
     "output_type": "stream",
     "text": [
      "Evaluating: 100%|██████████| 1000/1000 [00:00<00:00, 1407.21it/s]\n"
     ]
    },
    {
     "name": "stdout",
     "output_type": "stream",
     "text": [
      "Epoch 46, Loss: 0.6931, Precision@10: 0.2942, Recall@10: 0.9999, NDCG@10: 0.5007\n"
     ]
    },
    {
     "name": "stderr",
     "output_type": "stream",
     "text": [
      "Evaluating: 100%|██████████| 1000/1000 [00:00<00:00, 1404.28it/s]\n"
     ]
    },
    {
     "name": "stdout",
     "output_type": "stream",
     "text": [
      "Epoch 47, Loss: 0.6931, Precision@10: 0.2886, Recall@10: 0.9997, NDCG@10: 0.4969\n"
     ]
    },
    {
     "name": "stderr",
     "output_type": "stream",
     "text": [
      "Evaluating: 100%|██████████| 1000/1000 [00:00<00:00, 1397.64it/s]\n"
     ]
    },
    {
     "name": "stdout",
     "output_type": "stream",
     "text": [
      "Epoch 48, Loss: 0.6931, Precision@10: 0.2911, Recall@10: 0.9997, NDCG@10: 0.4985\n"
     ]
    },
    {
     "name": "stderr",
     "output_type": "stream",
     "text": [
      "Evaluating: 100%|██████████| 1000/1000 [00:00<00:00, 1408.88it/s]\n"
     ]
    },
    {
     "name": "stdout",
     "output_type": "stream",
     "text": [
      "Epoch 49, Loss: 0.6931, Precision@10: 0.2947, Recall@10: 0.9999, NDCG@10: 0.5024\n"
     ]
    },
    {
     "name": "stderr",
     "output_type": "stream",
     "text": [
      "Evaluating: 100%|██████████| 1000/1000 [00:00<00:00, 1393.29it/s]\n"
     ]
    },
    {
     "name": "stdout",
     "output_type": "stream",
     "text": [
      "Epoch 50, Loss: 0.6931, Precision@10: 0.2948, Recall@10: 0.9998, NDCG@10: 0.5024\n",
      "Model saved to trained_recommender_model.pth\n"
     ]
    },
    {
     "data": {
      "image/png": "[encoded data removed]",
      "text/plain": [
       "<Figure size 1000x500 with 1 Axes>"
      ]
     },
     "metadata": {},
     "output_type": "display_data"
    },
    {
     "data": {
      "image/png": "[encoded data removed]",
      "text/plain": [
       "<Figure size 1500x500 with 3 Axes>"
      ]
     },
     "metadata": {},
     "output_type": "display_data"
    },
    {
     "name": "stdout",
     "output_type": "stream",
     "text": [
      "User 26085 - True items: [147939, 147948, 147941]\n",
      "Recommended items: [147948 147939 147941  86528 114176]\n",
      "==================================================\n",
      "User 13658 - True items: [382232, 382225, 382233]\n",
      "Recommended items: [382225 382232 382233  14347 187395]\n",
      "==================================================\n",
      "User 17616 - True items: [371682, 371683, 371684, 371685, 371689]\n",
      "Recommended items: [371683 371682 371684 371689 371685]\n",
      "==================================================\n",
      "User 11309 - True items: [93453]\n",
      "Recommended items: [330250  93453 323600 148523 230429]\n",
      "==================================================\n",
      "User 14912 - True items: [258947, 258949, 258936, 258938, 258942]\n",
      "Recommended items: [258949 258947 258936 258942 258938]\n",
      "==================================================\n"
     ]
    }
   ],
   "source": [
    "import os\n",
    "import numpy as np\n",
    "import pandas as pd\n",
    "import torch\n",
    "import torch.nn as nn\n",
    "import torch.optim as optim\n",
    "import torch.nn.functional as F\n",
    "from torch_geometric.data import Data\n",
    "from torch_geometric.nn import GATConv, SAGEConv\n",
    "from sklearn.model_selection import train_test_split\n",
    "from tqdm import tqdm\n",
    "import matplotlib.pyplot as plt\n",
    "import random\n",
    "\n",
    "# Step 1: Load and Prepare Features\n",
    "def load_all_features(features_dir, user_item_df):\n",
    "    feature_list, user_list = [], []\n",
    "    path_to_user = dict(zip(user_item_df['Item_Path'], user_item_df['User_ID']))\n",
    "\n",
    "    for feature_file in sorted(os.listdir(features_dir)):\n",
    "        if feature_file.startswith('features_chunk_') and feature_file.endswith('.npy'):\n",
    "            features = np.load(os.path.join(features_dir, feature_file))\n",
    "            feature_list.append(features)\n",
    "\n",
    "            chunk_num = feature_file.split('_')[2].split('.')[0]\n",
    "            paths_file = f'paths_chunk_{chunk_num}.csv'\n",
    "            paths_df = pd.read_csv(os.path.join(features_dir, paths_file))\n",
    "            item_paths = paths_df['Image_Path'].tolist()\n",
    "\n",
    "            user_ids_chunk = [path_to_user.get(path) for path in item_paths if path in path_to_user]\n",
    "            valid_indices = [i for i, uid in enumerate(user_ids_chunk) if uid is not None]\n",
    "            features = features[valid_indices]\n",
    "            feature_list[-1] = features\n",
    "            user_list.extend(user_ids_chunk)\n",
    "\n",
    "    return np.vstack(feature_list), np.array(user_list)\n",
    "\n",
    "features_dir = '/content/maryland_polyvore/features'\n",
    "user_item_file = '/content/maryland_polyvore/user_item_data.csv'\n",
    "user_item_df = pd.read_csv(user_item_file)\n",
    "\n",
    "item_features, user_ids = load_all_features(features_dir, user_item_df)\n",
    "num_users = len(set(user_ids))\n",
    "num_items = item_features.shape[0]\n",
    "\n",
    "# Step 2: Create User and Item Mappings\n",
    "user_to_index = {user_id: idx for idx, user_id in enumerate(set(user_ids))}\n",
    "all_features = np.vstack([np.zeros((num_users, item_features.shape[1])), item_features])\n",
    "all_features_tensor = torch.tensor(all_features, dtype=torch.float)\n",
    "\n",
    "def create_edge_index(user_ids, user_to_index, num_users):\n",
    "    edges = [[user_to_index[uid], idx + num_users] for idx, uid in enumerate(user_ids)]\n",
    "    return torch.tensor(edges, dtype=torch.long).t().contiguous()\n",
    "\n",
    "edge_index = create_edge_index(user_ids, user_to_index, num_users)\n",
    "graph_data = Data(x=all_features_tensor, edge_index=edge_index)\n",
    "\n",
    "# Split edge_index into training and testing sets\n",
    "def split_edges(edge_index, test_ratio=0.2):\n",
    "    edges = edge_index.t().cpu().numpy()\n",
    "    train_edges, test_edges = train_test_split(edges, test_size=test_ratio, random_state=42)\n",
    "    train_edge_index = torch.tensor(train_edges, dtype=torch.long).t().contiguous()\n",
    "    test_edge_index = torch.tensor(test_edges, dtype=torch.long).t().contiguous()\n",
    "    return train_edge_index, test_edge_index\n",
    "\n",
    "train_edge_index, test_edge_index = split_edges(edge_index)\n",
    "\n",
    "# Step 3: Enhanced Model Definition\n",
    "class EnhancedGNNRecommender(nn.Module):\n",
    "    def __init__(self, input_dim, hidden_dim, num_layers, num_users, num_items, dropout=0.3, use_attention=True):\n",
    "        super(EnhancedGNNRecommender, self).__init__()\n",
    "        self.num_users = num_users\n",
    "        self.num_items = num_items\n",
    "        self.use_attention = use_attention\n",
    "\n",
    "        # Define GNN layers\n",
    "        self.convs = nn.ModuleList()\n",
    "        if use_attention:\n",
    "            self.convs.append(GATConv(input_dim, hidden_dim, heads=2, concat=False))\n",
    "            for _ in range(num_layers - 1):\n",
    "                self.convs.append(GATConv(hidden_dim, hidden_dim, heads=2, concat=False))\n",
    "        else:\n",
    "            self.convs.append(SAGEConv(input_dim, hidden_dim))\n",
    "            for _ in range(num_layers - 1):\n",
    "                self.convs.append(SAGEConv(hidden_dim, hidden_dim))\n",
    "\n",
    "        self.dropout = nn.Dropout(dropout)\n",
    "        self.layer_norms = nn.ModuleList([nn.LayerNorm(hidden_dim) for _ in range(num_layers)])\n",
    "\n",
    "    def forward(self, data):\n",
    "        x, edge_index = data.x.to(device), data.edge_index.to(device)\n",
    "\n",
    "        for i, conv in enumerate(self.convs):\n",
    "            x = conv(x, edge_index)\n",
    "            x = self.layer_norms[i](x)\n",
    "            x = F.relu(x)\n",
    "            x = self.dropout(x)\n",
    "\n",
    "        user_embeddings = x[:self.num_users]\n",
    "        item_embeddings = x[self.num_users:]\n",
    "        return user_embeddings, item_embeddings\n",
    "\n",
    "# Instantiate model\n",
    "device = torch.device('cuda' if torch.cuda.is_available() else 'cpu')\n",
    "input_dim = item_features.shape[1]\n",
    "hidden_dim = 128\n",
    "num_layers = 3\n",
    "dropout = 0.3\n",
    "model = EnhancedGNNRecommender(input_dim, hidden_dim, num_layers, num_users, num_items, dropout, use_attention=True).to(device)\n",
    "optimizer = optim.Adam(model.parameters(), lr=0.001, weight_decay=1e-5)\n",
    "\n",
    "# Step 4: Training Function\n",
    "def train(model, optimizer, data, train_user_item_dict):\n",
    "    model.train()\n",
    "    optimizer.zero_grad()\n",
    "    user_emb, item_emb = model(data)\n",
    "\n",
    "    pos_users, pos_items, neg_items = [], [], []\n",
    "    for user_idx, pos_items_set in train_user_item_dict.items():\n",
    "        for pos_item in pos_items_set:\n",
    "            pos_users.append(user_idx)\n",
    "            pos_items.append(pos_item)\n",
    "            while True:\n",
    "                neg_item = np.random.randint(0, num_items)\n",
    "                if neg_item not in pos_items_set:\n",
    "                    neg_items.append(neg_item)\n",
    "                    break\n",
    "\n",
    "    pos_users, pos_items, neg_items = map(lambda x: torch.tensor(x, dtype=torch.long, device=device), [pos_users, pos_items, neg_items])\n",
    "    pos_user_emb, pos_item_emb, neg_item_emb = user_emb[pos_users], item_emb[pos_items], item_emb[neg_items]\n",
    "    pos_scores, neg_scores = (pos_user_emb * pos_item_emb).sum(dim=1), (pos_user_emb * neg_item_emb).sum(dim=1)\n",
    "\n",
    "    loss = -torch.log(torch.sigmoid(pos_scores - neg_scores)).mean()\n",
    "    loss.backward()\n",
    "    optimizer.step()\n",
    "    return loss.item()\n",
    "\n",
    "# Step 5: Evaluation Function\n",
    "def evaluate(model, data, test_user_item_dict, k=10, num_negatives=100, max_users=1000):\n",
    "    model.eval()\n",
    "    with torch.no_grad():\n",
    "        user_emb, item_emb = model(data)\n",
    "        precisions, recalls, ndcgs = [], [], []\n",
    "        user_list = list(test_user_item_dict.keys())\n",
    "        if max_users < len(user_list):\n",
    "            user_list = np.random.choice(user_list, size=max_users, replace=False)\n",
    "\n",
    "        for user_idx in tqdm(user_list, desc='Evaluating'):\n",
    "            true_items = list(test_user_item_dict[user_idx])\n",
    "            neg_items = sample_negative_items(set(true_items), num_items, num_negatives)\n",
    "            items_to_score = np.array(true_items + neg_items)\n",
    "\n",
    "            items_emb = item_emb[items_to_score]\n",
    "            scores = torch.matmul(items_emb, user_emb[user_idx])\n",
    "            _, indices = torch.topk(scores, k)\n",
    "            recommended_items = items_to_score[indices.cpu().numpy()]\n",
    "\n",
    "            hits = np.isin(recommended_items, true_items)\n",
    "            precision, recall = hits.sum() / k, hits.sum() / len(true_items)\n",
    "            precisions.append(precision)\n",
    "            recalls.append(recall)\n",
    "            dcg = (hits / np.log2(np.arange(2, hits.size + 2))).sum()\n",
    "            idcg = (1 / np.log2(np.arange(2, min(len(true_items), k) + 2))).sum()\n",
    "            ndcgs.append(dcg / idcg if idcg > 0 else 0.0)\n",
    "\n",
    "        return np.mean(precisions), np.mean(recalls), np.mean(ndcgs)\n",
    "\n",
    "# Step 6: Training Loop\n",
    "def prepare_train_test(user_ids, num_users, train_edge_index, test_edge_index):\n",
    "    train_user_item_dict, test_user_item_dict = {}, {}\n",
    "    for i in range(train_edge_index.size(1)):\n",
    "        user_idx, item_idx = train_edge_index[0, i].item(), train_edge_index[1, i].item() - num_users\n",
    "        train_user_item_dict.setdefault(user_idx, set()).add(item_idx)\n",
    "\n",
    "    for i in range(test_edge_index.size(1)):\n",
    "        user_idx, item_idx = test_edge_index[0, i].item(), test_edge_index[1, i].item() - num_users\n",
    "        test_user_item_dict.setdefault(user_idx, set()).add(item_idx)\n",
    "\n",
    "    return train_user_item_dict, test_user_item_dict\n",
    "\n",
    "num_epochs = 50\n",
    "train_user_item_dict, test_user_item_dict = prepare_train_test(user_ids, num_users, train_edge_index, test_edge_index)\n",
    "\n",
    "losses = []\n",
    "precisions = []\n",
    "recalls = []\n",
    "ndcgs = []\n",
    "\n",
    "for epoch in range(1, num_epochs + 1):\n",
    "    loss = train(model, optimizer, graph_data.to(device), train_user_item_dict)\n",
    "    precision, recall, ndcg = evaluate(model, graph_data, test_user_item_dict)\n",
    "    losses.append(loss)\n",
    "    precisions.append(precision)\n",
    "    recalls.append(recall)\n",
    "    ndcgs.append(ndcg)\n",
    "    print(f\"Epoch {epoch}, Loss: {loss:.4f}, Precision@10: {precision:.4f}, Recall@10: {recall:.4f}, NDCG@10: {ndcg:.4f}\")\n",
    "\n",
    "# Save the trained model\n",
    "model_path = 'trained_recommender_model.pth'\n",
    "torch.save(model.state_dict(), model_path)\n",
    "print(f\"Model saved to {model_path}\")\n",
    "\n",
    "# Plotting functions\n",
    "def plot_metrics():\n",
    "    # Plot loss\n",
    "    plt.figure(figsize=(10, 5))\n",
    "    plt.plot(range(1, num_epochs + 1), losses, label='Loss')\n",
    "    plt.xlabel(\"Epoch\")\n",
    "    plt.ylabel(\"Loss\")\n",
    "    plt.title(\"Training Loss over Epochs\")\n",
    "    plt.legend()\n",
    "    plt.show()\n",
    "\n",
    "    # Plot Precision, Recall, and NDCG\n",
    "    plt.figure(figsize=(15, 5))\n",
    "    plt.subplot(1, 3, 1)\n",
    "    plt.plot(range(1, num_epochs + 1), precisions, label='Precision@10', color='blue')\n",
    "    plt.xlabel(\"Epoch\")\n",
    "    plt.ylabel(\"Precision@10\")\n",
    "    plt.title(\"Precision@10 over Epochs\")\n",
    "    plt.legend()\n",
    "\n",
    "    plt.subplot(1, 3, 2)\n",
    "    plt.plot(range(1, num_epochs + 1), recalls, label='Recall@10', color='green')\n",
    "    plt.xlabel(\"Epoch\")\n",
    "    plt.ylabel(\"Recall@10\")\n",
    "    plt.title(\"Recall@10 over Epochs\")\n",
    "    plt.legend()\n",
    "\n",
    "    plt.subplot(1, 3, 3)\n",
    "    plt.plot(range(1, num_epochs + 1), ndcgs, label='NDCG@10', color='red')\n",
    "    plt.xlabel(\"Epoch\")\n",
    "    plt.ylabel(\"NDCG@10\")\n",
    "    plt.title(\"NDCG@10 over Epochs\")\n",
    "    plt.legend()\n",
    "    plt.tight_layout()\n",
    "    plt.show()\n",
    "\n",
    "plot_metrics()\n",
    "\n",
    "# Random Recommendations for Sample Users\n",
    "def show_recommendations_for_random_users(model, data, test_user_item_dict, num_recommendations=5, num_users=5):\n",
    "    model.eval()\n",
    "    with torch.no_grad():\n",
    "        user_emb, item_emb = model(data)\n",
    "\n",
    "        sampled_users = random.sample(list(test_user_item_dict.keys()), num_users)\n",
    "        for user_idx in sampled_users:\n",
    "            true_items = list(test_user_item_dict[user_idx])\n",
    "            neg_items = sample_negative_items(set(true_items), num_items, num_negatives=100)\n",
    "            items_to_score = np.array(true_items + neg_items)\n",
    "\n",
    "            # Calculate scores and get top recommendations\n",
    "            items_emb = item_emb[items_to_score]\n",
    "            scores = torch.matmul(items_emb, user_emb[user_idx])\n",
    "            _, top_indices = torch.topk(scores, k=num_recommendations)\n",
    "            recommended_items = items_to_score[top_indices.cpu().numpy()]\n",
    "\n",
    "            print(f\"User {user_idx} - True items: {true_items}\")\n",
    "            print(f\"Recommended items: {recommended_items}\")\n",
    "            print(\"=\" * 50)\n",
    "\n",
    "show_recommendations_for_random_users(model, graph_data, test_user_item_dict)"
   ]
  },
  {
   "cell_type": "code",
   "execution_count": null,
   "metadata": {
    "id": "jG0WxZVnCJQ3"
   },
   "outputs": [],
   "source": []
  }
 ],
 "metadata": {
  "accelerator": "GPU",
  "colab": {
   "gpuType": "A100",
   "machine_shape": "hm",
   "provenance": []
  },
  "kernelspec": {
   "display_name": "base",
   "language": "python",
   "name": "python3"
  },
  "language_info": {
   "name": "python",
   "version": "3.11.5"
  }
 },
 "nbformat": 4,
 "nbformat_minor": 0
}
